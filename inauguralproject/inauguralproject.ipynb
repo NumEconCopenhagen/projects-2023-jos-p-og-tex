{
 "cells": [
  {
   "attachments": {},
   "cell_type": "markdown",
   "metadata": {},
   "source": [
    "# Inaugural Project - by Josefine, Viktor and Pernille"
   ]
  },
  {
   "attachments": {},
   "cell_type": "markdown",
   "metadata": {},
   "source": [
    "> **Table of contents** \n",
    "> 1. Import and set magics\n",
    "> 1. Solving questions 1-5\n",
    "> 1. Conclusion\n"
   ]
  },
  {
   "attachments": {},
   "cell_type": "markdown",
   "metadata": {},
   "source": [
    "\n",
    "\n",
    "*Imports and set magics*:"
   ]
  },
  {
   "cell_type": "code",
   "execution_count": null,
   "metadata": {},
   "outputs": [],
   "source": [
    "import numpy as np\n",
    "import matplotlib.pyplot as plt\n",
    "\n",
    "# Predefine options for all plots\n",
    "plt.rcParams.update({\"axes.grid\":True,\"grid.color\":\"black\",\"grid.alpha\":\"0.25\",\"grid.linestyle\":\"-\"})\n",
    "plt.rcParams.update({'font.size': 14})\n",
    "\n",
    "# autoreload modules when code is run. Otherwise, python will not see recent changes. \n",
    "%load_ext autoreload\n",
    "%autoreload 2\n",
    "\n",
    "# Importing our own code\n",
    "from inauguralproject import HouseholdSpecializationModelClass\n",
    "model = HouseholdSpecializationModelClass()"
   ]
  },
  {
   "attachments": {},
   "cell_type": "markdown",
   "metadata": {},
   "source": [
    "# Question 1"
   ]
  },
  {
   "attachments": {},
   "cell_type": "markdown",
   "metadata": {},
   "source": [
    "We illustrate how the following expression changes with varying alpha and sigma values, assuming that the choice set for the model is discrete i.e. in half hours. $$ \\frac{H_F}{H_M} $$  "
   ]
  },
  {
   "attachments": {},
   "cell_type": "markdown",
   "metadata": {},
   "source": [
    "The expression depicts the relationship for home production between females and males. We solve question 1:"
   ]
  },
  {
   "cell_type": "code",
   "execution_count": null,
   "metadata": {},
   "outputs": [],
   "source": [
    "# We define lists for the varying alpha and sigma values\n",
    "alpha_list = [0.25, 0.5, 0.75]\n",
    "sigma_list = [0.5, 1.0, 1.5]\n",
    "resultsx = {}\n",
    "\n",
    "# We solve the model using the defined lists of values for sigma and alpha\n",
    "for alpha in alpha_list:    \n",
    "    for sigma in sigma_list:\n",
    "        \n",
    "        # Assigning values to alpha and sigma\n",
    "        model.par.alpha = alpha\n",
    "        model.par.sigma = sigma\n",
    "\n",
    "        # Solving the model\n",
    "        opt = model.solve_discrete()\n",
    "        resultsx[(alpha, sigma)] = opt.HF / opt.HM\n",
    "\n",
    "        # Print results\n",
    "        if opt.HM != 0:\n",
    "            print(f\"alpha = {alpha:.2f}, sigma = {sigma:.2f} -> HF/HM = {opt.HF:.2f}/{opt.HM:.2f} = {opt.HF/opt.HM:.2f}\")\n",
    "        else:\n",
    "            print(f\"alpha = {alpha:.2f}, sigma = {sigma:.2f} -> HF/HM = {opt.HF:.2f}/{opt.HM:.2f} (division by zero)\")\n",
    "\n",
    "# Plotting optimal HF/HM against alpha for each sigma using a loop\n",
    "fig = plt.figure(figsize = (6,4))\n",
    "ax = fig.add_subplot(1,1,1)\n",
    "\n",
    "# We loop over sigma-values\n",
    "for sigma in sigma_list:\n",
    "    y = [resultsx[(alpha, sigma)] for alpha in alpha_list]\n",
    "    ax.plot(alpha_list, y, label=f'$\\sigma$={sigma}')\n",
    "\n",
    "ax.set_xlabel('$\\\\alpha$')\n",
    "ax.set_ylabel('$H_F/H_M$')\n",
    "ax.set_title('$H_F/H_M$ as function of $\\\\alpha$ and $\\sigma$')\n",
    "ax.legend(prop={'size': 10})\n",
    "plt.show()"
   ]
  },
  {
   "attachments": {},
   "cell_type": "markdown",
   "metadata": {},
   "source": [
    "We know that in the model *alpha* represents how productive the female is in the household relative to the male, and *sigma* represents the elasticity of substitution. \n",
    "\n",
    "We conclude the following:\n",
    "\n",
    "- For alpha = 0.5 the male and female are equally productive and sigma has no effect, since there is no gain in substituting between home production performed by the male compared to the female or opposite.\n",
    "- For alpha > 0.5 the female is more productive, and for wF = wM = 1, the female will work more hours in the household compared to the male. \n",
    "- For alpha < 0.5 the female is less productive, and for wF = wM = 1, the female will work less hours in the household compared to the male.\n",
    "- The higher the value of sigma, the easier it is to substitute between hours worked by the male and female in the home. Thus, if alpha is larger than 0.5 the ratio is larger the higher value sigma has. If alpha is below 0.5 the ratio is lower. This is because the couple would be able to defer more hours worked at home to the more productive member of the couple."
   ]
  },
  {
   "attachments": {},
   "cell_type": "markdown",
   "metadata": {},
   "source": [
    "# Question 2"
   ]
  },
  {
   "attachments": {},
   "cell_type": "markdown",
   "metadata": {},
   "source": [
    "We plot the following logaritmic functions against eachother using varying values for female wage: $$ log\\frac{H_F}{H_M} \\\\\\ \\\\\\ log\\frac{w_F}{w_M}$$ "
   ]
  },
  {
   "attachments": {},
   "cell_type": "markdown",
   "metadata": {},
   "source": [
    "Our model is still based upon the assumption of a discrete choice set. \n",
    "\n",
    "We solve question 2:"
   ]
  },
  {
   "cell_type": "code",
   "execution_count": null,
   "metadata": {},
   "outputs": [],
   "source": [
    "# We define a new model = model2 to overwrite changes made in previous questions\n",
    "model2 = HouseholdSpecializationModelClass()\n",
    "\n",
    "# We create empty lists to store values of the logaritmic relationships for wage and home production.\n",
    "w_log = []\n",
    "H_log = []\n",
    "\n",
    "# We create a for-loop \n",
    "for wF in model2.par.wF_vec:\n",
    "        \n",
    "        # Assigning the value to the female wage\n",
    "        model2.par.wF = wF\n",
    "\n",
    "        # Solving the model and saving the results in the lists\n",
    "        opt = model2.solve_discrete()\n",
    "        w_log.append(np.log(model2.par.wF/model2.par.wM))\n",
    "        H_log.append(np.log(opt.HF/opt.HM))\n",
    "\n",
    "        # Printing the results\n",
    "        print(f\"wF = {wF:.2f} -> HF/HM = {opt.HF:.2f}/{opt.HM:.2f} = {opt.HF/opt.HM:.3f}\")\n",
    "\n",
    "# We plot the results\n",
    "fig1 = plt.figure(figsize = (6,4))\n",
    "ax = fig1.add_subplot(1,1,1)\n",
    "\n",
    "ax.plot(w_log,H_log,ls='-',lw=2,color='blue')\n",
    "\n",
    "ax.set_xlabel('$ log(w_F/w_M) $')\n",
    "ax.set_ylabel('$ log(H_F/H_M) $')\n",
    "ax.set_title('Relationship between home production and wages \\n - discrete choice set');\n"
   ]
  },
  {
   "attachments": {},
   "cell_type": "markdown",
   "metadata": {},
   "source": [
    "**Figure 1** illustrates that the ratio HF/HM is decreasing in wF/wM. It depicts the relationsship between log of the relative homeproduction and log of relative wages. The plot showcases, that when the wage ratio increases, then the home production performed by the female in the household decreases. This occurs, since it is more optimal for the female to work in the market, since she gets a relatively higher wage.\n",
    "\n",
    "However, due to the assumption of discrete time, we see that for $w_F = 0.9$ and $w_F = 1.0$ there is no change in the ratio, as the optimal new choice for home production is changed by a smaller amount than is possible when the choice set is discrete. In the following question this minor error is cleared, when we do the same task with an assumption of continous time. "
   ]
  },
  {
   "attachments": {},
   "cell_type": "markdown",
   "metadata": {},
   "source": [
    "# Question 3"
   ]
  },
  {
   "attachments": {},
   "cell_type": "markdown",
   "metadata": {},
   "source": [
    "Now we assume that time is continous rather than discrete. This means that there are infinitely many choice set possibilities. \n",
    "\n",
    "Again we plot the following logaritmic functions against each other using varying values for female wage: $$ log\\frac{H_F}{H_M} \\\\\\ \\\\\\ log\\frac{w_F}{w_M}$$ \n",
    "\n",
    "We solve question 3:"
   ]
  },
  {
   "cell_type": "code",
   "execution_count": null,
   "metadata": {},
   "outputs": [],
   "source": [
    "# We define a new model = model3 to overwrite changes made in the previous questions\n",
    "model3 = HouseholdSpecializationModelClass()\n",
    "\n",
    "# We create empty lists to store values of the logaritmic relationships for wage and home production.\n",
    "w_log2 = []\n",
    "H_log2 = []\n",
    "\n",
    "# We create a for loop \n",
    "for wF in model3.par.wF_vec:    \n",
    "\n",
    "        # Assigning the value to the female wage\n",
    "        model3.par.wF = wF\n",
    "\n",
    "        # Solving the model and saving the results in the lists\n",
    "        opt = model3.solve()\n",
    "        w_log2.append(np.log(model3.par.wF/model3.par.wM))\n",
    "        H_log2.append(np.log(opt.HF/opt.HM))\n",
    "\n",
    "        # Printing the results\n",
    "        print(f\"wF = {wF:.2f} -> HF/HM = {opt.HF:.2f}/{opt.HM:.2f} = {opt.HF/opt.HM:.3f}\")\n",
    "\n",
    "# We plot the results\n",
    "fig2 = plt.figure(figsize = (6,4))\n",
    "ax = fig2.add_subplot(1,1,1)\n",
    "\n",
    "ax.plot(w_log2,H_log2,ls='-',lw=2,color='blue')\n",
    "\n",
    "ax.set_xlabel('$ log(w_F/w_M) $')\n",
    "ax.set_ylabel('$ log(H_F/H_M) $')\n",
    "ax.set_title('Relationship between home production and wages \\n - continous choice set');\n",
    "\n"
   ]
  },
  {
   "attachments": {},
   "cell_type": "markdown",
   "metadata": {},
   "source": [
    "**Figure 2** illustrates the same results as in question 2, however due to the introduction of continous time the graph is much smoother. Furthermore, the results are also more precise.  "
   ]
  },
  {
   "attachments": {},
   "cell_type": "markdown",
   "metadata": {},
   "source": [
    "# Question 4"
   ]
  },
  {
   "attachments": {},
   "cell_type": "markdown",
   "metadata": {},
   "source": [
    "In Siminski and Yetsenga (2022), *Specialization, Comparative Advantage, and the Sexual Division of Labor*, the following regression is run on time use data of couples:\n",
    "\n",
    "$$ log\\frac{H_F}{H_M} = \\beta_0 + \\beta_1*log\\frac{w_F}{w_M}$$ "
   ]
  },
  {
   "attachments": {},
   "cell_type": "markdown",
   "metadata": {},
   "source": [
    "They estimate the beta values to be approximately.: $$ \\beta_0 = 0.4 $$ $$ \\beta_1 = -0.1 $$"
   ]
  },
  {
   "attachments": {},
   "cell_type": "markdown",
   "metadata": {},
   "source": [
    "We estimate values of alpha and sigma that gets us closest to the values found in Siminski and Yetsenga (2022). We do this by creating a for-loop that run through different values of sigma and alpha until it reaches the values that minimize the following expression:\n",
    "\n",
    " $$ (\\beta - \\hat{\\beta}_{0})^2 + (\\beta_1 - \\hat{\\beta}_{1})^2 $$"
   ]
  },
  {
   "cell_type": "code",
   "execution_count": null,
   "metadata": {},
   "outputs": [],
   "source": [
    "# We define a new model = model4 to overwrite changes made in the previous questions\n",
    "model4 = HouseholdSpecializationModelClass()\n",
    "\n",
    "# We define the minimum value of the expression as infinite and create an empty list to store the value of alpha and sigma, that minimize the result\n",
    "min_val = float('inf')\n",
    "min_args = []\n",
    "\n",
    "# We create loops to solve the model over varying values of alpha and sigma (ranging from 0 to 1)\n",
    "for alpha in range(1,101):\n",
    "    alpha = alpha/100.0    \n",
    "    for sigma in range(1,101):\n",
    "        sigma=sigma/100.0\n",
    "\n",
    "        # We assign the parameter values and define the target values for beta0 and beta1\n",
    "        model4.par.alpha = alpha\n",
    "        model4.par.sigma = sigma\n",
    "        beta0 = 0.4\n",
    "        beta1 = -0.1\n",
    "\n",
    "        # We run the regression for the different vector of ratios between home production and wages when the parameters vary\n",
    "        sol = model4.run_regression()\n",
    "\n",
    "        # We store the values that minimize the expression\n",
    "        val = (beta0-model4.sol.beta0)**2+(beta1-model4.sol.beta1)**2\n",
    "        if val<min_val:\n",
    "            min_val=val\n",
    "            min_args=[alpha,sigma]\n",
    "        elif val==min_val:\n",
    "            min_args.append(alpha)\n",
    "            min_args.append(sigma)\n",
    "\n",
    "\n",
    "# Printing the results\n",
    "print(min_val)\n",
    "print(min_args)"
   ]
  },
  {
   "attachments": {},
   "cell_type": "markdown",
   "metadata": {},
   "source": [
    "We check how the model matches the results from Siminski and Yetsenga (2022), when we set alpha and sigma as the values we find above:"
   ]
  },
  {
   "cell_type": "code",
   "execution_count": null,
   "metadata": {},
   "outputs": [],
   "source": [
    "model4.par.alpha=min_args[0]\n",
    "model4.par.sigma=min_args[1]\n",
    "sol = model4.run_regression()\n",
    "print(f\"beta0 = {model4.sol.beta0:.2f}, beta 1 = {model4.sol.beta1:.2f}\")"
   ]
  },
  {
   "attachments": {},
   "cell_type": "markdown",
   "metadata": {},
   "source": [
    "We can see that when we set alpha to the value 0.98 and sigma to the value 0.1, the optimal choices for the couple produces vectors of ratios between the home production and wages, that matches the results found by Siminski and Yetsenga (2022). \n",
    "\n",
    "This means that the female is very productive at home production relative to the male, and that the elasticity of substitution is relatively low."
   ]
  },
  {
   "attachments": {},
   "cell_type": "markdown",
   "metadata": {},
   "source": [
    "# Question 5"
   ]
  },
  {
   "attachments": {},
   "cell_type": "markdown",
   "metadata": {},
   "source": [
    "As an extension to the model, we add the possibility for the couple to have different preferences for who should work at home, which is independent of the relative wage. \n",
    "\n",
    "We thus introduce the parameter k, which is positive if the couple prefers that the woman works at home, whereas the expression below becomes positive if the preferences are met. k is negative if the couple prefers that the man works at home, whereas the expression below becomes positive if the preferences are met. If the couple is indifferent in their preferences, then the expression will be zero and the model will stay as it was. \n",
    "\n",
    "The extension to the model is:\n",
    "\n",
    "$$ +k*\\left(\\frac{HF}{HM}-\\frac{HM}{HF}\\right) $$"
   ]
  },
  {
   "cell_type": "code",
   "execution_count": null,
   "metadata": {},
   "outputs": [],
   "source": [
    "# We define a new model = model4 to overwrite changes made in the previous questions\n",
    "model5 = HouseholdSpecializationModelClass()\n",
    "\n",
    "# we store the results of the optimization to find the value of k to maximize utility in the extended model\n",
    "result = model5.optimalk()\n",
    "print(f\"k = {model5.par.k:.2f}, \\nbeta0 = {model5.sol.beta0:.2f}, \\nbeta1 = {model5.sol.beta1:.2f}\")"
   ]
  },
  {
   "attachments": {},
   "cell_type": "markdown",
   "metadata": {},
   "source": [
    "However, we see that the extension was not able to improve the models fit to the data, since the optimal results yield beta-values that are very far from what they find in Siminski and Yetsenga (2022)."
   ]
  },
  {
   "attachments": {},
   "cell_type": "markdown",
   "metadata": {},
   "source": [
    "# Conclusion"
   ]
  },
  {
   "attachments": {},
   "cell_type": "markdown",
   "metadata": {},
   "source": [
    "To sum up, we started by looking at a discrete choice set and found that a higher value of sigma, makes an easier substitution between hours worked at home by females and males. \n",
    "Together with alpha, which represents the productivity of females in the household relative to males, we found that for alpha = 0.5, sigma has no effect as both are equally productive. For higher values of alpha the female is more productive and for lower values the female is less productive. \n",
    "\n",
    "Furthermore we found a decreasing relationship between relative homeproduction and relative wages. This means that when female wages increase relative to males the homeroduction performed by the female decreases. Do to discrete time we see no change when female wages is 0.9 and 1.0. We adjust this result by introducing continuous time allowing for infinitely many choice sets.\n",
    "By introducing continuous time we still find a negative relationship between homeproduction and wages, but now with a much smoother and more precise result. \n",
    "Hereby improving the model. \n",
    "\n",
    "Next we look at a regression on homproduction from Siminski and Yetsenga (2022) and estimate values of alpha and sigma that takes us closest to the results for beta0 and beta1 found in the article. \n",
    "Looking at different values for alpha and sigma, we find that alpha = 0.98 and sigma = 0.1 is closest we can get. This gives a very productive female relative to male along with a low elasticity of substitution. \n",
    "\n",
    "Lastly we attempt to extend the model by introducing the couples preferences for the distribution of hours spent at home, which is independent of the relative wage. We introduce the parameter k, which is positive if the couple prefers that the woman works at home, whereas the couple gets more utility if the preferences are met. Opposite for men. If the couple is indifferent in their preferences  the model is unchanged. We where not able to improve the model according to the results in Siminski and Yetsenga (2022)."
   ]
  }
 ],
 "metadata": {
  "kernelspec": {
   "display_name": "base",
   "language": "python",
   "name": "python3"
  },
  "language_info": {
   "codemirror_mode": {
    "name": "ipython",
    "version": 3
   },
   "file_extension": ".py",
   "mimetype": "text/x-python",
   "name": "python",
   "nbconvert_exporter": "python",
   "pygments_lexer": "ipython3",
   "version": "3.9.16"
  },
  "toc-autonumbering": true,
  "vscode": {
   "interpreter": {
    "hash": "47ef90cdf3004d3f859f1fb202523c65c07ba7c22eefd261b181f4744e2d0403"
   }
  }
 },
 "nbformat": 4,
 "nbformat_minor": 4
}
