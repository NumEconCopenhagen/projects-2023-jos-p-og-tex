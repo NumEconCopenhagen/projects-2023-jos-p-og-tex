{
 "cells": [
  {
   "attachments": {},
   "cell_type": "markdown",
   "metadata": {},
   "source": [
    "# Rainy days on the stock market"
   ]
  },
  {
   "attachments": {},
   "cell_type": "markdown",
   "metadata": {},
   "source": [
    "Dataproject by Josefine Pedersen, Viktor Texel and Pernille Svendsen"
   ]
  },
  {
   "attachments": {},
   "cell_type": "markdown",
   "metadata": {},
   "source": [
    "> **Table of contents** \n",
    "> - Import and set magics\n",
    "> - Introduction\n",
    "> - Read and clean data from DMI and Yahoo Finance\n",
    "> - Exploring the datasets\n",
    "> - Merging the datasets\n",
    "> - Analysis\n",
    "> - Conclusion"
   ]
  },
  {
   "attachments": {},
   "cell_type": "markdown",
   "metadata": {},
   "source": [
    "*Imports and set magics:*"
   ]
  },
  {
   "cell_type": "code",
   "execution_count": null,
   "metadata": {},
   "outputs": [],
   "source": [
    "# Import tools\n",
    "import pandas as pd\n",
    "import numpy as np\n",
    "import matplotlib.pyplot as plt\n",
    "import ipywidgets as widgets\n",
    "import requests # library for making HTTP requests\n",
    "import datetime as dt # library for handling date and time objects\n",
    "from PIL import Image\n",
    "from scipy.stats import pearsonr\n",
    "from skimage import io\n",
    "\n",
    "# Autoreload modules when code is run\n",
    "%load_ext autoreload\n",
    "%autoreload 2\n",
    "\n",
    "# User written modules\n",
    "import dataproject as dp"
   ]
  },
  {
   "attachments": {},
   "cell_type": "markdown",
   "metadata": {},
   "source": [
    "*Installation and import of data-specific tools and packages:*\n",
    "\n",
    "**Note**: If the packages for importing data has not been installed, un-comment and run."
   ]
  },
  {
   "cell_type": "code",
   "execution_count": null,
   "metadata": {},
   "outputs": [],
   "source": [
    "\n",
    "# We install a package to inspect data from DMI (The Danish Meteorological Institute):\n",
    "#%pip install dmi-open-data\n",
    "\n",
    "# We install nescesarry packages from Yahoo Finance\n",
    "#%pip install yfinance\n",
    "#%pip install yahoofinancials\n",
    "\n",
    "import yfinance as yf\n",
    "from yahoofinancials import YahooFinancials"
   ]
  },
  {
   "attachments": {},
   "cell_type": "markdown",
   "metadata": {},
   "source": [
    "# Introduction\n",
    "\n",
    "In this dataproject we wish to explore if there could be a correlation between weather and developments on the stock market. Through API's we import datasets from DMI and Yahoo Finance to examine whether or not there is a correlation between price fluctuations in the danish OMX C25-index and the amount of precipitation in Denmark. \n",
    "\n",
    "To do so, we carefully select comparable data from our datasets, clean it and analyze it using different python-tools. We find that there is litte-to-no correlation between precipitation and fluctuations in the share price of OMX C25 in Denmark.  "
   ]
  },
  {
   "attachments": {},
   "cell_type": "markdown",
   "metadata": {},
   "source": [
    "# Read and clean data from DMI and Yahoo Finance"
   ]
  },
  {
   "attachments": {},
   "cell_type": "markdown",
   "metadata": {},
   "source": [
    "In this section we import our data through API's and load it. To do so, the packages *dmi-open data*, *yfinance* and *yfinancials* needs to be installed. These are included at the top in our *import and set magics* section and can be installed by removing the '#' and then running the code. "
   ]
  },
  {
   "attachments": {},
   "cell_type": "markdown",
   "metadata": {},
   "source": [
    "**We import data from DMI and print the available parameters**:"
   ]
  },
  {
   "cell_type": "code",
   "execution_count": null,
   "metadata": {},
   "outputs": [],
   "source": [
    "# We use an API-key given to us from DMI's database to retrieve data\n",
    "api_key = 'bd463c7d-f6f8-431d-a5a7-c466766a8363'\n",
    "DMI_URL = 'https://dmigw.govcloud.dk/v2/metObs/collections/observation/items'\n",
    "\n",
    "dp.import_data_dmi(api_key,DMI_URL)"
   ]
  },
  {
   "attachments": {},
   "cell_type": "markdown",
   "metadata": {},
   "source": [
    "From the parameters above, we select the parameter *precip_past1h* which returns the amount of precipitation the last hour in kg/m2 for a given period."
   ]
  },
  {
   "attachments": {},
   "cell_type": "markdown",
   "metadata": {},
   "source": [
    "As we have now picked the necessary parameter for our analysis, we have to specify what timeperiod we wanna look at, which DMI-weather stations is relevant to include, and how to structure our DMI-dataset.\n",
    "\n",
    "We wanna look at the most recent full year, 2022. We specify our timeperiod to start at the first hour of the first day of 2022, and end at the first hour of the first day of 2023. \n",
    "\n",
    "DMI has a lot of weatherstations scattered across Denmark, The Faroe Islands and Greenland. These weather stations have different capabilities, and some measure the same as others - meaning there is a risk of having measurements for a given geographical location twice. We only wanna look at *Pluvio* stations in Denmark, as these measure precipitation, cover the entirety of Denmark and are unique (only one station pr. location). Therefore we sort our data to only include *Pluvio* station IDs. \n",
    "\n",
    "The *Pluvio* stations are located as depicted below:"
   ]
  },
  {
   "cell_type": "code",
   "execution_count": null,
   "metadata": {},
   "outputs": [],
   "source": [
    "image = io.imread('Pluvio.png')\n",
    "io.imshow(image);"
   ]
  },
  {
   "attachments": {},
   "cell_type": "markdown",
   "metadata": {},
   "source": [
    "We select the data we need for our analysis and create the dataframe. Note that this takes a couple of minutes, since the API is set up such that we need to import the data from one station at a time."
   ]
  },
  {
   "cell_type": "code",
   "execution_count": null,
   "metadata": {},
   "outputs": [],
   "source": [
    "# Specifying the relevant parameter for the analysis\n",
    "parameterId = ['precip_past1h']\n",
    "\n",
    "# Creating the dataframe\n",
    "df = dp.selecting_data_dmi(parameterId)\n",
    "df.head()"
   ]
  },
  {
   "attachments": {},
   "cell_type": "markdown",
   "metadata": {},
   "source": [
    "To simplify the data we calculate the average of precipitation across all selected *pluvio* weather stations and store this data."
   ]
  },
  {
   "cell_type": "code",
   "execution_count": null,
   "metadata": {},
   "outputs": [],
   "source": [
    "# We create a row-average of the observations across weather stations\n",
    "df['Precip'] = df.mean(axis=1, numeric_only = True)\n",
    "df['Date'] = df.Time.dt.date \n",
    "df2 = df[['Time', 'Date', 'Precip']] \n",
    "df2"
   ]
  },
  {
   "attachments": {},
   "cell_type": "markdown",
   "metadata": {},
   "source": [
    "With 8760 hours in a year we have 22 missing hours. We investigate which days causes the issue."
   ]
  },
  {
   "cell_type": "code",
   "execution_count": null,
   "metadata": {},
   "outputs": [],
   "source": [
    "# We check to see which days have missing hours\n",
    "check = df2.groupby(['Date'])['Time'].count()\n",
    "check = pd.DataFrame(check)\n",
    "check = check.loc[check['Time']!=24]\n",
    "check"
   ]
  },
  {
   "attachments": {},
   "cell_type": "markdown",
   "metadata": {},
   "source": [
    "From the above table we can see, that for some days in June there is not data from all hours of the day. To tackle this issue, and to make our precipitation data more easily comparable, we calculate the daily average of the precipitation across weather stations (stored as df2) and store this data as df3. Now we have a dataset that displays the average daily precipitation across Denmark. "
   ]
  },
  {
   "cell_type": "code",
   "execution_count": null,
   "metadata": {},
   "outputs": [],
   "source": [
    "df3 = df2.groupby('Date').mean(numeric_only=True)\n",
    "df3.reset_index(inplace=True)\n",
    "df3['Date'] =pd.to_datetime(df3['Date'])\n",
    "df3"
   ]
  },
  {
   "attachments": {},
   "cell_type": "markdown",
   "metadata": {},
   "source": [
    "**We import and clean data from Yahoo Finance**"
   ]
  },
  {
   "cell_type": "code",
   "execution_count": 25,
   "metadata": {},
   "outputs": [
    {
     "data": {
      "text/html": [
       "<div>\n",
       "<style scoped>\n",
       "    .dataframe tbody tr th:only-of-type {\n",
       "        vertical-align: middle;\n",
       "    }\n",
       "\n",
       "    .dataframe tbody tr th {\n",
       "        vertical-align: top;\n",
       "    }\n",
       "\n",
       "    .dataframe thead th {\n",
       "        text-align: right;\n",
       "    }\n",
       "</style>\n",
       "<table border=\"1\" class=\"dataframe\">\n",
       "  <thead>\n",
       "    <tr style=\"text-align: right;\">\n",
       "      <th></th>\n",
       "      <th>Date</th>\n",
       "      <th>Close</th>\n",
       "    </tr>\n",
       "  </thead>\n",
       "  <tbody>\n",
       "    <tr>\n",
       "      <th>0</th>\n",
       "      <td>2022-01-03</td>\n",
       "      <td>1970.949951</td>\n",
       "    </tr>\n",
       "    <tr>\n",
       "      <th>1</th>\n",
       "      <td>2022-01-04</td>\n",
       "      <td>1952.810059</td>\n",
       "    </tr>\n",
       "    <tr>\n",
       "      <th>2</th>\n",
       "      <td>2022-01-05</td>\n",
       "      <td>1947.630005</td>\n",
       "    </tr>\n",
       "    <tr>\n",
       "      <th>3</th>\n",
       "      <td>2022-01-06</td>\n",
       "      <td>1887.619995</td>\n",
       "    </tr>\n",
       "    <tr>\n",
       "      <th>4</th>\n",
       "      <td>2022-01-07</td>\n",
       "      <td>1867.989990</td>\n",
       "    </tr>\n",
       "    <tr>\n",
       "      <th>...</th>\n",
       "      <td>...</td>\n",
       "      <td>...</td>\n",
       "    </tr>\n",
       "    <tr>\n",
       "      <th>240</th>\n",
       "      <td>2022-12-23</td>\n",
       "      <td>1695.199951</td>\n",
       "    </tr>\n",
       "    <tr>\n",
       "      <th>241</th>\n",
       "      <td>2022-12-27</td>\n",
       "      <td>1701.630005</td>\n",
       "    </tr>\n",
       "    <tr>\n",
       "      <th>242</th>\n",
       "      <td>2022-12-28</td>\n",
       "      <td>1695.209961</td>\n",
       "    </tr>\n",
       "    <tr>\n",
       "      <th>243</th>\n",
       "      <td>2022-12-29</td>\n",
       "      <td>1712.839966</td>\n",
       "    </tr>\n",
       "    <tr>\n",
       "      <th>244</th>\n",
       "      <td>2022-12-30</td>\n",
       "      <td>1700.560059</td>\n",
       "    </tr>\n",
       "  </tbody>\n",
       "</table>\n",
       "<p>245 rows × 2 columns</p>\n",
       "</div>"
      ],
      "text/plain": [
       "          Date        Close\n",
       "0   2022-01-03  1970.949951\n",
       "1   2022-01-04  1952.810059\n",
       "2   2022-01-05  1947.630005\n",
       "3   2022-01-06  1887.619995\n",
       "4   2022-01-07  1867.989990\n",
       "..         ...          ...\n",
       "240 2022-12-23  1695.199951\n",
       "241 2022-12-27  1701.630005\n",
       "242 2022-12-28  1695.209961\n",
       "243 2022-12-29  1712.839966\n",
       "244 2022-12-30  1700.560059\n",
       "\n",
       "[245 rows x 2 columns]"
      ]
     },
     "execution_count": 25,
     "metadata": {},
     "output_type": "execute_result"
    }
   ],
   "source": [
    "# Setting the desired timeframe\n",
    "from_time='2022-01-01'\n",
    "to_time='2023-01-01'\n",
    "\n",
    "# Importing dateframe\n",
    "OMXC25 = dp.import_data_yahoo(from_time,to_time)\n",
    "OMXC25"
   ]
  },
  {
   "attachments": {},
   "cell_type": "markdown",
   "metadata": {},
   "source": [
    "As can be seen from the table above, there are 250 observations/days where a closing price of OMX 25 have been noted by Yahoo Finance. This is due to the fact, that a closing price only occurs when the market is open. There are 260 weekdays in a year, and the 10 \"missing\" days are holidays.  "
   ]
  },
  {
   "attachments": {},
   "cell_type": "markdown",
   "metadata": {},
   "source": [
    "## Exploring each data set"
   ]
  },
  {
   "attachments": {},
   "cell_type": "markdown",
   "metadata": {},
   "source": [
    "Illustrating the average precipitation in 2022 and the closing price of OMXC25 in 2022:"
   ]
  },
  {
   "cell_type": "code",
   "execution_count": null,
   "metadata": {},
   "outputs": [],
   "source": [
    "dp.explore_data(df3['Date'],\n",
    "               df3['Precip'],\n",
    "               'Average precipation in 2022',\n",
    "               'Date','Precipation',0);\n",
    "\n",
    "dp.explore_data(OMXC25['Date'],\n",
    "               OMXC25['Close'],\n",
    "               'Closing value of the price OMXC25',\n",
    "               'Date','Closing price',1400);"
   ]
  },
  {
   "attachments": {},
   "cell_type": "markdown",
   "metadata": {},
   "source": [
    "Overall we can see that there are large fluctuations in both the average percipation and the closing price of OMXC25, however the fluctuations do not seem to be extremely correlated. To investigate further whether there is a correlation between the two, we merge the dataframes and analyze the data."
   ]
  },
  {
   "cell_type": "markdown",
   "metadata": {},
   "source": [
    "# Merge data sets"
   ]
  },
  {
   "attachments": {},
   "cell_type": "markdown",
   "metadata": {},
   "source": [
    "We combine our loaded data sets from DMI and Yahoo Finance."
   ]
  },
  {
   "cell_type": "code",
   "execution_count": null,
   "metadata": {},
   "outputs": [],
   "source": [
    "# Merge data\n",
    "precip_stock = pd.merge(OMXC25, df3, on='Date', how='left')\n",
    "precip_stock2 = precip_stock[['Date', 'Close', 'Precip']]\n",
    "precip_stock2\n"
   ]
  },
  {
   "attachments": {},
   "cell_type": "markdown",
   "metadata": {},
   "source": [
    "We here use the left-join method to only keep dates where there have been registered a closing price for the stock. Therefore we want to drop all the values for average precipation on weekends and holidays. This is accomplished with this method for merging."
   ]
  },
  {
   "cell_type": "markdown",
   "metadata": {},
   "source": [
    "# Analysis"
   ]
  },
  {
   "attachments": {},
   "cell_type": "markdown",
   "metadata": {},
   "source": [
    "As we are mostly interested in the relative development in the stock price rather than the actual price, we calculate the pct. change from day-to-day to illustrate daily fluctuations. "
   ]
  },
  {
   "cell_type": "code",
   "execution_count": null,
   "metadata": {},
   "outputs": [],
   "source": [
    "# We calculate the pct. change from day-to-day on the closing price of OMXC25\n",
    "precip_stock2['Change_in_stock'] = ((precip_stock2['Close'] / precip_stock2['Close'].shift(1) - 1)* 100)\n",
    "precip_stock2.head()"
   ]
  },
  {
   "attachments": {},
   "cell_type": "markdown",
   "metadata": {},
   "source": [
    "We explore the merged data set to compare within the different months if we can se a correlation. This we do by firstly creating a variable for what month the observation belongs to, and then we plot interactively to study the months individually."
   ]
  },
  {
   "cell_type": "code",
   "execution_count": null,
   "metadata": {},
   "outputs": [],
   "source": [
    "precip_stock3 = precip_stock2.copy()\n",
    "precip_stock3['Month'] = precip_stock3.Date.dt.month "
   ]
  },
  {
   "cell_type": "code",
   "execution_count": null,
   "metadata": {},
   "outputs": [],
   "source": [
    "# Making an interactive figure\n",
    "def interactive_figure(Date, Month, Change_in_stock, Precip):\n",
    "    \n",
    "    filtered_data = precip_stock3[precip_stock3['Month']==Month]\n",
    "\n",
    "    fig = plt.figure(figsize=(10,4))\n",
    "\n",
    "    ax_left = fig.add_subplot(1,2,1)\n",
    "    ax_left.set_title('Precipitation')\n",
    "    ax_left.grid(True)\n",
    "    ax_left.bar(filtered_data['Date'],filtered_data['Precip'])\n",
    "    ax_left.set_xlabel('Date')\n",
    "    ax_left.set_ylabel('mm')\n",
    "    xticks = ax_left.get_xticks()\n",
    "    ax_left.set_xticks(xticks[::len(xticks) // 4]) # set new tick positions\n",
    "    ax_left.tick_params(axis='x', rotation=30) # set tick rotation\n",
    "\n",
    "    ax_right = fig.add_subplot(1,2,2)\n",
    "    ax_right.set_title('OMXC25')\n",
    "    ax_right.grid(True)\n",
    "    ax_right.bar(filtered_data['Date'],filtered_data['Change_in_stock'])\n",
    "    ax_right.set_xlabel('Date')\n",
    "    ax_right.set_ylabel('Share price')\n",
    "    xticks2 = ax_right.get_xticks()\n",
    "    ax_right.set_xticks(xticks2[::len(xticks2) // 4]) # set new tick positions\n",
    "    ax_right.tick_params(axis='x', rotation=30) # set tick rotation\n",
    "\n",
    "    plt.show()\n",
    "\n",
    "widgets.interact(interactive_figure,\n",
    "    Date=widgets.fixed(precip_stock3['Date']),\n",
    "    Month=widgets.Dropdown(description=\"Month\", options=precip_stock3.Month.unique(), value=1),\n",
    "    Change_in_stock=widgets.fixed(precip_stock3['Change_in_stock']),\n",
    "    Precip=widgets.fixed(precip_stock3['Precip'])\n",
    ");"
   ]
  },
  {
   "attachments": {},
   "cell_type": "markdown",
   "metadata": {},
   "source": [
    "The interactive plots makes it possible to zoom in on one specific month and see how the share price of OMX C25 and the amount of precipitation differs from day to day in each month. \n",
    "\n",
    "However, when investigating the months we still don't see a strong correlation between precipation and changes in the stock prices."
   ]
  },
  {
   "attachments": {},
   "cell_type": "markdown",
   "metadata": {},
   "source": [
    "As a way to more specifically see if there is a connection between the two variables, we wanna look at the days where the stock price fell/rose the most. Therefore, we utilize python to pick out the 10 days which saw the highest pct. change aswell as the 10 days with the biggest decrease. Our hypothesis is, that the amount of rainfall will be low, when the pct. change in stock is high and vice versa. \n",
    "\n",
    "We wanna compare whether the days with the largest increase in stock prices are coinciding with days where there was more rain than usual. Therefore we calculate the average precipation in 2022."
   ]
  },
  {
   "cell_type": "code",
   "execution_count": null,
   "metadata": {},
   "outputs": [],
   "source": [
    "precip_stock3['Average precip'] = precip_stock3['Precip'].mean(numeric_only=True)\n",
    "precip_stock3['Precip - average'] = (precip_stock3['Precip'] - precip_stock3['Average precip'])\n",
    "\n",
    "# 10 days with the highest increase in stock price\n",
    "highest = precip_stock2.nlargest(10,'Change_in_stock') \n",
    "\n",
    "# 10 days with the largest decrease in stock price \n",
    "lowest = precip_stock2.nsmallest(10, 'Change_in_stock')"
   ]
  },
  {
   "attachments": {},
   "cell_type": "markdown",
   "metadata": {},
   "source": [
    "We investigate whether days with high increases in the stock price coincide with days with lower than average rain:"
   ]
  },
  {
   "cell_type": "code",
   "execution_count": null,
   "metadata": {},
   "outputs": [],
   "source": [
    "highest"
   ]
  },
  {
   "attachments": {},
   "cell_type": "markdown",
   "metadata": {},
   "source": [
    "We see that 6 of the 10 observations have below average precipation, so it does somewhat support the hypothesis, but not to a large degree.\n",
    "\n",
    "We do the same for the 10 days with largest decrease in the stock price:"
   ]
  },
  {
   "cell_type": "code",
   "execution_count": null,
   "metadata": {},
   "outputs": [],
   "source": [
    "lowest"
   ]
  },
  {
   "attachments": {},
   "cell_type": "markdown",
   "metadata": {},
   "source": [
    "Here we see that only 3 out of 10 oberservations have above average precipation when there is a large fall in the stock price. So overall we do not see a large correlation between precipation and changes in the stock price."
   ]
  },
  {
   "attachments": {},
   "cell_type": "markdown",
   "metadata": {},
   "source": [
    "Since there is not really any conclusive evidence in the above analysis, we now want to check if there is a correlation between the share price of the OMXC25 and the precipitation in 2022 for the entire dataframe. "
   ]
  },
  {
   "cell_type": "code",
   "execution_count": null,
   "metadata": {},
   "outputs": [],
   "source": [
    "# We drop the first row (not value for change in stock)\n",
    "precip_stock4 = precip_stock2.iloc[1:]\n",
    "\n",
    "dp.correlation(precip_stock4)"
   ]
  },
  {
   "attachments": {},
   "cell_type": "markdown",
   "metadata": {},
   "source": [
    "The coefficient shows a very weak positive correlation between the precipitation level and the changes in the OMXC25-index. Furthermore, the p-value shows that the correlation is not significant on a 5 pct. confidence level.\n",
    "\n",
    "We can also see the weak correlation by plotting the observations:"
   ]
  },
  {
   "cell_type": "code",
   "execution_count": null,
   "metadata": {},
   "outputs": [],
   "source": [
    "# a. create the figure\n",
    "fig = plt.figure()\n",
    "\n",
    "# b. plot\n",
    "ax = fig.add_subplot(1,1,1)\n",
    "\n",
    "ax.scatter(precip_stock4['Precip'],precip_stock4['Change_in_stock'])\n",
    "\n",
    "ax.set_title('Scatterplot for precipation and change in stock price')\n",
    "ax.set_xlabel('Precipation')\n",
    "ax.set_ylabel('Change in stock price');"
   ]
  },
  {
   "attachments": {},
   "cell_type": "markdown",
   "metadata": {},
   "source": [
    "Overall the scatterplot above exhibits a very low correlation between the two variables."
   ]
  },
  {
   "cell_type": "markdown",
   "metadata": {},
   "source": [
    "# Conclusion"
   ]
  },
  {
   "attachments": {},
   "cell_type": "markdown",
   "metadata": {},
   "source": [
    "In this assignment we look at the precipitation level in Denmark in 2022 along with the OMXC25 index. We found that there was slim to no correlation between the variables meaning that the weather most likely does not affect the changes in share prices of the OMXC25. \n",
    "\n",
    "We come to this conclusion by using descriptive statistics and simple calculations. To investigate a possible correlation between stock prices and the weather satisfactionary, you would have to use much broader methods. The topic have already been analyzed by other economists, who take a look at the stock exchange in New York City. We refer to:\n",
    "\n",
    "*Goetzmann, William N., and Ning Zhu. \"Rain or shine: where is the weather effect?.\" European Financial Management 11.5 (2005): 559-578.*\n",
    "\n",
    "*Saunders, Edward M. \"Stock prices and Wall Street weather.\" The American Economic Review 83.5 (1993): 1337-1345.*\n",
    "\n",
    "The first source states that there is low correlation between weather and stock prices, but the second source states that there to some degree is a correlation between the two. Overall, the conclusion regarding the subject is therefore somewhat ambigous. Our analysis, regarding Danish data, shows now correlation between rain and stock prices."
   ]
  }
 ],
 "metadata": {
  "kernelspec": {
   "display_name": "base",
   "language": "python",
   "name": "python3"
  },
  "language_info": {
   "codemirror_mode": {
    "name": "ipython",
    "version": 3
   },
   "file_extension": ".py",
   "mimetype": "text/x-python",
   "name": "python",
   "nbconvert_exporter": "python",
   "pygments_lexer": "ipython3",
   "version": "3.9.16"
  },
  "toc-autonumbering": true,
  "vscode": {
   "interpreter": {
    "hash": "47ef90cdf3004d3f859f1fb202523c65c07ba7c22eefd261b181f4744e2d0403"
   }
  }
 },
 "nbformat": 4,
 "nbformat_minor": 4
}
