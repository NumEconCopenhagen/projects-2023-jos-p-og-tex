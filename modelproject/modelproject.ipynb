{
 "cells": [
  {
   "attachments": {},
   "cell_type": "markdown",
   "metadata": {},
   "source": [
    "# Solving the Malthus model"
   ]
  },
  {
   "attachments": {},
   "cell_type": "markdown",
   "metadata": {},
   "source": [
    "> **Table of contents:** \n",
    "> 1. This is *not* meant to be an example of an actual **model analysis project**, just an example of how to structure such a project.\n",
    "> 1. Remember the general advice on structuring and commenting your code\n",
    "> 1. The `modelproject.py` file includes a function which could be used multiple times in this notebook."
   ]
  },
  {
   "attachments": {},
   "cell_type": "markdown",
   "metadata": {},
   "source": [
    "*Imports and set magics*"
   ]
  },
  {
   "cell_type": "code",
   "execution_count": 80,
   "metadata": {},
   "outputs": [
    {
     "name": "stdout",
     "output_type": "stream",
     "text": [
      "The autoreload extension is already loaded. To reload it, use:\n",
      "  %reload_ext autoreload\n"
     ]
    }
   ],
   "source": [
    "import numpy as np\n",
    "from scipy import optimize\n",
    "import sympy as sm\n",
    "from types import SimpleNamespace\n",
    "\n",
    "# plotting\n",
    "import matplotlib.pyplot as plt\n",
    "plt.rcParams.update({\"axes.grid\":True,\"grid.color\":\"black\",\"grid.alpha\":\"0.25\",\"grid.linestyle\":\"--\"})\n",
    "plt.rcParams.update({'font.size': 14})\n",
    "\n",
    "# autoreload modules when code is run\n",
    "%load_ext autoreload\n",
    "%autoreload 2\n",
    "\n",
    "# local modules\n",
    "import modelproject as mp\n",
    "\n",
    "import ipywidgets as widgets # For interactive plots/buttons"
   ]
  },
  {
   "attachments": {},
   "cell_type": "markdown",
   "metadata": {},
   "source": [
    "# Model description"
   ]
  },
  {
   "attachments": {},
   "cell_type": "markdown",
   "metadata": {},
   "source": [
    "**Write out the model in equations here.** \n",
    "\n",
    "Make sure you explain well the purpose of the model and comment so that other students who may not have seen it before can follow.  "
   ]
  },
  {
   "attachments": {},
   "cell_type": "markdown",
   "metadata": {},
   "source": [
    "We consider the **standard Malthus-model**. We assume discrete time, $t\\in\\{0,1,\\dots\\}$ and a closed economy. Therefore, total production equals income. \n",
    "\n",
    "An assumption in the Malthus model is that labor is subject to diminishing returns in production. We model this with a **Cobb-Douglas production function**:\n",
    "\n",
    "$$\n",
    "Y_{t}=L_{t}^{1-\\alpha}(AX)^{\\alpha}\n",
    "$$\n",
    "\n",
    "Where: \n",
    "1. $L_t$ is labor (we assume no unemployment)\n",
    "3. $A$ is technology (is constant over time)\n",
    "4. $X$ is land (is constant over time)\n",
    "5. $Y_t$ = is GDP (production). This is equal to income.\n",
    "\n",
    "**Output pr. worker** is thus given by:\n",
    "\n",
    "$$\n",
    "y_{t}=\\left(\\frac{AX}{L_t}\\right)^{\\alpha}\n",
    "$$\n",
    "\n",
    "Since $\\alpha<1$ (diminishing returns) we have that as L increases, output per worker declines, given that AX is constant.\n",
    "\n",
    "**Household preferences** are given by:\n",
    "\n",
    "$$\n",
    "u_{t} = \\beta \\log (c_{t}) + (1-\\beta) \\log (n_{t}), \\ \\ \\ 0<\\beta<1\n",
    "$$\n",
    "\n",
    "Where: \n",
    "1. $c_t$ is consumption\n",
    "3. $n_t$ is the number of children\n",
    "\n",
    "And the **budget constraint** is given by:\n",
    "\n",
    "$$\n",
    "y_{t} ≥ \\lambda n_{t} + c_{t}\n",
    "$$\n",
    "\n",
    "The size of the labor force evolves according to:\n",
    "\n",
    "$$\n",
    "L_{t+1} = n_{t}L_{t}+(1-\\mu)L_{t}, \\ \\ \\ L_{0} \\ given\n",
    "$$\n",
    "\n",
    "The above equation implies that $\\mu$ represents mortality.\n",
    "\n",
    "The **law of motion for the labor force** will therefore be given by:\n",
    "\n",
    "$$\n",
    "L_{t+1} = \\eta L_{t}^{1-\\alpha}(AX)^{\\alpha}+(1-\\mu)L_{t}, \\ \\ \\ L_{0} \\ given\n",
    "$$\n",
    "\n",
    "Where $\\eta=\\frac{1-\\beta}{\\lambda}$"
   ]
  },
  {
   "attachments": {},
   "cell_type": "markdown",
   "metadata": {},
   "source": [
    "## Analytical solution"
   ]
  },
  {
   "attachments": {},
   "cell_type": "markdown",
   "metadata": {},
   "source": [
    "If your model allows for an analytical solution, you should provide here.\n",
    "\n",
    "You may use Sympy for this. Then you can characterize the solution as a function of a parameter of the model.\n",
    "\n",
    "To characterize the solution, first derive a steady state equation as a function of a parameter using Sympy.solve and then turn it into a python function by Sympy.lambdify. See the lecture notes for details. "
   ]
  },
  {
   "cell_type": "code",
   "execution_count": null,
   "metadata": {},
   "outputs": [],
   "source": [
    "Yt = sm.symbols('Y_t')\n",
    "Lt = sm.symbols('L_t')\n",
    "Lt1 = sm.symbols('L_{t+1}')\n",
    "A = sm.symbols('A')\n",
    "X = sm.symbols('X')\n",
    "yt = sm.symbols('y_t')\n",
    "nt = sm.symbols('n_t')\n",
    "alpha = sm.symbols('alpha')\n",
    "mu = sm.symbols('mu')\n",
    "eta = sm.symbols('eta')\n",
    "L_star = sm.symbols('L^*')\n",
    "y_star = sm.symbols('y^*')\n",
    "beta = sm.symbols('beta')\n",
    "ct = sm.symbols('c_t')\n",
    "ut = sm.symbols('u_t')\n",
    "lamb = sm.symbols('lambda')"
   ]
  },
  {
   "attachments": {},
   "cell_type": "markdown",
   "metadata": {},
   "source": [
    "The household preferences are given by:"
   ]
  },
  {
   "cell_type": "code",
   "execution_count": null,
   "metadata": {},
   "outputs": [],
   "source": [
    "utility = beta*sm.log(ct)+(1-beta)*sm.log(nt)\n",
    "utility"
   ]
  },
  {
   "attachments": {},
   "cell_type": "markdown",
   "metadata": {},
   "source": [
    "We assume that household's use all their available income for either consumption or child rearing:"
   ]
  },
  {
   "cell_type": "code",
   "execution_count": null,
   "metadata": {},
   "outputs": [],
   "source": [
    "budget = sm.Eq(yt, lamb*nt+ct)\n",
    "budget"
   ]
  },
  {
   "attachments": {},
   "cell_type": "markdown",
   "metadata": {},
   "source": [
    "We solve this by isolating consumption in the budget constraint and then substituting this expression into the utility function. We then optimize over number of children:"
   ]
  },
  {
   "cell_type": "code",
   "execution_count": null,
   "metadata": {},
   "outputs": [],
   "source": [
    "# isolate consumption\n",
    "ct_from_budget = sm.solve(budget, ct)\n",
    "\n",
    "# substitute into the budget constraint\n",
    "utility_subs = utility.subs(ct, ct_from_budget[0])\n",
    "\n",
    "# take the derivattive w.r.t. number of children\n",
    "foc = sm.diff(utility_subs, nt)\n",
    "\n",
    "# solving the FOC for optimal number of children\n",
    "sol = sm.solve(sm.Eq(foc,0), nt)[0]\n",
    "sol"
   ]
  },
  {
   "attachments": {},
   "cell_type": "markdown",
   "metadata": {},
   "source": [
    "The above expression determines the optimal number of children for the household.\n",
    "\n",
    "Below we find the steady state level for the labor force given the law of motion:"
   ]
  },
  {
   "cell_type": "code",
   "execution_count": null,
   "metadata": {},
   "outputs": [],
   "source": [
    "# Law of motion\n",
    "LOM = sm.Eq(Lt1, eta*Lt**(1-alpha)*(A*X)**alpha+(1-mu)*Lt)\n",
    "LOM"
   ]
  },
  {
   "attachments": {},
   "cell_type": "markdown",
   "metadata": {},
   "source": [
    "To find the steady state value for the labor force we substitute, such that $L^* = L_{t} = L_{t+1}$ and solve for $L^*$:"
   ]
  },
  {
   "cell_type": "code",
   "execution_count": null,
   "metadata": {},
   "outputs": [],
   "source": [
    "# Substitute for L*\n",
    "SS = sm.Eq(L_star, eta*L_star**(1-alpha)*(A*X)**alpha+(1-mu)*L_star)\n",
    "\n",
    "# Solve for L_star\n",
    "L_star_sol = sm.solve(SS, L_star)[0]\n",
    "\n",
    "# Print the solution\n",
    "L_star_sol"
   ]
  },
  {
   "attachments": {},
   "cell_type": "markdown",
   "metadata": {},
   "source": [
    "We can turn the expression for steady state labor force into a Python-function to evaluate the solution:"
   ]
  },
  {
   "cell_type": "code",
   "execution_count": null,
   "metadata": {},
   "outputs": [],
   "source": [
    "ss_L_func = sm.lambdify((A,X,eta,mu,alpha),L_star_sol)\n",
    "ss_L_func(1,2,0.8,0.2,0.33)"
   ]
  },
  {
   "attachments": {},
   "cell_type": "markdown",
   "metadata": {},
   "source": [
    "## Numerical solution"
   ]
  },
  {
   "attachments": {},
   "cell_type": "markdown",
   "metadata": {},
   "source": [
    "You can always solve a model numerically. \n",
    "\n",
    "Define first the set of parameters you need. \n",
    "\n",
    "Then choose one of the optimization algorithms that we have gone through in the lectures based on what you think is most fitting for your model.\n",
    "\n",
    "Are there any problems with convergence? Does the model converge for all starting values? Make a lot of testing to figure these things out. "
   ]
  },
  {
   "attachments": {},
   "cell_type": "markdown",
   "metadata": {},
   "source": [
    "**Solving for numerical steady stata for labor force/population**"
   ]
  },
  {
   "cell_type": "code",
   "execution_count": 81,
   "metadata": {},
   "outputs": [],
   "source": [
    "# Defining parameters\n",
    "par =  SimpleNamespace()\n",
    "par.eta = 0.2\n",
    "par.mu = 0.3\n",
    "par.alpha = 0.6\n",
    "par.A = 1\n",
    "par.X = 3\n",
    "par.T = 200   "
   ]
  },
  {
   "cell_type": "code",
   "execution_count": 82,
   "metadata": {},
   "outputs": [
    {
     "name": "stdout",
     "output_type": "stream",
     "text": [
      "The steady state for L is: 1.526\n"
     ]
    }
   ],
   "source": [
    "obj_lss = lambda lss: lss - (par.eta*lss**(1-par.alpha)*(par.A*par.X)**(par.alpha)+(1-par.mu)*lss)\n",
    "mp.solve(obj_lss)"
   ]
  },
  {
   "attachments": {},
   "cell_type": "markdown",
   "metadata": {},
   "source": [
    "**COMMENT**"
   ]
  },
  {
   "attachments": {},
   "cell_type": "markdown",
   "metadata": {},
   "source": [
    "**Plotting the phase diagram for population**"
   ]
  },
  {
   "cell_type": "code",
   "execution_count": 96,
   "metadata": {},
   "outputs": [
    {
     "data": {
      "image/png": "[encoded data removed]",
      "text/plain": [
       "<Figure size 640x480 with 1 Axes>"
      ]
     },
     "metadata": {},
     "output_type": "display_data"
    }
   ],
   "source": [
    "# Plot phase diagram\n",
    "mp.phase_diagram(par)\n"
   ]
  },
  {
   "cell_type": "markdown",
   "metadata": {},
   "source": [
    "**COMMENT**"
   ]
  },
  {
   "attachments": {},
   "cell_type": "markdown",
   "metadata": {},
   "source": [
    "**Plotting the path to convergence for the population size**"
   ]
  },
  {
   "cell_type": "code",
   "execution_count": 84,
   "metadata": {},
   "outputs": [],
   "source": [
    "eta = par.eta\n",
    "mu = par.mu\n",
    "alpha = par.alpha\n",
    "A = par.A\n",
    "X = par.X\n",
    "T = par.T"
   ]
  },
  {
   "cell_type": "code",
   "execution_count": 85,
   "metadata": {},
   "outputs": [
    {
     "data": {
      "image/png": "[encoded data removed]",
      "text/plain": [
       "<Figure size 640x480 with 1 Axes>"
      ]
     },
     "metadata": {},
     "output_type": "display_data"
    }
   ],
   "source": [
    "mp.convergence(eta,mu,alpha,A,X,T,interactive=False)"
   ]
  },
  {
   "attachments": {},
   "cell_type": "markdown",
   "metadata": {},
   "source": [
    "**COMMENT**\n",
    "\n",
    "It can be seen by the figure, that for the chosen parameter values the model converges to the steady state value for the labor force (and thereby for population) in approxamately 40 time periods."
   ]
  },
  {
   "attachments": {},
   "cell_type": "markdown",
   "metadata": {},
   "source": [
    "# Further analysis"
   ]
  },
  {
   "attachments": {},
   "cell_type": "markdown",
   "metadata": {},
   "source": [
    "Make detailed vizualizations of how your model changes with parameter values. "
   ]
  },
  {
   "cell_type": "code",
   "execution_count": 86,
   "metadata": {},
   "outputs": [
    {
     "data": {
      "application/vnd.jupyter.widget-view+json": {
       "model_id": "a8d40982194d40acb372b584a43d7628",
       "version_major": 2,
       "version_minor": 0
      },
      "text/plain": [
       "interactive(children=(FloatSlider(value=0.2, description='eta', max=1.0, min=0.1, step=0.05), FloatSlider(valu…"
      ]
     },
     "metadata": {},
     "output_type": "display_data"
    }
   ],
   "source": [
    "widgets.interact(mp.convergence,\n",
    "    eta=widgets.FloatSlider(description=r\"eta\", min=0.1, max=1, step=0.05, value=eta),\n",
    "    mu=widgets.FloatSlider(description=r\"mu\", min=0.1, max=1, step=0.05, value=mu),\n",
    "    alpha=widgets.FloatSlider(description=r\"alpha\", min=0.1, max=1, step=0.05, value=alpha),\n",
    "    A=widgets.FloatSlider(description=r\"A\", min=1, max=5, step=0.5, value=A),\n",
    "    X=widgets.FloatSlider(description=r\"X\", min=1, max=5, step=0.5, value=X),\n",
    "    T=widgets.fixed(par.T),\n",
    "    interactive=widgets.fixed(True)\n",
    ");"
   ]
  },
  {
   "attachments": {},
   "cell_type": "markdown",
   "metadata": {},
   "source": [
    "**COMMENT**\n",
    "\n",
    "What happens when we change the values and why?"
   ]
  },
  {
   "attachments": {},
   "cell_type": "markdown",
   "metadata": {},
   "source": [
    "**Permanent decrease in the level of techonology**"
   ]
  },
  {
   "cell_type": "code",
   "execution_count": 87,
   "metadata": {},
   "outputs": [
    {
     "data": {
      "image/png": "[encoded data removed]",
      "text/plain": [
       "<Figure size 640x480 with 1 Axes>"
      ]
     },
     "metadata": {},
     "output_type": "display_data"
    }
   ],
   "source": [
    "# Create the shock path for A\n",
    "A_path = np.ones(par.T) * par.A  # start with a vector of A values equal to par.A\n",
    "A_path[5:] = A_path[5:] * 0.9  # reduce A by 10% from t=5 onwards\n",
    "\n",
    "# Call the convergence function with the shock path for A\n",
    "L_path = mp.convergence_tech_shock(eta,mu,alpha,A,X,T,A_path)"
   ]
  },
  {
   "attachments": {},
   "cell_type": "markdown",
   "metadata": {},
   "source": [
    "**COMMENT**\n",
    "\n",
    "Why does SS population decrease when tech decreases?"
   ]
  },
  {
   "attachments": {},
   "cell_type": "markdown",
   "metadata": {},
   "source": [
    "# Extension of the model"
   ]
  },
  {
   "attachments": {},
   "cell_type": "markdown",
   "metadata": {},
   "source": [
    "We can extend the model with technological growth. \n",
    "$$\n",
    "\\frac{A_{t+1}}{A_{t}} = g\n",
    "$$\n",
    "\n",
    "where g is this growth factor. In the baseline model $g=1$\n",
    "\n",
    "We define $ l_{t} = \\frac{L_{t}}{A_{t}} $\n",
    "\n",
    "With technological change we get a slighty changed law of motion\n",
    "$$\n",
    "L_{t+1} = \\eta L_{t}^{1-\\alpha}(A_{t}X)^{\\alpha}+(1-\\mu)L_{t}, \\ \\ \\ L_{0} \\ given\n",
    "$$\n"
   ]
  },
  {
   "attachments": {},
   "cell_type": "markdown",
   "metadata": {},
   "source": [
    "Analytical solution"
   ]
  },
  {
   "cell_type": "code",
   "execution_count": 88,
   "metadata": {},
   "outputs": [],
   "source": [
    "lt = sm.symbols('l_t')\n",
    "g = sm.symbols('g')\n",
    "At = sm.symbols('A_t')\n",
    "At1 = sm.symbols('A_{t+1}')\n",
    "l_star = sm.symbols('l^*')\n",
    "Yt = sm.symbols('Y_t')\n",
    "Lt = sm.symbols('L_t')\n",
    "Lt1 = sm.symbols('L_{t+1}')\n",
    "A = sm.symbols('A')\n",
    "X = sm.symbols('X')\n",
    "yt = sm.symbols('y_t')\n",
    "nt = sm.symbols('n_t')\n",
    "alpha = sm.symbols('alpha')\n",
    "mu = sm.symbols('mu')\n",
    "eta = sm.symbols('eta')\n",
    "L_star = sm.symbols('L^*')\n",
    "y_star = sm.symbols('y^*')"
   ]
  },
  {
   "cell_type": "code",
   "execution_count": 89,
   "metadata": {},
   "outputs": [
    {
     "data": {
      "text/latex": [
       "$\\displaystyle L_{t+1} = L_{t} \\left(1 - \\mu\\right) + L_{t}^{1 - \\alpha} \\eta \\left(A_{t} X\\right)^{\\alpha}$"
      ],
      "text/plain": [
       "Eq(L_{t+1}, L_t*(1 - mu) + L_t**(1 - alpha)*eta*(A_t*X)**alpha)"
      ]
     },
     "execution_count": 89,
     "metadata": {},
     "output_type": "execute_result"
    }
   ],
   "source": [
    "# New law of motion\n",
    "New_LOM = sm.Eq(Lt1, eta*Lt**(1-alpha)*(At*X)**alpha+(1-mu)*Lt)\n",
    "New_LOM"
   ]
  },
  {
   "attachments": {},
   "cell_type": "markdown",
   "metadata": {},
   "source": [
    "Dividing the law of motion with $ A_{t} $"
   ]
  },
  {
   "attachments": {},
   "cell_type": "markdown",
   "metadata": {},
   "source": [
    "$$\n",
    "\\frac{L_{t+1}}{A_{t}} = \\eta A_{t}^{-1} L_{t}^{1-\\alpha}(A_{t}X)^{\\alpha}+(1-\\mu) \\frac{L_{t}}{A_{t}}\n",
    "$$"
   ]
  },
  {
   "cell_type": "code",
   "execution_count": 90,
   "metadata": {},
   "outputs": [
    {
     "data": {
      "text/latex": [
       "$\\displaystyle \\frac{L_{t+1}}{A_{t}} = \\frac{L_{t} \\left(1 - \\mu\\right)}{A_{t}} + \\frac{L_{t}^{1 - \\alpha} \\eta \\left(A_{t} X\\right)^{\\alpha}}{A_{t}}$"
      ],
      "text/plain": [
       "Eq(L_{t+1}/A_t, L_t*(1 - mu)/A_t + L_t**(1 - alpha)*eta*(A_t*X)**alpha/A_t)"
      ]
     },
     "execution_count": 90,
     "metadata": {},
     "output_type": "execute_result"
    }
   ],
   "source": [
    "# law of motion for l\n",
    "New_LOM2 = sm.Eq((Lt1/At), eta*At**(-1)*Lt**(1-alpha)*(At*X)**alpha+(1-mu)*(Lt/At))\n",
    "New_LOM2"
   ]
  },
  {
   "attachments": {},
   "cell_type": "markdown",
   "metadata": {},
   "source": [
    "Note that: \n",
    "$$\n",
    "\\frac{L_{t+1}}{A_{t}} = \\frac{L_{t+1}}{A_{t+1}} \\frac{A_{t+1}}{A_{t}} = l_{t+1}g\n",
    "$$\n",
    "\n",
    "Substituting this into the modified law of motion"
   ]
  },
  {
   "attachments": {},
   "cell_type": "markdown",
   "metadata": {},
   "source": [
    "$$\n",
    "l_{t+1} = \\eta g^{-1} l_{t}^{1-\\alpha} X^{\\alpha}+g^{-1}(1-\\mu) l_{t}\n",
    "$$"
   ]
  },
  {
   "attachments": {},
   "cell_type": "markdown",
   "metadata": {},
   "source": [
    "To find the steady state value for the labor force we substitute, such that $l^* = l_{t} = l_{t+1}$ and solve for $l^*$:"
   ]
  },
  {
   "cell_type": "code",
   "execution_count": 91,
   "metadata": {},
   "outputs": [
    {
     "data": {
      "text/latex": [
       "$\\displaystyle \\left(\\frac{X^{\\alpha} \\eta}{g + \\mu - 1}\\right)^{\\frac{1}{\\alpha}}$"
      ],
      "text/plain": [
       "(X**alpha*eta/(g + mu - 1))**(1/alpha)"
      ]
     },
     "execution_count": 91,
     "metadata": {},
     "output_type": "execute_result"
    }
   ],
   "source": [
    "# Substitute for l*\n",
    "SS = sm.Eq(l_star, eta*g**(-1)*l_star**(1-alpha)*X**alpha+g**(-1)*(1-mu)*l_star)\n",
    "\n",
    "# Solve for L_star\n",
    "l_star_sol = sm.solve(SS, l_star)[0]\n",
    "\n",
    "# Print the solution\n",
    "l_star_sol"
   ]
  },
  {
   "attachments": {},
   "cell_type": "markdown",
   "metadata": {},
   "source": [
    "We can turn the expression for steady state labor force into a Python-function to evaluate the solution:"
   ]
  },
  {
   "cell_type": "code",
   "execution_count": 92,
   "metadata": {},
   "outputs": [
    {
     "data": {
      "text/plain": [
       "0.36"
      ]
     },
     "execution_count": 92,
     "metadata": {},
     "output_type": "execute_result"
    }
   ],
   "source": [
    "ss_l_func = sm.lambdify((g,X,eta,mu,alpha),l_star_sol)\n",
    "ss_l_func(1,1,0.3,0.5,0.5)"
   ]
  },
  {
   "attachments": {},
   "cell_type": "markdown",
   "metadata": {},
   "source": [
    "Numerical solution"
   ]
  },
  {
   "cell_type": "code",
   "execution_count": 93,
   "metadata": {},
   "outputs": [
    {
     "name": "stdout",
     "output_type": "stream",
     "text": [
      "The steady state for l is 0.5925925925925908\n"
     ]
    }
   ],
   "source": [
    "eta = 0.2\n",
    "mu = 0.3\n",
    "alpha = 1/3\n",
    "g = 1\n",
    "X = 2\n",
    "\n",
    "obj_lss2 = lambda lss2: lss2 - (eta*g**(-1)*lss2**(1-alpha)*X**(alpha)+g**(-1)*(1-mu)*lss2)\n",
    "result = optimize.root_scalar(obj_lss2,bracket=[0.1,1000],method='brentq')\n",
    "\n",
    "print('The steady state for l is',result.root)  "
   ]
  },
  {
   "attachments": {},
   "cell_type": "markdown",
   "metadata": {},
   "source": [
    "# Conclusion"
   ]
  },
  {
   "attachments": {},
   "cell_type": "markdown",
   "metadata": {},
   "source": [
    "Add concise conclusion. "
   ]
  }
 ],
 "metadata": {
  "kernelspec": {
   "display_name": "base",
   "language": "python",
   "name": "python3"
  },
  "language_info": {
   "codemirror_mode": {
    "name": "ipython",
    "version": 3
   },
   "file_extension": ".py",
   "mimetype": "text/x-python",
   "name": "python",
   "nbconvert_exporter": "python",
   "pygments_lexer": "ipython3",
   "version": "3.9.16"
  },
  "toc-autonumbering": true,
  "vscode": {
   "interpreter": {
    "hash": "47ef90cdf3004d3f859f1fb202523c65c07ba7c22eefd261b181f4744e2d0403"
   }
  }
 },
 "nbformat": 4,
 "nbformat_minor": 4
}
