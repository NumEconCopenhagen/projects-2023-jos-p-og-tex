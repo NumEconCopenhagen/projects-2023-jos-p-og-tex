{
 "cells": [
  {
   "attachments": {},
   "cell_type": "markdown",
   "metadata": {},
   "source": [
    "# Solving the Malthus model"
   ]
  },
  {
   "attachments": {},
   "cell_type": "markdown",
   "metadata": {},
   "source": [
    "Modelproject by Josefine Pedersen, Viktor Texel and Pernille Svendsen"
   ]
  },
  {
   "attachments": {},
   "cell_type": "markdown",
   "metadata": {},
   "source": [
    "> **Table of content:** \n",
    "> 1. Model description\n",
    "> 1. Analytical solution\n",
    "> 1. Numerical solution\n",
    "> 1. Further analysis\n",
    "> 1. Extension of the model\n",
    "> 1. Conclusion\n",
    "\n",
    "\n"
   ]
  },
  {
   "attachments": {},
   "cell_type": "markdown",
   "metadata": {},
   "source": [
    "*Imports and set magics*"
   ]
  },
  {
   "cell_type": "code",
   "execution_count": null,
   "metadata": {},
   "outputs": [],
   "source": [
    "import numpy as np\n",
    "from scipy import optimize\n",
    "import sympy as sm\n",
    "from types import SimpleNamespace\n",
    "import ipywidgets as widgets # For interactive plots/buttons\n",
    "\n",
    "# Plotting\n",
    "import matplotlib.pyplot as plt\n",
    "plt.rcParams.update({\"axes.grid\":True,\"grid.color\":\"black\",\"grid.alpha\":\"0.25\",\"grid.linestyle\":\"--\"})\n",
    "plt.rcParams.update({'font.size': 14})\n",
    "\n",
    "# Autoreload modules when code is run\n",
    "%load_ext autoreload\n",
    "%autoreload 2\n",
    "\n",
    "# Local modules\n",
    "import modelproject as mp"
   ]
  },
  {
   "attachments": {},
   "cell_type": "markdown",
   "metadata": {},
   "source": [
    "# Model description"
   ]
  },
  {
   "attachments": {},
   "cell_type": "markdown",
   "metadata": {},
   "source": [
    "We consider the **standard Malthus model**. We assume discrete time, $t\\in\\{0,1,\\dots\\}$ and a closed economy. Therefore, total production equals income. \n",
    "\n",
    "An assumption in the Malthus model is that labor is subject to diminishing returns in production. We model this with a **Cobb-Douglas production function**:\n",
    "\n",
    "$$\n",
    "Y_{t}=L_{t}^{1-\\alpha}(AX)^{\\alpha}\n",
    "$$\n",
    "\n",
    "Where: \n",
    "1. $L_t$ is labor (we assume no unemployment)\n",
    "3. $A$ is technology (constant over time)\n",
    "4. $X$ is land (constant over time)\n",
    "5. $Y_t$ = is GDP (production). This is equal to income.\n",
    "\n",
    "Since we have assumed no unemployment **the size of the labor force will equal total population**.\n",
    "\n",
    "Given that this is a Malthus model, technology is **constant over time** and can thus only grow through shocks.\n",
    "\n",
    "\n",
    "\n",
    "**Output pr. worker** is given by:\n",
    "\n",
    "$$\n",
    "y_{t}=\\left(\\frac{AX}{L_t}\\right)^{\\alpha}\n",
    "$$\n",
    "\n",
    "Since $\\alpha<1$ (diminishing returns) we have that as L increases, output per worker declines, given that AX is constant.\n",
    "\n",
    "**Household preferences** are given by:\n",
    "\n",
    "$$\n",
    "u_{t} = \\beta \\log (c_{t}) + (1-\\beta) \\log (n_{t}), \\ \\ \\ 0<\\beta<1\n",
    "$$\n",
    "\n",
    "Where: \n",
    "1. $c_t$ is consumption\n",
    "3. $n_t$ is the number of children\n",
    "\n",
    "And the **budget constraint** is given by:\n",
    "\n",
    "$$\n",
    "y_{t} ≥ \\lambda n_{t} + c_{t}\n",
    "$$\n",
    "\n",
    "The size of the labor force evolves according to:\n",
    "\n",
    "$$\n",
    "L_{t+1} = n_{t}L_{t}+(1-\\mu)L_{t}, \\ \\ \\ L_{0} \\ given\n",
    "$$\n",
    "\n",
    "The above equation implies that $\\mu$ represents mortality.\n",
    "\n",
    "The **law of motion for the labor force** will therefore be given by:\n",
    "\n",
    "$$\n",
    "L_{t+1} = \\left(\\frac{1-\\beta}{\\lambda} \\right) L_{t}^{1-\\alpha}(AX)^{\\alpha}+(1-\\mu)L_{t}, \\ \\ \\ L_{0} \\ given\n",
    "$$"
   ]
  },
  {
   "attachments": {},
   "cell_type": "markdown",
   "metadata": {},
   "source": [
    "## Analytical solution"
   ]
  },
  {
   "cell_type": "code",
   "execution_count": null,
   "metadata": {},
   "outputs": [],
   "source": [
    "# Parameters\n",
    "mu, beta, lamb, alpha = sm.symbols('mu beta lambda alpha')\n",
    "\n",
    "# Fixed variables\n",
    "A, X = sm.symbols('A X')\n",
    "\n",
    "# Variables\n",
    "Yt, yt, Lt, Lt1, nt, ct, ut = sm.symbols('Y_t y_t L_t L_{t+1} n_t c_t u_t')\n",
    "\n",
    "# Steady state variables\n",
    "L_star, y_star = sm.symbols('L^* y^*')"
   ]
  },
  {
   "attachments": {},
   "cell_type": "markdown",
   "metadata": {},
   "source": [
    "**Household problem**\n",
    "\n",
    "We define the household preferences and budget constraint. We assume that households use all their available income for either consumption or child rearing:"
   ]
  },
  {
   "cell_type": "code",
   "execution_count": null,
   "metadata": {},
   "outputs": [],
   "source": [
    "utility = beta*sm.log(ct)+(1-beta)*sm.log(nt)\n",
    "budget = sm.Eq(yt, lamb*nt+ct)"
   ]
  },
  {
   "attachments": {},
   "cell_type": "markdown",
   "metadata": {},
   "source": [
    "We solve the household problem in **four steps**:\n",
    "\n",
    "1. We **isolate** $c_t$ from the budget constraint\n",
    "2. We **substitute** in $c_t$ in the utility function\n",
    "3. We **take the derivative** wrt. $n_t$\n",
    "4. We **solve the FOC** for $n_t$"
   ]
  },
  {
   "cell_type": "code",
   "execution_count": null,
   "metadata": {},
   "outputs": [],
   "source": [
    "# Isolate consumption\n",
    "ct_from_budget = sm.solve(budget, ct)\n",
    "\n",
    "# Substitute into the budget constraint\n",
    "utility_subs = utility.subs(ct, ct_from_budget[0])\n",
    "\n",
    "# Take the derivattive w.r.t. number of children\n",
    "foc = sm.diff(utility_subs, nt)\n",
    "\n",
    "# Solving the FOC for optimal number of children\n",
    "sol = sm.solve(sm.Eq(foc,0), nt)[0]\n",
    "sol"
   ]
  },
  {
   "attachments": {},
   "cell_type": "markdown",
   "metadata": {},
   "source": [
    "The above expression determines the optimal number of children for the household. Here we see that the preference for children increases when there is a cultural valuation for having more children (hence $(1-\\beta)$ is larger) as well as when the cost of having children is lower (lower $\\lambda$)."
   ]
  },
  {
   "attachments": {},
   "cell_type": "markdown",
   "metadata": {},
   "source": [
    "**Law of motion for labor**\n",
    "\n",
    "Below we find the steady state level for the labor force given the law of motion:"
   ]
  },
  {
   "cell_type": "code",
   "execution_count": null,
   "metadata": {},
   "outputs": [],
   "source": [
    "# Law of motion\n",
    "LOM = sm.Eq(Lt1, ((1-beta)/lamb)*Lt**(1-alpha)*(A*X)**alpha+(1-mu)*Lt)\n",
    "LOM"
   ]
  },
  {
   "attachments": {},
   "cell_type": "markdown",
   "metadata": {},
   "source": [
    "To find the steady state value for the labor force we:\n",
    "1. **Substitute**, such that $L^* = L_{t} = L_{t+1}$ \n",
    "2. **Solve** for $L^*$:"
   ]
  },
  {
   "cell_type": "code",
   "execution_count": null,
   "metadata": {},
   "outputs": [],
   "source": [
    "# Substitute for L*\n",
    "SS = sm.Eq(L_star, ((1-beta)/lamb)*L_star**(1-alpha)*(A*X)**alpha+(1-mu)*L_star)\n",
    "\n",
    "# Solve for L_star\n",
    "L_star_sol = sm.solve(SS, L_star)[0]\n",
    "\n",
    "# Print the solution\n",
    "L_star_sol"
   ]
  },
  {
   "attachments": {},
   "cell_type": "markdown",
   "metadata": {},
   "source": [
    "Therefore we have that population density (given when dividing by X, $\\frac{L^*}{X}$) rises if:\n",
    "1. The level of technology increases (A)\n",
    "2. Households value children more $(1-\\beta)$\n",
    "3. The cost of having children decreases ($\\lambda$)\n",
    "3. The mortality declines ($\\mu$)."
   ]
  },
  {
   "attachments": {},
   "cell_type": "markdown",
   "metadata": {},
   "source": [
    "We can turn the expression for steady state labor force into a Python-function to evaluate the solution:"
   ]
  },
  {
   "cell_type": "code",
   "execution_count": null,
   "metadata": {},
   "outputs": [],
   "source": [
    "ss_L_func = sm.lambdify((A,X,beta,lamb,mu,alpha),L_star_sol)\n",
    "ss_L = ss_L_func(1,3,0.8,0.5,0.3,0.6)\n",
    "print(f'The analytical solution for steady state labor force is: {ss_L:.2f}')"
   ]
  },
  {
   "attachments": {},
   "cell_type": "markdown",
   "metadata": {},
   "source": [
    "This result arises **given the chosen parameters**."
   ]
  },
  {
   "attachments": {},
   "cell_type": "markdown",
   "metadata": {},
   "source": [
    "## Numerical solution"
   ]
  },
  {
   "attachments": {},
   "cell_type": "markdown",
   "metadata": {},
   "source": [
    "We define the **set of parameters** needed for solving the model numerically:"
   ]
  },
  {
   "cell_type": "code",
   "execution_count": null,
   "metadata": {},
   "outputs": [],
   "source": [
    "# Defining parameters\n",
    "par =  SimpleNamespace()\n",
    "par.beta = 0.8\n",
    "par.lamb = 0.5\n",
    "par.mu = 0.3\n",
    "par.alpha = 0.6\n",
    "par.A = 1\n",
    "par.X = 3\n",
    "par.T = 100   "
   ]
  },
  {
   "cell_type": "code",
   "execution_count": null,
   "metadata": {},
   "outputs": [],
   "source": [
    "obj_lss = lambda lss: lss - (((1-par.beta)/par.lamb)*lss**(1-par.alpha)*(par.A*par.X)**(par.alpha)+(1-par.mu)*lss)\n",
    "mp.solve(obj_lss)"
   ]
  },
  {
   "attachments": {},
   "cell_type": "markdown",
   "metadata": {},
   "source": [
    "We can see that we get the **exact same solution as the analytical solution**, if we choose the same parameter values. This is also the case if we choose different parameter values for both cases."
   ]
  },
  {
   "attachments": {},
   "cell_type": "markdown",
   "metadata": {},
   "source": [
    "**Plotting the phase diagram for population**"
   ]
  },
  {
   "cell_type": "code",
   "execution_count": null,
   "metadata": {},
   "outputs": [],
   "source": [
    "# Plot phase diagram\n",
    "mp.phase_diagram(par)"
   ]
  },
  {
   "attachments": {},
   "cell_type": "markdown",
   "metadata": {},
   "source": [
    "The plot shows that the law of motion for labor crosses the 45 degree line at exactly the steady state value. This implies that labor will not increase anymore (labor in period t is equal to labor in period t+1)"
   ]
  },
  {
   "attachments": {},
   "cell_type": "markdown",
   "metadata": {},
   "source": [
    "**Plotting the path to convergence for the population size**"
   ]
  },
  {
   "cell_type": "code",
   "execution_count": null,
   "metadata": {},
   "outputs": [],
   "source": [
    "beta = par.beta\n",
    "lamb = par.lamb\n",
    "mu = par.mu\n",
    "alpha = par.alpha\n",
    "A_val = par.A\n",
    "X_val = par.X\n",
    "T_val = par.T"
   ]
  },
  {
   "cell_type": "code",
   "execution_count": null,
   "metadata": {},
   "outputs": [],
   "source": [
    "mp.convergence(beta,lamb,mu,alpha,A_val,X_val,T_val,interactive=False)"
   ]
  },
  {
   "attachments": {},
   "cell_type": "markdown",
   "metadata": {},
   "source": [
    "It can be seen by the figure, that for the chosen parameter values the model **converges to the steady state value for the labor force** (and thereby for population) in **approximately 40 time periods**."
   ]
  },
  {
   "attachments": {},
   "cell_type": "markdown",
   "metadata": {},
   "source": [
    "# Further analysis"
   ]
  },
  {
   "attachments": {},
   "cell_type": "markdown",
   "metadata": {},
   "source": [
    "To further analyse the model, we make the convergence plot interactive, to see what happens when we change the parameter values:"
   ]
  },
  {
   "cell_type": "code",
   "execution_count": null,
   "metadata": {},
   "outputs": [],
   "source": [
    "widgets.interact(mp.convergence,\n",
    "    beta=widgets.FloatSlider(description=r\"beta\", min=0.1, max=1, step=0.05, value=beta),\n",
    "    lamb=widgets.FloatSlider(description=r\"lambda\", min=0.1, max=1, step=0.05, value=lamb),\n",
    "    mu=widgets.FloatSlider(description=r\"mu\", min=0.1, max=1, step=0.05, value=mu),\n",
    "    alpha=widgets.FloatSlider(description=r\"alpha\", min=0.1, max=1, step=0.05, value=alpha),\n",
    "    A_val=widgets.FloatSlider(description=r\"A\", min=1, max=5, step=0.5, value=A_val),\n",
    "    X_val=widgets.FloatSlider(description=r\"X\", min=1, max=5, step=0.5, value=X_val),\n",
    "    T_val=widgets.fixed(T_val),\n",
    "    interactive=widgets.fixed(True)\n",
    ");"
   ]
  },
  {
   "attachments": {},
   "cell_type": "markdown",
   "metadata": {},
   "source": [
    "In the above plot we can see that:\n",
    "1. When $\\beta$ decreases the steady state value increases, since household's thus value children more, so steady state labor force will increase. The time it takes to reach steady state does not change however.\n",
    "2. When $\\lambda$ increases the steady state value decreases, since household's thus have higher costs of having children, so steady state labor force will decrease. The time it takes to reach steady state does not change however.\n",
    "3. When $\\mu$ increases the steady state value decreases, since household's thus have a higher mortality rate, so steady state labor force will decrease. The time it takes to reach steady state is also lowered.\n",
    "4. When $\\alpha$ increases the steady state value decreases, since labor becomes less productive, thus income decreases and therefore household's can have fewer children. The time it takes to reach steady state is also lowered.\n",
    "5. When $A$ or $X$ increase the steady state value increases, since more land can sustain more people and a higher level of techonology increases income, such that household's can have more children. The time it takes to reach steady state does not change."
   ]
  },
  {
   "attachments": {},
   "cell_type": "markdown",
   "metadata": {},
   "source": [
    "Steady state will however still be reached, since e.g. technological growth leads to initially higher income, but since population also grows, income pr. worker will decrease (due to diminishing returns to scale), so growth in labor force will decrease again. \n",
    "\n",
    "We can see this by investigating what happens if **techology permanently increase 50 periods in the future**:"
   ]
  },
  {
   "cell_type": "code",
   "execution_count": null,
   "metadata": {},
   "outputs": [],
   "source": [
    "# Create the shock path for A\n",
    "A_path = np.ones(par.T) * par.A  # start with a vector of A values equal to par.A\n",
    "A_path[50:] = A_path[50:] * 1.2  # increase A by 20% from t=50 onwards\n",
    "\n",
    "# Call the convergence function with the shock path for A\n",
    "L_path = mp.convergence_tech_shock(par,A_path)"
   ]
  },
  {
   "attachments": {},
   "cell_type": "markdown",
   "metadata": {},
   "source": [
    "We can see that population size has converged initially after about 40 periods, but then techology increases, so the economy is momentarily pushed out of steady state, such that population increases. This is however only until the lacking income pr. worker growth induces household's to stop having more children."
   ]
  },
  {
   "attachments": {},
   "cell_type": "markdown",
   "metadata": {},
   "source": [
    "# Extension of the model"
   ]
  },
  {
   "attachments": {},
   "cell_type": "markdown",
   "metadata": {},
   "source": [
    "We can extend the model with technological growth. \n",
    "$$\n",
    "\\frac{A_{t+1}}{A_{t}} = g\n",
    "$$\n",
    "\n",
    "where g is this growth factor. In the baseline model $g=1$\n",
    "\n",
    "With technological change we get a slighty changed law of motion\n",
    "$$\n",
    "L_{t+1} = \\eta L_{t}^{1-\\alpha}(A_{t}X)^{\\alpha}+(1-\\mu)L_{t}, \\ \\ \\ L_{0} \\ given\n",
    "$$\n"
   ]
  },
  {
   "attachments": {},
   "cell_type": "markdown",
   "metadata": {},
   "source": [
    "The evolution of the labor force (and hence population) for constant growth in techonology is plotted below. Here it can be seen, that population will now not stagnate, since progressing technology can allow for increasing income pr. worker, and thus households would continue to update their preference for having children."
   ]
  },
  {
   "cell_type": "code",
   "execution_count": null,
   "metadata": {},
   "outputs": [],
   "source": [
    "par.T = 200\n",
    "mp.convergence_extension(par)"
   ]
  },
  {
   "attachments": {},
   "cell_type": "markdown",
   "metadata": {},
   "source": [
    "The prediction of the Malthus model is that population will stagnate at a constant level (and that income pr. worker will as well), which does not seem realistic given the actual development in the last decades - since the industrial revolution. Therefore, it might be more plausible (as above) to model the Malthus economy with constant growth in technology, to allow for increasing living standards and population growth.\n",
    "\n",
    "However, an exponential growth may not be very plausible either, given that population would be predicted to grow very fast - and much faster than in reality - even for relatively low growth rates in technology. \n",
    "\n",
    "A more realistic extension could thus be to model less than exponential growth in technology (but still increasing), to come closer to the actual development in industrialized countries. We will, however, not go into depths with this extension here."
   ]
  },
  {
   "attachments": {},
   "cell_type": "markdown",
   "metadata": {},
   "source": [
    "# Conclusion"
   ]
  },
  {
   "attachments": {},
   "cell_type": "markdown",
   "metadata": {},
   "source": [
    "We have seen that the simple Malthus model can be solved both analytically and numerically. We have seen that the model specification results in stagnating population size due to diminishing returns in the production function. Population will stagnate for all plausible parameter values, but for different population sizes. Hence e.g. a higher level of technology will result in a higher steady state value for population size.\n",
    "\n",
    "If we extend the model to have exogenous techological growth however, population will not stagnate but instead continue to grow at the same rate as technology. \n",
    "\n",
    "Both versions of the model does not fit the actual real-world development - a better fit could maybe be to allow for less-than-exponential growth in technology."
   ]
  }
 ],
 "metadata": {
  "kernelspec": {
   "display_name": "base",
   "language": "python",
   "name": "python3"
  },
  "language_info": {
   "codemirror_mode": {
    "name": "ipython",
    "version": 3
   },
   "file_extension": ".py",
   "mimetype": "text/x-python",
   "name": "python",
   "nbconvert_exporter": "python",
   "pygments_lexer": "ipython3",
   "version": "3.9.16"
  },
  "toc-autonumbering": true,
  "vscode": {
   "interpreter": {
    "hash": "47ef90cdf3004d3f859f1fb202523c65c07ba7c22eefd261b181f4744e2d0403"
   }
  }
 },
 "nbformat": 4,
 "nbformat_minor": 4
}
