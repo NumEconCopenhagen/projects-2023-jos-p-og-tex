{
 "cells": [
  {
   "attachments": {},
   "cell_type": "markdown",
   "metadata": {},
   "source": [
    "# Exam 2023"
   ]
  },
  {
   "attachments": {},
   "cell_type": "markdown",
   "metadata": {},
   "source": [
    "Examproject by Josefine Pedersen, Viktor Texel and Pernille Svendsen"
   ]
  },
  {
   "attachments": {},
   "cell_type": "markdown",
   "metadata": {},
   "source": [
    "**Table of contents**<a id='toc0_'></a>    \n",
    "- 1. [Problem 1: Optimal taxation with government consumption](#toc1_)    \n",
    "- 2. [Problem 2: Labor adjustment costs](#toc2_)    \n",
    "- 3. [Problem 3: Global optimizer with refined multi-start](#toc3_)    \n",
    "\n",
    "<!-- vscode-jupyter-toc-config\n",
    "\tnumbering=true\n",
    "\tanchor=true\n",
    "\tflat=false\n",
    "\tminLevel=2\n",
    "\tmaxLevel=6\n",
    "\t/vscode-jupyter-toc-config -->\n",
    "<!-- THIS CELL WILL BE REPLACED ON TOC UPDATE. DO NOT WRITE YOUR TEXT IN THIS CELL -->"
   ]
  },
  {
   "attachments": {},
   "cell_type": "markdown",
   "metadata": {},
   "source": [
    "*Imports and set magics:*"
   ]
  },
  {
   "cell_type": "code",
   "execution_count": null,
   "metadata": {},
   "outputs": [],
   "source": [
    "# Imports\n",
    "import numpy as np\n",
    "import matplotlib.pyplot as plt\n",
    "import sympy as sm\n",
    "from types import SimpleNamespace\n",
    "from scipy import optimize\n",
    "\n",
    "# Predefine options for all plots\n",
    "plt.rcParams.update({\"axes.grid\":True,\"grid.color\":\"black\",\"grid.alpha\":\"0.25\",\"grid.linestyle\":\"-\"})\n",
    "plt.rcParams.update({'font.size': 14})\n",
    "\n",
    "# Autoreload modules when code is run. Otherwise, python will not see recent changes. \n",
    "%load_ext autoreload\n",
    "%autoreload 2\n",
    "\n",
    "# Importing our own code\n",
    "from examproject import question1\n",
    "q1 = question1()\n",
    "from examproject import question2\n",
    "q2 = question2()\n",
    "from examproject import question3\n",
    "q3 = question3()"
   ]
  },
  {
   "attachments": {},
   "cell_type": "markdown",
   "metadata": {},
   "source": [
    "## 1. <a id='toc1_'></a>[Problem 1: Optimal taxation with government consumption](#toc0_)"
   ]
  },
  {
   "attachments": {},
   "cell_type": "markdown",
   "metadata": {},
   "source": [
    "\n",
    "Consider a worker choosing hours of labor, $L\\in[0,24]$, to maximize utility: \n",
    "\n",
    "$$\n",
    "\\begin{align*}\n",
    "V(w,\\tau,G)&=\\max_{L\\in[0,24]}\\ln\\left(C^{\\alpha}G^{1-\\alpha}\\right)-\\nu\\frac{L^{2}}{2}\\\\&\\text{s.t.}\\\\&C=\\kappa+(1-\\tau)wL\n",
    "\\end{align*}\n",
    "$$\n",
    "\n",
    "where \n",
    "\n",
    "* $C$ is *private* consumption with weight $\\alpha\\in(0,1)$.\n",
    "* $\\kappa > 0$ is the *free private* consumption component.\n",
    "* $(1-\\tau)wL$ is the *costly private* consumption component.\n",
    "* $w > 0 $ is the real wage.\n",
    "* $\\tau \\in (0,1)$ is the labor-income tax rate.\n",
    "* $G > 0 $ is *government* consumption with weight $1-\\alpha$.\n",
    "* $\\nu > 0$ is the disutility of labor scaling factor"
   ]
  },
  {
   "attachments": {},
   "cell_type": "markdown",
   "metadata": {},
   "source": [
    "\n",
    "The baseline parameters are:\n",
    "\n",
    "$$\n",
    "\\begin{align*}\n",
    "\\alpha &= 0.5\\\\\n",
    "\\kappa &= 1.0\\\\\n",
    "\\nu &= \\frac{1}{2\\cdot16^2} \\\\\n",
    "w &= 1.0 \\\\ \n",
    "\\tau &= 0.30 \\\\\n",
    "\\end{align*}\n",
    "$$"
   ]
  },
  {
   "attachments": {},
   "cell_type": "markdown",
   "metadata": {},
   "source": [
    "**Question 1:** Verify that the optimal labor supply choice is $L^{\\star}(\\tilde{w}) =\\frac{-\\kappa+\\sqrt{\\kappa^{2}+4\\frac{\\alpha}{\\nu}\\tilde{w}^2}}{2\\tilde{w}}$, where $\\tilde{w} = (1-\\tau)w$, for $G\\in\\left\\{1.0 , 2.0\\right\\}$."
   ]
  },
  {
   "attachments": {},
   "cell_type": "markdown",
   "metadata": {},
   "source": [
    "We begin by defining the parameters and functions.\n",
    "\n",
    "**Note:** We could not define $\\tilde{w}$ in sympy, so we have called this variable $w_{tilde}$.   "
   ]
  },
  {
   "cell_type": "code",
   "execution_count": null,
   "metadata": {},
   "outputs": [],
   "source": [
    "# Parameters\n",
    "alpha, kappa, v, w, tau, w_tilde = sm.symbols('alpha kappa v w tau w_tilde')\n",
    "\n",
    "# Variables\n",
    "G, C, L, = sm.symbols('G C L')\n",
    "\n",
    "# Define utility function and constraint\n",
    "utility = sm.ln(C**alpha * G**(1-alpha))-v*(L**2/2)\n",
    "constraint = kappa + (1-tau)*w*L\n",
    "\n",
    "# Define constraint for omega_tilde\n",
    "constraint_subs = constraint.subs((1-tau)*w, w_tilde)"
   ]
  },
  {
   "attachments": {},
   "cell_type": "markdown",
   "metadata": {},
   "source": [
    "To find optimal labor supply we:\n",
    "1. Substitute consumption for constraint in the utility function\n",
    "2. Differentiate w.r.t. $L$ (labor)\n",
    "3. Solve for $L$ to find $L^*$ (optimal labor)"
   ]
  },
  {
   "cell_type": "code",
   "execution_count": null,
   "metadata": {},
   "outputs": [],
   "source": [
    "# Substitute consumption for constraint in the utility function\n",
    "utility_subs = utility.subs(C, constraint_subs)\n",
    "\n",
    "# Differentiate w.r.t. L:\n",
    "foc = sm.diff(utility_subs, L)\n",
    "foc2 = sm.simplify(foc)\n",
    "\n",
    "# Solve for L to find L_star\n",
    "L_star = sm.solve(foc2, L)\n",
    "L_star2 = L_star[1]\n",
    "L_star2"
   ]
  },
  {
   "attachments": {},
   "cell_type": "markdown",
   "metadata": {},
   "source": [
    "We only use the solution with ´+´ before the square root as we would otherwise get negative values for labor, which is not possible. "
   ]
  },
  {
   "attachments": {},
   "cell_type": "markdown",
   "metadata": {},
   "source": [
    "We see that it is possible to simplify the equation by dividing both the numerator and the denominator with v. In the denominator we would thus get $2\\tilde{w}$. As $\\sqrt x=x^{0.5}$ we would for the numerator get $$-\\kappa + v^{-0.5}\\sqrt{4\\alpha\\tilde{w}^2+\\kappa^2 v}$$ which is equal to $$-\\kappa + \\sqrt{\\frac{1}{v} (4\\alpha\\tilde{w}^2+\\kappa^2 v)} = -\\kappa + \\sqrt{\\frac{1}{v} 4\\alpha\\tilde{w}^2+\\kappa^2}$$"
   ]
  },
  {
   "attachments": {},
   "cell_type": "markdown",
   "metadata": {},
   "source": [
    "From the above we can simplify the optimal labor supply to the given expression. We tried to use sympy to simplify the expression, but we could not get it to work. We therefore define the simplified expression, but this is - as shown - equal to the derived one. "
   ]
  },
  {
   "cell_type": "code",
   "execution_count": null,
   "metadata": {},
   "outputs": [],
   "source": [
    "# We define the answer, as sympy is not able to simplify the equation properly\n",
    "L_star_sim = (-kappa+sm.sqrt(kappa**2+4*alpha/v*w_tilde**2))/(2*w_tilde)\n",
    "L_star_sim"
   ]
  },
  {
   "attachments": {},
   "cell_type": "markdown",
   "metadata": {},
   "source": [
    "Now we have verified that optimal labor supply is identified by the expression given.\n",
    "\n",
    "The result for optimal labor supply is a function varying with the free private consumption component (kappa), the costly private consumption component (w_tilde) and the factor of disutility of labor scaling (v). "
   ]
  },
  {
   "attachments": {},
   "cell_type": "markdown",
   "metadata": {},
   "source": [
    "**Question 2:** Illustrate how $L^{\\star}(\\tilde{w})$ depends on $w$."
   ]
  },
  {
   "cell_type": "code",
   "execution_count": null,
   "metadata": {},
   "outputs": [],
   "source": [
    "# Define lambdified function for optimal labor\n",
    "L_star_func = sm.lambdify((kappa, alpha, v, w_tilde), L_star_sim)"
   ]
  },
  {
   "cell_type": "code",
   "execution_count": null,
   "metadata": {},
   "outputs": [],
   "source": [
    "# Plot the relatopnship between L_star and w_tilde\n",
    "q1.plot_L_wage(L_star_func)"
   ]
  },
  {
   "attachments": {},
   "cell_type": "markdown",
   "metadata": {},
   "source": [
    "The plot shows that optimal labor is increasing for all wages, but with a decreasing slope. This means that agents have a tendency to increase their labor supply with less, if the wage increases for an already high wage level. This is due to diminishing marginal returns."
   ]
  },
  {
   "attachments": {},
   "cell_type": "markdown",
   "metadata": {},
   "source": [
    "\n",
    "We now consider a government, who chooses $\\tau$ and spend all of the taxes on government consumption so:\n",
    "\n",
    "$$\n",
    "G = \\tau w L^{\\star}((1-\\tau)w)\n",
    "$$\n",
    "\n",
    "**Question 3:** Plot the implied $L$, $G$ and worker utility for a grid of $\\tau$-values.\n"
   ]
  },
  {
   "cell_type": "code",
   "execution_count": null,
   "metadata": {},
   "outputs": [],
   "source": [
    "# Plot optimal labor, optimal government consumption and worker utility for different tau\n",
    "q1.plot_functions(L_star_func)"
   ]
  },
  {
   "attachments": {},
   "cell_type": "markdown",
   "metadata": {},
   "source": [
    "The plot shows how government consumption, labor supply and worker utility varies for different tax rates. \n",
    "\n",
    "The blue curve shows the labor supply. We see that labor supply is decreasing in the tax rate, although it is fairly flat in the beginning, after which it drops substantially for high tax rates. This indicates that the tax rate does not have a significant impact on labor supply when it is low, but for really high tax rates labor supply drops significantly, since agents are not willing to work for almost zero disposable wage.\n",
    "\n",
    "The green curve shows the workers utility. We see that utility increases at very low tax rates. After this the utility is almost flat for all values but decreasing as the tax rate increases. For very high tax rates the utility drops significantly below zero, indicating that people get disutility for very high tax rates, since they have low disposable real wage. The utility is also affected by the government consumption. More government consumption increases the worker utility. \n",
    "\n",
    "The orange curve shows the government consumption. The consumption starts by increasing as the tax rate increase because of a larger tax revenue, hence more money for the government to spend. For a tax rate larger than approx. 50% government consumption decreases, since tax revenue will decease as agents choose to work less. "
   ]
  },
  {
   "attachments": {},
   "cell_type": "markdown",
   "metadata": {},
   "source": [
    "**Question 4:** Find the socially optimal tax rate $\\tau^{\\star}\\in(0,1)$ maximizing worker utility. Illustrate your result."
   ]
  },
  {
   "cell_type": "code",
   "execution_count": null,
   "metadata": {},
   "outputs": [],
   "source": [
    "# Plot relationship between tax rate and worker utility\n",
    "q1.max_utility(L_star_func,do_print=True)"
   ]
  },
  {
   "attachments": {},
   "cell_type": "markdown",
   "metadata": {},
   "source": [
    "The socially optimal tax rate is 26 %. For lower tax rates the workers are able to gain more utility as the tax goes to government consumption. This benefits the workers. For tax rates higher than 26 % the positive benefits from government consumption does not outweigh the fact that you have to give away a larger share of your wage. "
   ]
  },
  {
   "attachments": {},
   "cell_type": "markdown",
   "metadata": {},
   "source": [
    "**Now we consider the following modification:**\n",
    "\n",
    "A more general preference formulation for the worker is:\n",
    "\n",
    "$$\n",
    "\\begin{align*}\n",
    "\\mathcal{V}(w,\\tau,G)&=\\max_{L\\in[0,24]}\\frac{\\left[ \\left( \\alpha C^{\\frac{\\sigma-1}{\\sigma}}+(1-\\alpha) G^{\\frac{\\sigma-1}{\\sigma}} \\right)^{\\frac{\\sigma}{\\sigma-1} }\\right]^{1-\\rho}-1}{1-\\rho}- \\nu\\frac{L^{1+\\varepsilon}}{1+\\varepsilon},\\,\\,\\,\\varepsilon,\\rho,\\sigma>0,\\,\\,\\,\\rho,\\sigma\\neq1\\\\&\\text{s.t.}\\\\&C=\\kappa+(1-\\tau)wL\n",
    "\\end{align*}    \n",
    "$$\n",
    "\n",
    "Optimal labor supply is now $L^{\\star}(\\tilde{w},G)$."
   ]
  },
  {
   "attachments": {},
   "cell_type": "markdown",
   "metadata": {},
   "source": [
    "Questions 5 and 6 must be answered with the general formulation, and for 2 different set of parameters:\n",
    "\n",
    "- Set 1:  $\\sigma = 1.001$, $\\rho = 1.001$ and $\\varepsilon = 1.0$.\n",
    "- Set 2:  $\\sigma = 1.5$, $\\rho = 1.5$ and $\\varepsilon = 1.0 $."
   ]
  },
  {
   "attachments": {},
   "cell_type": "markdown",
   "metadata": {},
   "source": [
    "**Question 5:** Find the $G$ that solves $G = \\tau w L^{\\star}((1-\\tau)w,G)$ using the $\\tau$ found in question 4.\n",
    "\n",
    "*Hint: First write code that solves the worker problem for given values of $G$ and $\\tau$. Then find the correct G based on this.*"
   ]
  },
  {
   "attachments": {},
   "cell_type": "markdown",
   "metadata": {},
   "source": [
    "We calculate government consumption for the first set of parameters:"
   ]
  },
  {
   "cell_type": "code",
   "execution_count": null,
   "metadata": {},
   "outputs": [],
   "source": [
    "q1.optimal_G(L_star_func)"
   ]
  },
  {
   "attachments": {},
   "cell_type": "markdown",
   "metadata": {},
   "source": [
    "We calculate government consumption for the second set of parameters:"
   ]
  },
  {
   "cell_type": "code",
   "execution_count": null,
   "metadata": {},
   "outputs": [],
   "source": [
    "q1.optimal_G(L_star_func,case=2)"
   ]
  },
  {
   "attachments": {},
   "cell_type": "markdown",
   "metadata": {},
   "source": [
    "With the new utility function we calculate the government consumption for different values of sigma, rho and epsilon.\n",
    "In the first case we get an optimal level of government consumption of 3.99. \n",
    "In the second case the level decreases to 2.82. \n",
    "\n",
    "This means that for higher values of sigma and rho government consumption decreases. Sigma is the risk aversion, so when this increases, worker would prefer to have higher wage income (and thus pay lower taxes) to mitigate risk. "
   ]
  },
  {
   "attachments": {},
   "cell_type": "markdown",
   "metadata": {},
   "source": [
    "**Question 6:** Find the socially optimal tax rate, $\\tau^{\\star}$, maximizing worker utility, while keeping $G = \\tau w L^{\\star}((1-\\tau)w,G)$."
   ]
  },
  {
   "attachments": {},
   "cell_type": "markdown",
   "metadata": {},
   "source": [
    "Firstly, we find the optimal tax rate for the first set of parameters:"
   ]
  },
  {
   "cell_type": "code",
   "execution_count": null,
   "metadata": {},
   "outputs": [],
   "source": [
    "q1.optimal_tax(case=1)"
   ]
  },
  {
   "attachments": {},
   "cell_type": "markdown",
   "metadata": {},
   "source": [
    "We then find the optimal tax rate for the second set of parameters:"
   ]
  },
  {
   "cell_type": "code",
   "execution_count": null,
   "metadata": {},
   "outputs": [],
   "source": [
    "q1.optimal_tax(case=2)"
   ]
  },
  {
   "attachments": {},
   "cell_type": "markdown",
   "metadata": {},
   "source": [
    "We find the optimal values for labor supply, government consumption, maximum utility and the optimal tax rate for two sets of parameter values. \n",
    "From the results it is clear that utility is higher for the first case, so workers can gain higher utility with a lower level of e.g. risk aversion. But for both cases the optimal tax rate is close to 50 pct., yielding a relatively high government consumption and lower labor supply than for the initial utility function."
   ]
  },
  {
   "attachments": {},
   "cell_type": "markdown",
   "metadata": {},
   "source": [
    "## 2. <a id='toc2_'></a>[Problem 2: Labor adjustment costs](#toc0_)"
   ]
  },
  {
   "attachments": {},
   "cell_type": "markdown",
   "metadata": {},
   "source": [
    "You own a hair salon. You employ hairdressers, $\\ell_t$, to produce haircuts, $y_t = \\ell_t$.\n",
    "\n",
    "The wage for each hairdresser is $w$.\n",
    "\n",
    "The demand for haircuts implies that the price of haircuts you can charge is $p_t = \\kappa_t y_t^{-\\eta}$, where $\\kappa_t$ is a demand-shock and $\\eta \\in (0,1)$ measures the elasticity of demand.\n",
    "\n",
    "Profits are:\n",
    "\n",
    "$$\n",
    "\\Pi_t = p_t y_t - w \\ell_t = \\kappa_t \\ell_t^{1-\\eta} - w \\ell_t\n",
    "$$"
   ]
  },
  {
   "attachments": {},
   "cell_type": "markdown",
   "metadata": {},
   "source": [
    "Baseline parameters are:\n",
    "- $\\eta = 0.5$\n",
    "- $w = 1.0$"
   ]
  },
  {
   "attachments": {},
   "cell_type": "markdown",
   "metadata": {},
   "source": [
    "**Question 1:** Verify numerically that $\\ell_{t}=\\left(\\frac{(1-\\eta)\\kappa_{t}}{w}\\right)^{\\frac{1}{\\eta}}$ maximises profits, for $\\kappa\\in\\left\\{1.0 , 2.0\\right\\}$."
   ]
  },
  {
   "attachments": {},
   "cell_type": "markdown",
   "metadata": {},
   "source": [
    "We solve question 1 by defining the profit function for a hairdresser, as well as the baseline parameters, after which we utilize the optimize.minimize function to solve for $\\ell_{t}$"
   ]
  },
  {
   "cell_type": "code",
   "execution_count": null,
   "metadata": {},
   "outputs": [],
   "source": [
    "# Define different values for kappa\n",
    "kappa_vec = [1.01, 1.2, 1.4, 1.6, 1.8, 1.99]\n",
    "\n",
    "# Check if optimal value matches given solution\n",
    "q2.check_numerical(kappa_vec)"
   ]
  },
  {
   "attachments": {},
   "cell_type": "markdown",
   "metadata": {},
   "source": [
    "From our output above, we see that for $\\kappa\\in\\left\\{1.0 , 2.0\\right\\}$ profits are maximized by the equation given, i.e.: $\\ell_{t}=\\left(\\frac{(1-\\eta)\\kappa_{t}}{w}\\right)^{\\frac{1}{\\eta}}$. We verify this result by comparing our numerical solution with the given solution, for multiple kappa values. Hereby it is illustrated that our numerical result gives the same labor values as the given solution.\n",
    "\n"
   ]
  },
  {
   "attachments": {},
   "cell_type": "markdown",
   "metadata": {},
   "source": [
    "We now consider a *dynamic* version of the model.\n",
    "\n",
    "* The demand-shock is a so-called AR(1) in logs, \n",
    "\n",
    "$$\n",
    "\\log \\kappa_{t} = \\rho \\log \\kappa_{t-1} + \\epsilon_{t},\\,\\,\\, \\epsilon_{t+1} \\sim \\mathcal{N}(-0.5\\sigma_{\\epsilon}^2,\\sigma_{\\epsilon})\n",
    "$$\n",
    "\n",
    "* Any hiring or firing implies a fixed adjustment cost, $\\iota > 0 $.\n",
    "* Future profits are discounted with a monthly factor of $R \\in (0,1)$.\n",
    "\n",
    "The initial demand shock is $\\kappa_{-1} = 1$ and the planning horizon is 10 years, i.e. 120 months so $t \\in \\{0,1,2,\\dots,119\\}$. Initially you don't have any employees, $\\ell_{-1}=0$"
   ]
  },
  {
   "attachments": {},
   "cell_type": "markdown",
   "metadata": {},
   "source": [
    "\n",
    "The *ex post* value of the salon is *conditional* on the shock series is:\n",
    "\n",
    "$$\n",
    "h(\\epsilon_0,\\epsilon_1,\\dots,\\epsilon_{119}) = \\left[\\sum_{t=0}^{119}R^{-t}\\left[\\kappa_{t}\\ell_{t}^{1-\\eta}-w\\ell_{t}-\\boldsymbol{1}_{\\ell_{t}\\neq\\ell_{t-1}}\\iota\\right]\\right]\n",
    "$$\n",
    "\n",
    "The *ex ante* expected value of the salon can be approximated by\n",
    "\n",
    "$$\n",
    "H = \\mathbb{E}[h(\\epsilon_0,\\epsilon_1,\\dots,\\epsilon_{119})] \\approx \\frac{1}{K}\\sum_{k=0}^{K-1} h(\\epsilon_0^k,\\epsilon_1^k,\\dots,\\epsilon_{119}^k)\n",
    "$$\n",
    "\n",
    "where each $k\\in\\{0,1,\\dots,K-1\\}$ is a random shock series. Maximizing profitability means maximizing $H$.\n"
   ]
  },
  {
   "attachments": {},
   "cell_type": "markdown",
   "metadata": {},
   "source": [
    "Baseline parameters are: \n",
    "\n",
    "- $\\rho = 0.90$\n",
    "- $\\iota = 0.01$\n",
    "- $\\sigma_{\\epsilon} = 0.10$\n",
    "- $R = \\left(1+0.01\\right)^{1/12}$"
   ]
  },
  {
   "attachments": {},
   "cell_type": "markdown",
   "metadata": {},
   "source": [
    "**Question 2:** Calculate $H$ if the policy  $\\ell_{t}=\\left(\\frac{(1-\\eta)\\kappa_{t}}{w}\\right)^{\\frac{1}{\\eta}}$ from question 1 is followed. Choose $K$ so the approximation is good enough to not affect your results substantially."
   ]
  },
  {
   "attachments": {},
   "cell_type": "markdown",
   "metadata": {},
   "source": [
    "We calculate H under the given policy. Our seed in the demand shock is 2805 and we generate 120 random numbers, as the timeframe is 120 months, i.e. 10 years. "
   ]
  },
  {
   "cell_type": "code",
   "execution_count": null,
   "metadata": {},
   "outputs": [],
   "source": [
    "# Calculate demand shock\n",
    "log_kappa = q2.demand_shock()\n",
    "\n",
    "# Define policy vector\n",
    "l_start = np.ones(q2.par2.n)\n",
    "l_vec1 = l_start[:]*(((1-q2.par2.eta)*np.exp(log_kappa))/q2.par2.w)**(1/q2.par2.eta)\n",
    "\n",
    "# Set initial labor to 0\n",
    "l_vec1[0] = 0\n",
    "\n",
    "# Define number of shock series\n",
    "K = 10\n",
    "\n",
    "# Calculate ex-ante value\n",
    "q2.ex_ante_value(K,l_vec1,do_print=True)"
   ]
  },
  {
   "attachments": {},
   "cell_type": "markdown",
   "metadata": {},
   "source": [
    "The ex-ante value of the salon is estimated to be 26.06. We want to choose the best possible K-value for our approximation, and therefore we check how H vary with K."
   ]
  },
  {
   "cell_type": "code",
   "execution_count": null,
   "metadata": {},
   "outputs": [],
   "source": [
    "# Show that different K's does not change resuts substantially\n",
    "for K in range(10,105,5):\n",
    "    val_salon = q2.ex_ante_value(K,l_vec1)\n",
    "    print(f'K = {K:.1f} gives value = {val_salon:.2f}')"
   ]
  },
  {
   "attachments": {},
   "cell_type": "markdown",
   "metadata": {},
   "source": [
    "We see that H decreases slightly for higher K-values, meaning that the more demand-shocks there are in the series, the lower the ex-ante expected value of the salon is. However, the value does not change dramatically. From now on we work with K=10."
   ]
  },
  {
   "attachments": {},
   "cell_type": "markdown",
   "metadata": {},
   "source": [
    "**Now we consider the policies on the form:**\n",
    "\n",
    "$$\n",
    "\n",
    "\\ell_{t}=\\begin{cases}\n",
    "\\ell_t^{\\ast}  & \\text{if }\\left|\\ell_{t-1}-\\ell_t^{\\ast} \\right|>\\Delta\\\\\n",
    "\\ell_{t-1} & \\text{else }\n",
    "\\end{cases}\n",
    "\\\\\n",
    "\\text{where}\\,\\,\\ell_t^{\\ast} = \\left(\\frac{(1-\\eta)\\kappa_{t}}{w}\\right)^{\\frac{1}{\\eta}} \\\\\n",
    "\n",
    "$$\n",
    "With $\\Delta \\geq 0$ and $\\Delta = 0$ being the previous policy.\n"
   ]
  },
  {
   "attachments": {},
   "cell_type": "markdown",
   "metadata": {},
   "source": [
    "\n",
    "**Question 3:** Calculate $H$ if the policy above was followed with $\\Delta = 0.05$. Does it improve profitability?"
   ]
  },
  {
   "attachments": {},
   "cell_type": "markdown",
   "metadata": {},
   "source": [
    "A new policy is introduced, and we want to analyze how this affects profits. We do this by calculating H under the new policy and compare it to H under the old policy for a given K value. We compare for K = 10. "
   ]
  },
  {
   "cell_type": "code",
   "execution_count": null,
   "metadata": {},
   "outputs": [],
   "source": [
    "# Defining the new policy vector\n",
    "l_vec2 = q2.l_vec2(0.05)\n",
    "\n",
    "# Calculate ex-ante values for different policies\n",
    "new_policy = q2.ex_ante_value(10,l_vec2)\n",
    "old_policy = q2.ex_ante_value(10,l_vec1)\n",
    "\n",
    "# Compare results\n",
    "print(f'Original policy: {old_policy:.2f} and new policy: {new_policy:.2f}')"
   ]
  },
  {
   "attachments": {},
   "cell_type": "markdown",
   "metadata": {},
   "source": [
    "From our calculations we see that the new policy improves profitability. We checked for multiple K-values. "
   ]
  },
  {
   "attachments": {},
   "cell_type": "markdown",
   "metadata": {},
   "source": [
    "**Question 4:** Find the optimal $\\Delta$ maximizing $H$. Illustrate your result."
   ]
  },
  {
   "cell_type": "code",
   "execution_count": null,
   "metadata": {},
   "outputs": [],
   "source": [
    "# Find optimal delta value\n",
    "q2.value_opt(do_print=True)"
   ]
  },
  {
   "cell_type": "code",
   "execution_count": null,
   "metadata": {},
   "outputs": [],
   "source": [
    "# Illustrate the optimal delta value\n",
    "q2.delta_plot()"
   ]
  },
  {
   "attachments": {},
   "cell_type": "markdown",
   "metadata": {},
   "source": [
    "We find the optimal value for delta to be 0.221. This indicates that a slightly higher value of delta improves profitability for the hair salon. \n",
    "In the plot above we show the ex ante value of the hair salon for different values of delta. The optimal value is marked with a dot. \n",
    "We see that the value of the hair salon is decreasing in delta. The value of the hair salon is zero at a delta value around 0.65. "
   ]
  },
  {
   "attachments": {},
   "cell_type": "markdown",
   "metadata": {},
   "source": [
    "\n",
    "**Question 5:** Suggest an alternative policy you believe might improve profitability. Implement and test your policy.\n",
    "\n"
   ]
  },
  {
   "cell_type": "code",
   "execution_count": null,
   "metadata": {},
   "outputs": [],
   "source": [
    "# Define suggested policy vector\n",
    "l_vec3 = q2.l_vec3(1.5)\n",
    "\n",
    "# Calculate ex-ante values for suggested policy\n",
    "suggest_policy = q2.ex_ante_value(10,l_vec3)\n",
    "\n",
    "# Compare results\n",
    "print(f'original policy: {old_policy:.2f} and suggested policy: {suggest_policy:.2f}')"
   ]
  },
  {
   "attachments": {},
   "cell_type": "markdown",
   "metadata": {},
   "source": [
    "We attempt to implement an alternative policy to improve profitability. \n",
    "Like the previous question we start with zero employees. In our loop we state that if we are in the first 12 months (1 year), then the optimal amount of employees are equal to the optimal value times a factor. After the first year, we go back to the initial optimal value of employees. \n",
    "\n",
    "The reasoning behind this policy is that a higher number of hair dressers the first year might boost the business. Furthermore, it could provide a good start and provide a solid patron-customerbase. After the ‘startup’ period the hair salon could downscale to the optimal value. \n",
    "\n",
    "We set the factor equal to 1.5.\n",
    "\n",
    "The result of this implementation shows that this policy would not improve profits. We have tried for different factors, both above and below 0."
   ]
  },
  {
   "attachments": {},
   "cell_type": "markdown",
   "metadata": {},
   "source": [
    "## 3. <a id='toc3_'></a>[Problem 3: Global optimizer with refined multi-start](#toc0_)"
   ]
  },
  {
   "attachments": {},
   "cell_type": "markdown",
   "metadata": {},
   "source": [
    "We consider the Griewank function:\n",
    "\n",
    "$$ f(\\boldsymbol{x}) = \\sum^n_{i=1} \\frac{x^2_i}{4000}-\\prod^n_{i=1}\\cos\\left(\\frac{x_i}{\\sqrt{i}}\\right)+1$$\n",
    "\n",
    "The **global minimum** of this function is $f(0,0) = 0$ (remember: $\\cos(0)=1$).<br>\n",
    "But the function also have a lot of **local minima**."
   ]
  },
  {
   "attachments": {},
   "cell_type": "markdown",
   "metadata": {},
   "source": [
    "A **refined global optimizer with multi-start** is:\n",
    "\n",
    "1. Choose *bounds* for $\\mathbf{x}$ and *tolerance* $\\tau > 0$.\n",
    "2. Choose number of *warm-up iterations*, $\\underline{K} > 0$ and *maximum number of iterations*, $K > \\underline{K}$.\n",
    "3. In each iteration for $k \\in \\{0,1,\\dots,K-1\\}$:\n",
    "\n",
    "    A. Draw random $\\mathbf{x}^k$ uniformly within chosen bounds.\n",
    "\n",
    "    B. If $k < \\underline{K}$ go to step E.\n",
    "\n",
    "    C. Calculate $\\chi^k = 0.50\\cdot\\frac{2}{1+\\exp((k-\\underline{K})/100)}$  \n",
    "\n",
    "    D. Set $\\mathbf{x}^{k0} = \\chi^k \\mathbf{x}^k + (1-\\chi^k)\\mathbf{x}^{\\ast} $\n",
    "\n",
    "    E. Run optimizer with $\\mathbf{x}^{k0}$ as initial guess and $\\mathbf{x}^{k\\ast}$ as result.\n",
    "\n",
    "    F. Set $\\mathbf{x}^{\\ast} = \\mathbf{x}^{k\\ast}$ if $k = 0$ or $f(\\mathbf{x}^{k\\ast}) < f(\\mathbf{x}^{\\ast})$\n",
    "\n",
    "    G. If $f(\\mathbf{x}^{\\ast}) < \\tau$ go to step 4.\n",
    "\n",
    "4. Return the result $\\mathbf{x}^{\\ast}$."
   ]
  },
  {
   "attachments": {},
   "cell_type": "markdown",
   "metadata": {},
   "source": [
    "As settings we choose:\n",
    "\n",
    "* $x_1,x_2 \\in  [-600,600]$\n",
    "* $\\tau = 10^{-8}$\n",
    "* $\\underline{K}=10$\n",
    "* $K=1000$\n",
    "\n",
    "The optimizer in Step 3.E is `BFGS` with a tolerance of $\\tau$."
   ]
  },
  {
   "attachments": {},
   "cell_type": "markdown",
   "metadata": {},
   "source": [
    "**Question 1:** Implement the refined global optimizer with multi-start. Illustrate how the effective initial guesses $\\mathbf{x}^{k0}$ vary with the iteration counter $k$."
   ]
  },
  {
   "attachments": {},
   "cell_type": "markdown",
   "metadata": {},
   "source": [
    "I question 1 we use inspiration from the code in the lecture note: Unconstrained optimization. \n",
    "We modify the code to fit the model considered in this problem. "
   ]
  },
  {
   "cell_type": "code",
   "execution_count": null,
   "metadata": {},
   "outputs": [],
   "source": [
    "# Choose bounds, tolerance, warmup and maximum iterations\n",
    "bounds = [-600, 600]\n",
    "tolerance = 1e-8\n",
    "warmup_iters = 10\n",
    "max_iters = 1000\n",
    "\n",
    "# Run the refined global optimizer\n",
    "np.random.seed(300)\n",
    "result = q3.refined_global_optimizer(bounds, tolerance, warmup_iters, max_iters)\n",
    "\n",
    "# Print the result\n",
    "print(\"Optimal solution:\", result[0])"
   ]
  },
  {
   "attachments": {},
   "cell_type": "markdown",
   "metadata": {},
   "source": [
    "The code above show the implementation of the refined optimizer with multi-start. We see that the results are practically zero, so the multi-start method comes close to the global minima. We set a random seed at 300 to converge using the same number of iterations each time the code is run. "
   ]
  },
  {
   "cell_type": "code",
   "execution_count": null,
   "metadata": {},
   "outputs": [],
   "source": [
    "# Print the result\n",
    "print(\"Number of iterations:\", result[2])"
   ]
  },
  {
   "attachments": {},
   "cell_type": "markdown",
   "metadata": {},
   "source": [
    "The optimal amount of iterations with the seed being equal to 300 is 365. Note that the result would differ if another seed were chosen. "
   ]
  },
  {
   "cell_type": "code",
   "execution_count": null,
   "metadata": {},
   "outputs": [],
   "source": [
    "# Plot how initial guess varies with the number of iterations\n",
    "q3.plot_starting_guess()"
   ]
  },
  {
   "attachments": {},
   "cell_type": "markdown",
   "metadata": {},
   "source": [
    "The plot shows the variation in the effective initial guess for each iteration. It is clear that as the number of iterations increase, the values of x1 and x2 converges to the global minima of (0,0). \n",
    "Again, this is for the seed=300. "
   ]
  },
  {
   "attachments": {},
   "cell_type": "markdown",
   "metadata": {},
   "source": [
    "**Question 2:** Is it a better idea to set $\\underline{K} = 100$? Is the convergence faster?"
   ]
  },
  {
   "cell_type": "code",
   "execution_count": null,
   "metadata": {},
   "outputs": [],
   "source": [
    "# Change the number of warmup iterations\n",
    "warmup_iters = 100\n",
    "\n",
    "# Set the seed\n",
    "np.random.seed(300)\n",
    "\n",
    "# Run the refined global optimizer for the new number of warmup iterations\n",
    "result_new = q3.refined_global_optimizer(bounds, tolerance, warmup_iters, max_iters)\n",
    "print(\"Number of iterations:\", result_new[2])"
   ]
  },
  {
   "attachments": {},
   "cell_type": "markdown",
   "metadata": {},
   "source": [
    "In this question we check if it is preferable to set the warmup iterations to 100 instead of 10. \n",
    "With the increased amount of warmup iterations we find a slower convergence with a total amount of 483 iterations. We have tried this for different seeds, and always get a higher number of iterations.\n",
    "\n",
    "This result incurs, as the optimizer uses more tries setting a random starting value, instead of updating it based on the algorithm."
   ]
  }
 ],
 "metadata": {
  "kernelspec": {
   "display_name": "base",
   "language": "python",
   "name": "python3"
  },
  "language_info": {
   "codemirror_mode": {
    "name": "ipython",
    "version": 3
   },
   "file_extension": ".py",
   "mimetype": "text/x-python",
   "name": "python",
   "nbconvert_exporter": "python",
   "pygments_lexer": "ipython3",
   "version": "3.9.16"
  },
  "orig_nbformat": 4
 },
 "nbformat": 4,
 "nbformat_minor": 2
}
