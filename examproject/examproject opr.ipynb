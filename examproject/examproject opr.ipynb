{
 "cells": [
  {
   "attachments": {},
   "cell_type": "markdown",
   "metadata": {},
   "source": [
    "# INSERT TITLE"
   ]
  },
  {
   "attachments": {},
   "cell_type": "markdown",
   "metadata": {},
   "source": [
    "Examproject by Josefine Pedersen, Viktor Texel and Pernille Svendsen"
   ]
  },
  {
   "attachments": {},
   "cell_type": "markdown",
   "metadata": {},
   "source": [
    "**Table of contents**<a id='toc0_'></a>    \n",
    "- 1. [Problem 1: Optimal taxation with government consumption](#toc1_)    \n",
    "- 2. [Problem 2: Labor adjustment costs](#toc2_)    \n",
    "- 3. [Problem 3: Global optimizer with refined multi-start](#toc3_)    \n",
    "\n",
    "<!-- vscode-jupyter-toc-config\n",
    "\tnumbering=true\n",
    "\tanchor=true\n",
    "\tflat=false\n",
    "\tminLevel=2\n",
    "\tmaxLevel=6\n",
    "\t/vscode-jupyter-toc-config -->\n",
    "<!-- THIS CELL WILL BE REPLACED ON TOC UPDATE. DO NOT WRITE YOUR TEXT IN THIS CELL -->"
   ]
  },
  {
   "attachments": {},
   "cell_type": "markdown",
   "metadata": {},
   "source": [
    "*Imports and set magics:*"
   ]
  },
  {
   "cell_type": "code",
   "execution_count": 37,
   "metadata": {},
   "outputs": [
    {
     "name": "stdout",
     "output_type": "stream",
     "text": [
      "The autoreload extension is already loaded. To reload it, use:\n",
      "  %reload_ext autoreload\n"
     ]
    }
   ],
   "source": [
    "import numpy as np\n",
    "import matplotlib.pyplot as plt\n",
    "import sympy as sm\n",
    "from types import SimpleNamespace\n",
    "from scipy import optimize\n",
    "\n",
    "# Predefine options for all plots\n",
    "plt.rcParams.update({\"axes.grid\":True,\"grid.color\":\"black\",\"grid.alpha\":\"0.25\",\"grid.linestyle\":\"-\"})\n",
    "plt.rcParams.update({'font.size': 14})\n",
    "\n",
    "# autoreload modules when code is run. Otherwise, python will not see recent changes. \n",
    "%load_ext autoreload\n",
    "%autoreload 2\n",
    "\n",
    "# Importing our own code\n",
    "from examproject import question2\n",
    "q2 = question2()\n",
    "from examproject import question3\n",
    "q3 = question3()"
   ]
  },
  {
   "attachments": {},
   "cell_type": "markdown",
   "metadata": {},
   "source": [
    "# Introduction"
   ]
  },
  {
   "attachments": {},
   "cell_type": "markdown",
   "metadata": {},
   "source": [
    "**Insert introduction**"
   ]
  },
  {
   "attachments": {},
   "cell_type": "markdown",
   "metadata": {},
   "source": [
    "## 1. <a id='toc1_'></a>[Problem 1: Optimal taxation with government consumption](#toc0_)"
   ]
  },
  {
   "attachments": {},
   "cell_type": "markdown",
   "metadata": {},
   "source": [
    "\n",
    "Consider a worker choosing hours of labor, $L\\in[0,24]$, to maximize utility: \n",
    "\n",
    "$$\n",
    "\\begin{align*}\n",
    "V(w,\\tau,G)&=\\max_{L\\in[0,24]}\\ln\\left(C^{\\alpha}G^{1-\\alpha}\\right)-\\nu\\frac{L^{2}}{2}\\\\&\\text{s.t.}\\\\&C=\\kappa+(1-\\tau)wL\n",
    "\\end{align*}\n",
    "$$\n",
    "\n",
    "where \n",
    "\n",
    "* $C$ is *private* consumption with weight $\\alpha\\in(0,1)$.\n",
    "* $\\kappa > 0$ is the *free private* consumption component.\n",
    "* $C = (1-\\tau)wL$ is the *costly private* consumption component.\n",
    "* $w > 0 $ is the real wage.\n",
    "* $\\tau \\in (0,1)$ is the labor-income tax rate.\n",
    "* $G > 0 $ is *government* consumption with weight $1-\\alpha$.\n",
    "* $\\nu > 0$ is the disutility of labor scaling factor"
   ]
  },
  {
   "attachments": {},
   "cell_type": "markdown",
   "metadata": {},
   "source": [
    "\n",
    "The baseline parameters are:\n",
    "\n",
    "$$\n",
    "\\begin{align*}\n",
    "\\alpha &= 0.5\\\\\n",
    "\\kappa &= 1.0\\\\\n",
    "\\nu &= \\frac{1}{2\\cdot16^2} \\\\\n",
    "w &= 1.0 \\\\ \n",
    "\\tau &= 0.30 \\\\\n",
    "\\end{align*}\n",
    "$$"
   ]
  },
  {
   "attachments": {},
   "cell_type": "markdown",
   "metadata": {},
   "source": [
    "**Question 1:** Verify that the optimal labor supply choice is $L^{\\star}(\\tilde{w}) =\\frac{-\\kappa+\\sqrt{\\kappa^{2}+4\\frac{\\alpha}{\\nu}\\tilde{w}^2}}{2\\tilde{w}}$, where $\\tilde{w} = (1-\\tau)w$, for $G\\in\\left\\{1.0 , 2.0\\right\\}$."
   ]
  },
  {
   "attachments": {},
   "cell_type": "markdown",
   "metadata": {},
   "source": [
    "We begin by defining the parameters and functions.\n",
    "\n",
    "**Note:** We could not define $\\tilde{w}$ in sympy, so we have called this variable $w_{tilde}$"
   ]
  },
  {
   "cell_type": "code",
   "execution_count": 38,
   "metadata": {},
   "outputs": [],
   "source": [
    "# Parameters\n",
    "alpha, kappa, v, w, tau, w_tilde = sm.symbols('alpha kappa v w tau w_tilde')\n",
    "\n",
    "# Variables\n",
    "G, C, L, = sm.symbols('G C L')\n",
    "\n",
    "# Define utility function and constraint\n",
    "utility = sm.ln(C**alpha * G**(1-alpha))-v*(L**2/2)\n",
    "constraint = kappa + (1-tau)*w*L\n",
    "\n",
    "# Define constraint for omega_tilde\n",
    "constraint_subs = constraint.subs((1-tau)*w, w_tilde)"
   ]
  },
  {
   "attachments": {},
   "cell_type": "markdown",
   "metadata": {},
   "source": [
    "To find optimal labor supply we:\n",
    "1. Substitute consumption for constraint in the utility function\n",
    "2. Differentiate w.r.t. $L$ (labor)\n",
    "3. Solve for $L$ to find $L^*$"
   ]
  },
  {
   "cell_type": "code",
   "execution_count": 39,
   "metadata": {},
   "outputs": [
    {
     "data": {
      "text/latex": [
       "$\\displaystyle \\frac{- \\kappa v + \\sqrt{v \\left(4 \\alpha w_{tilde}^{2} + \\kappa^{2} v\\right)}}{2 v w_{tilde}}$"
      ],
      "text/plain": [
       "(-kappa*v + sqrt(v*(4*alpha*w_tilde**2 + kappa**2*v)))/(2*v*w_tilde)"
      ]
     },
     "execution_count": 39,
     "metadata": {},
     "output_type": "execute_result"
    }
   ],
   "source": [
    "# Substitute consumption for constraint in the utility function\n",
    "utility_subs = utility.subs(C, constraint_subs)\n",
    "\n",
    "# Differentiate w.r.t. L (labor):\n",
    "foc = sm.diff(utility_subs, L)\n",
    "foc2 = sm.simplify(foc)\n",
    "\n",
    "# Solve for L to find L_star\n",
    "L_star = sm.solve(foc2, L)\n",
    "L_star[1]"
   ]
  },
  {
   "cell_type": "code",
   "execution_count": 40,
   "metadata": {},
   "outputs": [
    {
     "data": {
      "text/latex": [
       "$\\displaystyle L^{2} w_{tilde} + L \\kappa = \\frac{\\alpha w_{tilde}}{v}$"
      ],
      "text/plain": [
       "Eq(L**2*w_tilde + L*kappa, alpha*w_tilde/v)"
      ]
     },
     "execution_count": 40,
     "metadata": {},
     "output_type": "execute_result"
    }
   ],
   "source": [
    "foc_simplify = sm.Eq(0, foc2)\n",
    "foc_simplify = sm.Eq(sm.Add(foc_simplify.lhs, L*v), sm.Add(foc_simplify.rhs, L*v))\n",
    "foc_simplify = sm.simplify(foc_simplify)\n",
    "foc_simplify = sm.Eq(sm.Mul(foc_simplify.lhs, L*w_tilde+kappa), sm.Mul(foc_simplify.rhs, L*w_tilde+kappa))\n",
    "foc_simplify = sm.Eq(sm.Mul(foc_simplify.lhs, 1/v), sm.Mul(foc_simplify.rhs, 1/v))\n",
    "foc_simplify = foc_simplify.subs(L*(L*w_tilde+kappa), L**2*w_tilde+L*kappa)\n",
    "foc_simplify"
   ]
  },
  {
   "cell_type": "code",
   "execution_count": 41,
   "metadata": {},
   "outputs": [
    {
     "data": {
      "text/latex": [
       "$\\displaystyle \\frac{- \\kappa + \\sqrt{\\frac{4 \\alpha w_{tilde}}{v} + \\kappa^{2}}}{2 w_{tilde}}$"
      ],
      "text/plain": [
       "(-kappa + sqrt(4*alpha*w_tilde/v + kappa**2))/(2*w_tilde)"
      ]
     },
     "execution_count": 41,
     "metadata": {},
     "output_type": "execute_result"
    }
   ],
   "source": [
    "# We define the answer, as sympy is not able to solve the equation properly\n",
    "L_star_omega2 = (-kappa+sm.sqrt(kappa**2+4*alpha/v*w_tilde))/(2*w_tilde)\n",
    "L_star_omega2"
   ]
  },
  {
   "attachments": {},
   "cell_type": "markdown",
   "metadata": {},
   "source": [
    "**Question 2:** Illustrate how $L^{\\star}(\\tilde{w})$ depends on $w$."
   ]
  },
  {
   "cell_type": "code",
   "execution_count": 47,
   "metadata": {},
   "outputs": [],
   "source": [
    "L_star_func = sm.lambdify((kappa, alpha, v, w_tilde), L_star_omega2)\n",
    "\n",
    "w_values = np.linspace(1, 20, 100)\n",
    "\n",
    "L_vec = []\n",
    "for ws in w_values:\n",
    "    tau = 0.3\n",
    "    w_tilde_val = (1-tau)*ws\n",
    "    L_val = L_star_func(1, 0.5, 1/(2*16**2), w_tilde_val)\n",
    "    L_vec.append(L_val)"
   ]
  },
  {
   "cell_type": "code",
   "execution_count": 48,
   "metadata": {},
   "outputs": [
    {
     "data": {
      "image/png": "[encoded data removed]",
      "text/plain": [
       "<Figure size 900x400 with 1 Axes>"
      ]
     },
     "metadata": {},
     "output_type": "display_data"
    }
   ],
   "source": [
    "# We plot the figure\n",
    "fig1 = plt.figure(figsize=(9, 4))\n",
    "ax = fig1.add_subplot(1, 1, 1)\n",
    "\n",
    "ax.plot(w_values, L_vec, ls='-', lw=2, color='blue')\n",
    "\n",
    "ax.set_xlabel('wage (w)')\n",
    "ax.set_ylabel('Optimal labor supply ($L^*$)')\n",
    "ax.set_title('Relationship between labour supply and real wage \\n');"
   ]
  },
  {
   "attachments": {},
   "cell_type": "markdown",
   "metadata": {},
   "source": [
    "\n",
    "We now consider a government, who chooses $\\tau$ and spend all of the taxes on government consumption so:\n",
    "\n",
    "$$\n",
    "G = \\tau w L^{\\star}((1-\\tau)w)\n",
    "$$\n",
    "\n",
    "**Question 3:** Plot the implied $L$, $G$ and worker utility for a grid of $\\tau$-values.\n"
   ]
  },
  {
   "cell_type": "code",
   "execution_count": 44,
   "metadata": {},
   "outputs": [],
   "source": [
    "# Define baseline parameters\n",
    "par = SimpleNamespace()\n",
    "par.alpha = 0.5\n",
    "par.kappa = 1\n",
    "par.v = 1/(2*16^2)\n",
    "par.w = 1\n",
    "par.tau = 0.3"
   ]
  },
  {
   "cell_type": "code",
   "execution_count": 49,
   "metadata": {},
   "outputs": [
    {
     "data": {
      "image/png": "[encoded data removed]",
      "text/plain": [
       "<Figure size 1000x800 with 1 Axes>"
      ]
     },
     "metadata": {},
     "output_type": "display_data"
    }
   ],
   "source": [
    "import numpy as np\n",
    "import matplotlib.pyplot as plt\n",
    "from mpl_toolkits.mplot3d import Axes3D\n",
    "\n",
    "# Generate data for the plot\n",
    "tau_values = np.linspace(0.001, 0.999, 100)\n",
    "\n",
    "# Create empty lists to store the data that we are going to plot\n",
    "L_vec = []\n",
    "G_vec = []\n",
    "tau_vec = []\n",
    "utility_vec = []\n",
    "\n",
    "for tau_val in tau_values:\n",
    "    tau_vec.append(tau_val)\n",
    "    w_tilde_val = (1-tau_val)*par.w\n",
    "    L_val = L_star_func(par.kappa, par.alpha, par.v, w_tilde_val)\n",
    "    L_vec.append(L_val)\n",
    "    G_val = tau_val*par.w*L_val*((1-tau_val)*par.w)\n",
    "    G_vec.append(G_val)\n",
    "    u_val = np.log(G_val**(1-par.alpha)*(par.kappa+(1-tau_val)*par.w*L_val)) - par.v*(L_val**2/2)\n",
    "    utility_vec.append(u_val)\n",
    "\n",
    "\n",
    "# Create plot\n",
    "fig = plt.figure(figsize=(10,8))\n",
    "ax = fig.add_subplot(1,1,1)\n",
    "ax.plot(tau_vec, L_vec, label='Labor Supply')\n",
    "ax.plot(tau_vec, G_vec, label='Government Consumption')\n",
    "ax.plot(tau_vec, utility_vec, label='Utility')\n",
    "\n",
    "\n",
    "# Set labels and title\n",
    "ax.set_xlabel('Tax Rate (tau)')\n",
    "ax.set_ylabel('Government Consumption, Labor Supply, and Worker Utility')\n",
    "ax.set_title('Relationship between Tax Rate, Government Consumption, Labor Supply, and Worker Utility')\n",
    "\n",
    "# Add a legend\n",
    "ax.legend()\n",
    "\n",
    "# Show the plot\n",
    "plt.show();"
   ]
  },
  {
   "attachments": {},
   "cell_type": "markdown",
   "metadata": {},
   "source": [
    "**Question 4:** Find the socially optimal tax rate $\\tau^{\\star}\\in(0,1)$ maximizing worker utility. Illustrate your result."
   ]
  },
  {
   "cell_type": "code",
   "execution_count": 50,
   "metadata": {},
   "outputs": [
    {
     "data": {
      "text/latex": [
       "$\\displaystyle - \\frac{v \\left(- \\kappa + \\sqrt{\\frac{4 \\alpha w_{tilde}}{v} + \\kappa^{2}}\\right)^{2}}{8 w_{tilde}^{2}} + \\log{\\left(\\left(\\frac{0.105 w^{2} \\left(- \\kappa + \\sqrt{\\frac{4 \\alpha w_{tilde}}{v} + \\kappa^{2}}\\right)}{w_{tilde}}\\right)^{1 - \\alpha} \\left(\\kappa + \\frac{w \\left(1 - \\tau\\right) \\left(- \\kappa + \\sqrt{\\frac{4 \\alpha w_{tilde}}{v} + \\kappa^{2}}\\right)}{2 w_{tilde}}\\right)^{\\alpha} \\right)}$"
      ],
      "text/plain": [
       "-v*(-kappa + sqrt(4*alpha*w_tilde/v + kappa**2))**2/(8*w_tilde**2) + log((0.105*w**2*(-kappa + sqrt(4*alpha*w_tilde/v + kappa**2))/w_tilde)**(1 - alpha)*(kappa + w*(1 - tau)*(-kappa + sqrt(4*alpha*w_tilde/v + kappa**2))/(2*w_tilde))**alpha)"
      ]
     },
     "execution_count": 50,
     "metadata": {},
     "output_type": "execute_result"
    }
   ],
   "source": [
    "utility_subs_new = utility.subs(C, constraint)\n",
    "gov_cons = tau*w*L*((1-tau)*w)\n",
    "utility_subs_new2 = utility_subs_new.subs(G, gov_cons)\n",
    "utility_subs_new3 = utility_subs_new2.subs(L, L_star_omega2)\n",
    "utility_subs_new3\n"
   ]
  },
  {
   "cell_type": "code",
   "execution_count": null,
   "metadata": {},
   "outputs": [],
   "source": [
    "# We solve FOC for tau\n",
    "#foc = sm.diff(utility_subs_new3, tau)\n",
    "#foc"
   ]
  },
  {
   "attachments": {},
   "cell_type": "markdown",
   "metadata": {},
   "source": [
    "A more general preference formulation for the worker is:\n",
    "\n",
    "$$\n",
    "\\begin{align*}\n",
    "\\mathcal{V}(w,\\tau,G)&=\\max_{L\\in[0,24]}\\frac{\\left[ \\left( \\alpha C^{\\frac{\\sigma-1}{\\sigma}}+(1-\\alpha) G^{\\frac{\\sigma-1}{\\sigma}} \\right)^{\\frac{\\sigma}{1-\\sigma} }\\right]^{1-\\rho}-1}{1-\\rho}- \\nu\\frac{L^{1+\\varepsilon}}{1+\\varepsilon},\\,\\,\\,\\varepsilon,\\rho,\\sigma>0,\\,\\,\\,\\rho,\\sigma\\neq1\\\\&\\text{s.t.}\\\\&C=\\kappa+(1-\\tau)wL\n",
    "\\end{align*}    \n",
    "$$\n",
    "\n",
    "Optimal labor supply is now $L^{\\star}(\\tilde{w},G)$."
   ]
  },
  {
   "attachments": {},
   "cell_type": "markdown",
   "metadata": {},
   "source": [
    "Questions 5 and 6 must be answered with the general formulation, and for 2 different set of parameters:\n",
    "\n",
    "- Set 1:  $\\sigma = 1.001$, $\\rho = 1.001$ and $\\varepsilon = 1.0$.\n",
    "- Set 2:  $\\sigma = 1.5$, $\\rho = 1.5$ and $\\varepsilon = 1.0 $."
   ]
  },
  {
   "attachments": {},
   "cell_type": "markdown",
   "metadata": {},
   "source": [
    "**Question 5:** Find the $G$ that solves $G = \\tau w L^{\\star}((1-\\tau)w,G)$ using the $\\tau$ found in question 4.\n",
    "\n",
    "*Hint: First write code that solves the worker problem for given values of $G$ and $\\tau$. Then find the correct G based on this.*"
   ]
  },
  {
   "cell_type": "code",
   "execution_count": null,
   "metadata": {},
   "outputs": [],
   "source": []
  },
  {
   "attachments": {},
   "cell_type": "markdown",
   "metadata": {},
   "source": [
    "**Question 6:** Find the socially optimal tax rate, $\\tau^{\\star}$, maximizing worker utility, while keeping $G = \\tau w L^{\\star}((1-\\tau)w,G)$."
   ]
  },
  {
   "cell_type": "code",
   "execution_count": null,
   "metadata": {},
   "outputs": [],
   "source": []
  },
  {
   "attachments": {},
   "cell_type": "markdown",
   "metadata": {},
   "source": [
    "## 2. <a id='toc2_'></a>[Problem 2: Labor adjustment costs](#toc0_)"
   ]
  },
  {
   "attachments": {},
   "cell_type": "markdown",
   "metadata": {},
   "source": [
    "You own a hair salon. You employ hairdressers, $\\ell_t$, to produce haircuts, $y_t = \\ell_t$.\n",
    "\n",
    "The wage for each hairdresser is $w$.\n",
    "\n",
    "The demand for haircuts implies that the price of haircuts you can charge is $p_t = \\kappa_t y_t^{-\\eta}$, where $\\kappa_t$ is a demand-shock and $\\eta \\in (0,1)$ measures the elasticity of demand.\n",
    "\n",
    "Profits are:\n",
    "\n",
    "$$\n",
    "\\Pi_t = p_t y_t - w \\ell_t = \\kappa_t \\ell_t^{1-\\eta} - w \\ell_t\n",
    "$$"
   ]
  },
  {
   "attachments": {},
   "cell_type": "markdown",
   "metadata": {},
   "source": [
    "Baseline parameters are:\n",
    "- $\\eta = 0.5$\n",
    "- $w = 1.0$"
   ]
  },
  {
   "attachments": {},
   "cell_type": "markdown",
   "metadata": {},
   "source": [
    "**Question 1:** Verify numerically that $\\ell_{t}=\\left(\\frac{(1-\\eta)\\kappa_{t}}{w}\\right)^{\\frac{1}{\\eta}}$ maximises profits, for $\\kappa\\in\\left\\{1.0 , 2.0\\right\\}$."
   ]
  },
  {
   "attachments": {},
   "cell_type": "markdown",
   "metadata": {},
   "source": [
    "We solve question 1 by defining the profit function for a hairdresser, as well as the baseline parameters, afterwhich we utilize the optimize.minimize function to solve for $\\ell_{t}$"
   ]
  },
  {
   "cell_type": "code",
   "execution_count": null,
   "metadata": {},
   "outputs": [],
   "source": [
    "# Importing class\n",
    "q2 = question2()"
   ]
  },
  {
   "cell_type": "code",
   "execution_count": null,
   "metadata": {},
   "outputs": [],
   "source": [
    "# Importing class\n",
    "q2 = question2()\n",
    "\n",
    "# Define different values for kappa\n",
    "kappa_vec = [1.01, 1.2, 1.4, 1.6, 1.8, 1.99]\n",
    "\n",
    "# Check if optimal value matches given solution\n",
    "q2.check_numerical(kappa_vec)"
   ]
  },
  {
   "attachments": {},
   "cell_type": "markdown",
   "metadata": {},
   "source": [
    "From our output above, we see that for $\\kappa\\in\\left\\{1.0 , 2.0\\right\\}$ profits are maximized by the equation given, i.e.: $\\ell_{t}=\\left(\\frac{(1-\\eta)\\kappa_{t}}{w}\\right)^{\\frac{1}{\\eta}}$. We verify this result by comparing our numerical solution with the given solution, for multiple kappa values. Hereby it is illustrated that our numerical solution gives the same l-values as the given solution.\n",
    "\n"
   ]
  },
  {
   "attachments": {},
   "cell_type": "markdown",
   "metadata": {},
   "source": [
    "We now consider a *dynamic* version of the model.\n",
    "\n",
    "* The demand-shock is a so-called AR(1) in logs, \n",
    "\n",
    "$$\n",
    "\\log \\kappa_{t} = \\rho \\log \\kappa_{t-1} + \\epsilon_{t},\\,\\,\\, \\epsilon_{t+1} \\sim \\mathcal{N}(-0.5\\sigma_{\\epsilon}^2,\\sigma_{\\epsilon})\n",
    "$$\n",
    "\n",
    "* Any hiring or firing implies a fixed adjustment cost, $\\iota > 0 $.\n",
    "* Future profits are discounted with a monthly factor of $R \\in (0,1)$.\n",
    "\n",
    "The initial demand shock is $\\kappa_{-1} = 1$ and the planning horizon is 10 years, i.e. 120 months so $t \\in \\{0,1,2,\\dots,119\\}$. Initially you don't have any employees, $\\ell_{-1}=0$"
   ]
  },
  {
   "attachments": {},
   "cell_type": "markdown",
   "metadata": {},
   "source": [
    "\n",
    "The *ex post* value of the salon is *conditional* on the shock series is:\n",
    "\n",
    "$$\n",
    "h(\\epsilon_0,\\epsilon_1,\\dots,\\epsilon_{119}) = \\left[\\sum_{t=0}^{119}R^{-t}\\left[\\kappa_{t}\\ell_{t}^{1-\\eta}-w\\ell_{t}-\\boldsymbol{1}_{\\ell_{t}\\neq\\ell_{t-1}}\\iota\\right]\\right]\n",
    "$$\n",
    "\n",
    "The *ex ante* expected value of the salon can be approximated by\n",
    "\n",
    "$$\n",
    "H = \\mathbb{E}[h(\\epsilon_0,\\epsilon_1,\\dots,\\epsilon_{119})] \\approx \\frac{1}{K}\\sum_{k=0}^{K} h(\\epsilon_0^k,\\epsilon_1^k,\\dots,\\epsilon_{119}^k)\n",
    "$$\n",
    "\n",
    "where each $k\\in\\{0,1,\\dots,K-1\\}$ is a random shock series. Maximizing profitability means maximizing $H$.\n"
   ]
  },
  {
   "attachments": {},
   "cell_type": "markdown",
   "metadata": {},
   "source": [
    "Baseline parameters are: \n",
    "\n",
    "- $\\rho = 0.90$\n",
    "- $\\iota = 0.01$\n",
    "- $\\sigma_{\\epsilon} = 0.10$\n",
    "- $R = \\left(1+0.01\\right)^{1/12}$"
   ]
  },
  {
   "attachments": {},
   "cell_type": "markdown",
   "metadata": {},
   "source": [
    "**Question 2:** Calculate $H$ if the policy  $\\ell_{t}=\\left(\\frac{(1-\\eta)\\kappa_{t}}{w}\\right)^{\\frac{1}{\\eta}}$ from question 1 is followed. Choose $K$ so the approximation is good enough to not affect your results substantially."
   ]
  },
  {
   "attachments": {},
   "cell_type": "markdown",
   "metadata": {},
   "source": [
    "We calculate H under the given policy. Our seed in the demand shock is 2805 and we generate 120 random numbers, as the timeframe is 120 months. "
   ]
  },
  {
   "cell_type": "code",
   "execution_count": null,
   "metadata": {},
   "outputs": [],
   "source": [
    "# Calculate demand shock\n",
    "log_kappa = q2.demand_shock()\n",
    "\n",
    "# Define policy vector\n",
    "l_start = np.ones(q2.par2.n)\n",
    "l_vec1 = l_start[:]*(((1-q2.par2.eta)*np.exp(log_kappa))/q2.par2.w)**(1/q2.par2.eta)\n",
    "\n",
    "# Set initial labor to 0\n",
    "l_vec1[0] = 0\n",
    "\n",
    "# Define number of shock series\n",
    "K = 10\n",
    "\n",
    "# Calculate ex-ante value\n",
    "q2.ex_ante_value(K,l_vec1,do_print=True)"
   ]
  },
  {
   "attachments": {},
   "cell_type": "markdown",
   "metadata": {},
   "source": [
    "The ex-ante value of the salon is estimated to be 21.55. We want to choose the best possible K-value for our approximation, and therefore we check how H vary with K."
   ]
  },
  {
   "cell_type": "code",
   "execution_count": null,
   "metadata": {},
   "outputs": [],
   "source": [
    "# Show that different K's does not change resuts substantially\n",
    "for K in range(10,105,5):\n",
    "    val_salon = q2.ex_ante_value(K,l_vec1)\n",
    "    print(f'K = {K:.1f} gives value = {val_salon:.2f}')"
   ]
  },
  {
   "attachments": {},
   "cell_type": "markdown",
   "metadata": {},
   "source": [
    "We see that H increases slightly for higher K-values. Meaning that, the more demand-shocks there are in the series, the higher the ex-ante expected value of the salon is. However, the value does not change dramatically."
   ]
  },
  {
   "attachments": {},
   "cell_type": "markdown",
   "metadata": {},
   "source": [
    "Next, we consider policies on the form:\n",
    "\n",
    "$$\n",
    "\n",
    "\\ell_{t}=\\begin{cases}\n",
    "\\ell_t^{\\ast}  & \\text{if }\\left|\\ell_{t-1}-\\ell_t^{\\ast} \\right|>\\Delta\\\\\n",
    "\\ell_{t-1} & \\text{else }\n",
    "\\end{cases}\n",
    "\\\\\n",
    "\\text{where}\\,\\,\\ell_t^{\\ast} = \\left(\\frac{(1-\\eta)\\kappa_{t}}{w}\\right)^{\\frac{1}{\\eta}} \\\\\n",
    "\n",
    "$$\n",
    "With $\\Delta \\geq 0$ and $\\Delta = 0$ being the previous policy.\n"
   ]
  },
  {
   "attachments": {},
   "cell_type": "markdown",
   "metadata": {},
   "source": [
    "\n",
    "**Question 3:** Calculate $H$ if the policy above was followed with $\\Delta = 0.05$. Does it improve profitability?"
   ]
  },
  {
   "attachments": {},
   "cell_type": "markdown",
   "metadata": {},
   "source": [
    "A new policy is introduced, and we want to analyze how this affects profits. We do this by calculating H under the new policy and compare it to H under the old policy for a given K value. We compare for K = 10. "
   ]
  },
  {
   "cell_type": "code",
   "execution_count": null,
   "metadata": {},
   "outputs": [],
   "source": [
    "# Defining the new policy vector\n",
    "l_vec2 = q2.l_vec2(0.05)\n",
    "\n",
    "# Calculate ex-ante values for different policies\n",
    "new_policy = q2.ex_ante_value(10,l_vec2)\n",
    "old_policy = q2.ex_ante_value(10,l_vec1)\n",
    "\n",
    "# Compare results\n",
    "print(f'Original policy: {old_policy:.2f} and new policy: {new_policy:.2f}')"
   ]
  },
  {
   "attachments": {},
   "cell_type": "markdown",
   "metadata": {},
   "source": [
    "From our calculations we see that the new policy improves profitability. We checked for multiple K-values. "
   ]
  },
  {
   "attachments": {},
   "cell_type": "markdown",
   "metadata": {},
   "source": [
    "**Question 4:** Find the optimal $\\Delta$ maximizing $H$. Illustrate your result."
   ]
  },
  {
   "cell_type": "code",
   "execution_count": null,
   "metadata": {},
   "outputs": [],
   "source": [
    "# Find optimal delta value\n",
    "q2.value_opt(do_print=True)"
   ]
  },
  {
   "cell_type": "code",
   "execution_count": null,
   "metadata": {},
   "outputs": [],
   "source": [
    "# Illustrate the optimal delta value\n",
    "q2.delta_plot()"
   ]
  },
  {
   "attachments": {},
   "cell_type": "markdown",
   "metadata": {},
   "source": [
    "We find the optimal value for delta to be 0.116. This indicates that a slightly higher value of delta improves profitability for the hair salon. \n",
    "In the plot above we show the ex ante value of the hair salon for different values of delta. The optimal value is marked with a dot. \n",
    "We see that the value of the hair salon is decreasing in delta. The value of the hair salon is worthless at a delta value around 0.65. "
   ]
  },
  {
   "attachments": {},
   "cell_type": "markdown",
   "metadata": {},
   "source": [
    "\n",
    "**Question 5:** Suggest an alternative policy you believe might improve profitability. Implement and test your policy.\n",
    "\n"
   ]
  },
  {
   "cell_type": "code",
   "execution_count": null,
   "metadata": {},
   "outputs": [],
   "source": [
    "# Define suggested policy vector\n",
    "l_vec3 = q2.l_vec3(1.5)\n",
    "\n",
    "# Calculate ex-ante values for suggested policy\n",
    "suggest_policy = q2.ex_ante_value(10,l_vec3)\n",
    "\n",
    "# Compare results\n",
    "print(f'original policy: {old_policy:.2f} and suggested policy: {suggest_policy:.2f}')"
   ]
  },
  {
   "attachments": {},
   "cell_type": "markdown",
   "metadata": {},
   "source": [
    "We attempt to implement an alternative policy to improve profitability. \n",
    "Like the previous question we start with zero employees. In our loop we state that if we are in the first 12 month (1 year) then the optimal amount of employees is the optimal value times a factor. After that one year we go back to the initial optimal value of employees. \n",
    "\n",
    "The reasoning behind this policy is that a higher number of hair dressers the first year might boost the business and get a good start and get a solid client base. After the ‘startup’ period the hair salon could down scale. \n",
    "We set the factor=1.5\n",
    "\n",
    "The result of this implementation shows that this policy will not improve the profits."
   ]
  },
  {
   "attachments": {},
   "cell_type": "markdown",
   "metadata": {},
   "source": [
    "## 3. <a id='toc3_'></a>[Problem 3: Global optimizer with refined multi-start](#toc0_)"
   ]
  },
  {
   "attachments": {},
   "cell_type": "markdown",
   "metadata": {},
   "source": [
    "We consider the Griewank function:\n",
    "\n",
    "$$ f(\\boldsymbol{x}) = \\sum^n_{i=1} \\frac{x^2_i}{4000}-\\prod^n_{i=1}\\cos\\left(\\frac{x_i}{\\sqrt{i}}\\right)+1$$\n",
    "\n",
    "The **global minimum** of this function is $f(0,0) = 0$ (remember: $\\cos(0)=1$).<br>\n",
    "But the function also have a lot of **local minima**."
   ]
  },
  {
   "attachments": {},
   "cell_type": "markdown",
   "metadata": {},
   "source": [
    "A **refined global optimizer with multi-start** is:\n",
    "\n",
    "1. Choose *bounds* for $\\mathbf{x}$ and *tolerance* $\\tau > 0$.\n",
    "2. Choose number of *warm-up iterations*, $\\underline{K} > 0$ and *maximum number of iterations*, $K > \\underline{K}$.\n",
    "3. In each iteration for $k \\in \\{0,1,\\dots,K-1\\}$:\n",
    "\n",
    "    A. Draw random $\\mathbf{x}^k$ uniformly within chosen bounds.\n",
    "\n",
    "    B. If $k < \\underline{K}$ go to step E.\n",
    "\n",
    "    C. Calculate $\\chi^k = 0.50\\cdot\\frac{2}{1+\\exp((k-\\underline{K})/100)}$  \n",
    "\n",
    "    D. Set $\\mathbf{x}^{k0} = \\chi^k \\mathbf{x}^k + (1-\\chi^k)\\mathbf{x}^{\\ast} $\n",
    "\n",
    "    E. Run optimizer with $\\mathbf{x}^{k0}$ as initial guess and $\\mathbf{x}^{k\\ast}$ as result.\n",
    "\n",
    "    F. Set $\\mathbf{x}^{\\ast} = \\mathbf{x}^{k\\ast}$ if $k = 0$ or $f(\\mathbf{x}^{k\\ast}) < f(\\mathbf{x}^{\\ast})$\n",
    "\n",
    "    G. If $f(\\mathbf{x}^{\\ast}) < \\tau$ go to step 4.\n",
    "\n",
    "4. Return the result $\\mathbf{x}^{\\ast}$."
   ]
  },
  {
   "attachments": {},
   "cell_type": "markdown",
   "metadata": {},
   "source": [
    "As settings we choose:\n",
    "\n",
    "* $x_1,x_2 \\in  [-600,600]$\n",
    "* $\\tau = 10^{-8}$\n",
    "* $\\underline{K}=10$\n",
    "* $K=1000$\n",
    "\n",
    "The optimizer in Step 3.E is `BFGS` with a tolerance of $\\tau$."
   ]
  },
  {
   "attachments": {},
   "cell_type": "markdown",
   "metadata": {},
   "source": [
    "**Question 1:** Implement the refined global optimizer with multi-start. Illustrate how the effective initial guesses $\\mathbf{x}^{k0}$ vary with the iteration counter $k$."
   ]
  },
  {
   "attachments": {},
   "cell_type": "markdown",
   "metadata": {},
   "source": [
    "I question 1 we use inspiration from the code in the lecture note: Unconstrained optimization. \n",
    "We modify the code to fit the model considered in this problem. "
   ]
  },
  {
   "cell_type": "code",
   "execution_count": null,
   "metadata": {},
   "outputs": [],
   "source": [
    "# Choose bounds, tolerance, warmup and maximum iterations\n",
    "bounds = [-600, 600]\n",
    "tolerance = 1e-8\n",
    "warmup_iters = 10\n",
    "max_iters = 1000\n",
    "\n",
    "# Run the refined global optimizer\n",
    "np.random.seed(300)\n",
    "result = q3.refined_global_optimizer(bounds, tolerance, warmup_iters, max_iters)\n",
    "\n",
    "# Print the result\n",
    "print(\"Optimal solution:\", result[0])"
   ]
  },
  {
   "attachments": {},
   "cell_type": "markdown",
   "metadata": {},
   "source": [
    "The code above show the implementation of the refined optimizer with multi-start. We set a random seed at 300 to store one (out of many) local minima. "
   ]
  },
  {
   "cell_type": "code",
   "execution_count": null,
   "metadata": {},
   "outputs": [],
   "source": [
    "print(\"Number of iterations:\", result[2])"
   ]
  },
  {
   "attachments": {},
   "cell_type": "markdown",
   "metadata": {},
   "source": [
    "The optimal amount of iterations with the seed being equal to 300 is 365. Note that these result would differ if not setting a seed. "
   ]
  },
  {
   "cell_type": "code",
   "execution_count": null,
   "metadata": {},
   "outputs": [],
   "source": [
    "# Plot how initial guess varies with the number of iterations\n",
    "q3.plot_starting_guess()"
   ]
  },
  {
   "attachments": {},
   "cell_type": "markdown",
   "metadata": {},
   "source": [
    "The plot show the variation in the effective initial guess for each iteration. It is clear that as the number of iterations increase the values for x1 and x2 converges to the global minima of 0. \n",
    "Again, this is for the seed=300. "
   ]
  },
  {
   "attachments": {},
   "cell_type": "markdown",
   "metadata": {},
   "source": [
    "**Question 2:** Is it a better idea to set $\\underline{K} = 100$? Is the convergence faster?"
   ]
  },
  {
   "cell_type": "code",
   "execution_count": null,
   "metadata": {},
   "outputs": [],
   "source": [
    "# Change the number of warmup iterations\n",
    "warmup_iters = 100\n",
    "\n",
    "# Set the seed\n",
    "np.random.seed(300)\n",
    "\n",
    "# Run the refined global optimizer for the new number of warmup iterations\n",
    "result_new = q3.refined_global_optimizer(bounds, tolerance, warmup_iters, max_iters)\n",
    "print(\"Number of iterations:\", result_new[2])"
   ]
  },
  {
   "attachments": {},
   "cell_type": "markdown",
   "metadata": {},
   "source": [
    "In this question we check if it is preferable to set the warmup iterations to 100 instead of 10. \n",
    "With the increased amount of warmup iterations we find a slower convergence with a total amount of 471 iterations. "
   ]
  },
  {
   "attachments": {},
   "cell_type": "markdown",
   "metadata": {},
   "source": [
    "# Conclusion"
   ]
  },
  {
   "attachments": {},
   "cell_type": "markdown",
   "metadata": {},
   "source": [
    "**INSERT TEXT**"
   ]
  }
 ],
 "metadata": {
  "kernelspec": {
   "display_name": "base",
   "language": "python",
   "name": "python3"
  },
  "language_info": {
   "codemirror_mode": {
    "name": "ipython",
    "version": 3
   },
   "file_extension": ".py",
   "mimetype": "text/x-python",
   "name": "python",
   "nbconvert_exporter": "python",
   "pygments_lexer": "ipython3",
   "version": "3.9.16"
  },
  "orig_nbformat": 4
 },
 "nbformat": 4,
 "nbformat_minor": 2
}
