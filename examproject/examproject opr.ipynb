{
 "cells": [
  {
   "attachments": {},
   "cell_type": "markdown",
   "metadata": {},
   "source": [
    "# INSERT TITLE"
   ]
  },
  {
   "attachments": {},
   "cell_type": "markdown",
   "metadata": {},
   "source": [
    "Examproject by Josefine Pedersen, Viktor Texel and Pernille Svendsen"
   ]
  },
  {
   "attachments": {},
   "cell_type": "markdown",
   "metadata": {},
   "source": [
    "**Table of contents**<a id='toc0_'></a>    \n",
    "- 1. [Problem 1: Optimal taxation with government consumption](#toc1_)    \n",
    "- 2. [Problem 2: Labor adjustment costs](#toc2_)    \n",
    "- 3. [Problem 3: Global optimizer with refined multi-start](#toc3_)    \n",
    "\n",
    "<!-- vscode-jupyter-toc-config\n",
    "\tnumbering=true\n",
    "\tanchor=true\n",
    "\tflat=false\n",
    "\tminLevel=2\n",
    "\tmaxLevel=6\n",
    "\t/vscode-jupyter-toc-config -->\n",
    "<!-- THIS CELL WILL BE REPLACED ON TOC UPDATE. DO NOT WRITE YOUR TEXT IN THIS CELL -->"
   ]
  },
  {
   "attachments": {},
   "cell_type": "markdown",
   "metadata": {},
   "source": [
    "*Imports and set magics:*"
   ]
  },
  {
   "cell_type": "code",
   "execution_count": 1,
   "metadata": {},
   "outputs": [],
   "source": [
    "import numpy as np\n",
    "import matplotlib.pyplot as plt\n",
    "import sympy as sm\n",
    "from types import SimpleNamespace\n",
    "from scipy import optimize\n",
    "\n",
    "# Predefine options for all plots\n",
    "plt.rcParams.update({\"axes.grid\":True,\"grid.color\":\"black\",\"grid.alpha\":\"0.25\",\"grid.linestyle\":\"-\"})\n",
    "plt.rcParams.update({'font.size': 14})\n",
    "\n",
    "# autoreload modules when code is run. Otherwise, python will not see recent changes. \n",
    "%load_ext autoreload\n",
    "%autoreload 2\n",
    "\n",
    "# Importing our own code\n",
    "from examproject import question2\n",
    "q2 = question2()"
   ]
  },
  {
   "attachments": {},
   "cell_type": "markdown",
   "metadata": {},
   "source": [
    "# Introduction"
   ]
  },
  {
   "attachments": {},
   "cell_type": "markdown",
   "metadata": {},
   "source": [
    "**Insert introduction**"
   ]
  },
  {
   "attachments": {},
   "cell_type": "markdown",
   "metadata": {},
   "source": [
    "## 1. <a id='toc1_'></a>[Problem 1: Optimal taxation with government consumption](#toc0_)"
   ]
  },
  {
   "attachments": {},
   "cell_type": "markdown",
   "metadata": {},
   "source": [
    "\n",
    "Consider a worker choosing hours of labor, $L\\in[0,24]$, to maximize utility: \n",
    "\n",
    "$$\n",
    "\\begin{align*}\n",
    "V(w,\\tau,G)&=\\max_{L\\in[0,24]}\\ln\\left(C^{\\alpha}G^{1-\\alpha}\\right)-\\nu\\frac{L^{2}}{2}\\\\&\\text{s.t.}\\\\&C=\\kappa+(1-\\tau)wL\n",
    "\\end{align*}\n",
    "$$\n",
    "\n",
    "where \n",
    "\n",
    "* $C$ is *private* consumption with weight $\\alpha\\in(0,1)$.\n",
    "* $\\kappa > 0$ is the *free private* consumption component.\n",
    "* $C = (1-\\tau)wL$ is the *costly private* consumption component.\n",
    "* $w > 0 $ is the real wage.\n",
    "* $\\tau \\in (0,1)$ is the labor-income tax rate.\n",
    "* $G > 0 $ is *government* consumption with weight $1-\\alpha$.\n",
    "* $\\nu > 0$ is the disutility of labor scaling factor"
   ]
  },
  {
   "attachments": {},
   "cell_type": "markdown",
   "metadata": {},
   "source": [
    "\n",
    "The baseline parameters are:\n",
    "\n",
    "$$\n",
    "\\begin{align*}\n",
    "\\alpha &= 0.5\\\\\n",
    "\\kappa &= 1.0\\\\\n",
    "\\nu &= \\frac{1}{2\\cdot16^2} \\\\\n",
    "w &= 1.0 \\\\ \n",
    "\\tau &= 0.30 \\\\\n",
    "\\end{align*}\n",
    "$$"
   ]
  },
  {
   "attachments": {},
   "cell_type": "markdown",
   "metadata": {},
   "source": [
    "**Question 1:** Verify that the optimal labor supply choice is $L^{\\star}(\\tilde{w}) =\\frac{-\\kappa+\\sqrt{\\kappa^{2}+4\\frac{\\alpha}{\\nu}\\tilde{w}^2}}{2\\tilde{w}}$, where $\\tilde{w} = (1-\\tau)w$, for $G\\in\\left\\{1.0 , 2.0\\right\\}$."
   ]
  },
  {
   "cell_type": "code",
   "execution_count": 2,
   "metadata": {},
   "outputs": [],
   "source": [
    "# Parameters\n",
    "alpha, kappa, v, omega, tau, omega_2 = sm.symbols('alpha kappa v omega tau omega_2')\n",
    "\n",
    "# Variables\n",
    "G, C, L, = sm.symbols('G C L')"
   ]
  },
  {
   "cell_type": "code",
   "execution_count": 3,
   "metadata": {},
   "outputs": [
    {
     "data": {
      "text/latex": [
       "$\\displaystyle L \\omega_{2} + \\kappa$"
      ],
      "text/plain": [
       "L*omega_2 + kappa"
      ]
     },
     "execution_count": 3,
     "metadata": {},
     "output_type": "execute_result"
    }
   ],
   "source": [
    "# We define functions\n",
    "\n",
    "utility = sm.ln(C**alpha * G**(1-alpha))-v*(L**2/2)\n",
    "constraint = kappa + (1-tau)*omega*L\n",
    "constraint_subs = constraint.subs((1-tau)*omega, omega_2)\n",
    "constraint_subs"
   ]
  },
  {
   "cell_type": "code",
   "execution_count": 4,
   "metadata": {},
   "outputs": [
    {
     "data": {
      "text/latex": [
       "$\\displaystyle - \\frac{L^{2} v}{2} + \\log{\\left(G^{1 - \\alpha} \\left(L \\omega_{2} + \\kappa\\right)^{\\alpha} \\right)}$"
      ],
      "text/plain": [
       "-L**2*v/2 + log(G**(1 - alpha)*(L*omega_2 + kappa)**alpha)"
      ]
     },
     "execution_count": 4,
     "metadata": {},
     "output_type": "execute_result"
    }
   ],
   "source": [
    "utility_subs = utility.subs(C, constraint_subs)\n",
    "utility_subs"
   ]
  },
  {
   "cell_type": "code",
   "execution_count": 5,
   "metadata": {},
   "outputs": [
    {
     "data": {
      "text/latex": [
       "$\\displaystyle \\frac{- L v \\left(L \\omega_{2} + \\kappa\\right) + \\alpha \\omega_{2}}{L \\omega_{2} + \\kappa}$"
      ],
      "text/plain": [
       "(-L*v*(L*omega_2 + kappa) + alpha*omega_2)/(L*omega_2 + kappa)"
      ]
     },
     "execution_count": 5,
     "metadata": {},
     "output_type": "execute_result"
    }
   ],
   "source": [
    "# We solve FOC for L\n",
    "foc = sm.diff(utility_subs, L)\n",
    "foc\n",
    "foc2 = sm.simplify(foc)\n",
    "foc2"
   ]
  },
  {
   "cell_type": "code",
   "execution_count": 6,
   "metadata": {},
   "outputs": [
    {
     "data": {
      "text/latex": [
       "$\\displaystyle \\frac{- \\kappa v - \\sqrt{v \\left(4 \\alpha \\omega_{2}^{2} + \\kappa^{2} v\\right)}}{2 \\omega_{2} v}$"
      ],
      "text/plain": [
       "(-kappa*v - sqrt(v*(4*alpha*omega_2**2 + kappa**2*v)))/(2*omega_2*v)"
      ]
     },
     "execution_count": 6,
     "metadata": {},
     "output_type": "execute_result"
    }
   ],
   "source": [
    "L_star = sm.solve(foc2, L)\n",
    "L_star[0]\n"
   ]
  },
  {
   "cell_type": "code",
   "execution_count": 7,
   "metadata": {},
   "outputs": [
    {
     "data": {
      "text/latex": [
       "$\\displaystyle \\frac{- \\kappa + \\sqrt{\\frac{4 \\alpha \\omega_{2}}{v} + \\kappa^{2}}}{2 \\omega_{2}}$"
      ],
      "text/plain": [
       "(-kappa + sqrt(4*alpha*omega_2/v + kappa**2))/(2*omega_2)"
      ]
     },
     "execution_count": 7,
     "metadata": {},
     "output_type": "execute_result"
    }
   ],
   "source": [
    "# We define the answer, as sympy is not able to solve the equation properly\n",
    "L_star_omega2 = (-kappa+sm.sqrt(kappa**2+4*alpha/v*omega_2))/(2*omega_2)\n",
    "L_star_omega2"
   ]
  },
  {
   "attachments": {},
   "cell_type": "markdown",
   "metadata": {},
   "source": [
    "**Question 2:** Illustrate how $L^{\\star}(\\tilde{w})$ depends on $w$."
   ]
  },
  {
   "cell_type": "code",
   "execution_count": 8,
   "metadata": {},
   "outputs": [],
   "source": [
    "L_star_func = sm.lambdify((kappa, alpha, v, omega_2), L_star_omega2)\n",
    "\n",
    "L_vec = []\n",
    "for omega in range(1, 10):\n",
    "    omega_val = 0.1*omega\n",
    "    tau = 0.3\n",
    "    omega_tilde = (1-tau)*omega_val\n",
    "    L_val = L_star_func(1, 0.5, 1/(2*16**2), omega_tilde)\n",
    "    L_vec.append(L_val)\n",
    "\n",
    "omega_vec = np.linspace(0.1, len(L_vec), len(L_vec))"
   ]
  },
  {
   "cell_type": "code",
   "execution_count": 9,
   "metadata": {},
   "outputs": [
    {
     "data": {
      "image/png": "[encoded data removed]",
      "text/plain": [
       "<Figure size 900x400 with 1 Axes>"
      ]
     },
     "metadata": {},
     "output_type": "display_data"
    }
   ],
   "source": [
    "# We plot the figure\n",
    "fig1 = plt.figure(figsize=(9, 4))\n",
    "ax = fig1.add_subplot(1, 1, 1)\n",
    "\n",
    "ax.plot(omega_vec, L_vec, ls='-', lw=2, color='blue')\n",
    "\n",
    "ax.set_xlabel('$\\omega_{tilde}$')\n",
    "ax.set_ylabel('$ L^* $')\n",
    "ax.set_title('Relationship between labour supply and disposable real wage \\n');"
   ]
  },
  {
   "attachments": {},
   "cell_type": "markdown",
   "metadata": {},
   "source": [
    "\n",
    "We now consider a government, who chooses $\\tau$ and spend all of the taxes on government consumption so:\n",
    "\n",
    "$$\n",
    "G = \\tau w L^{\\star}((1-\\tau)w)\n",
    "$$\n",
    "\n",
    "**Question 3:** Plot the implied $L$, $G$ and worker utility for a grid of $\\tau$-values.\n"
   ]
  },
  {
   "cell_type": "code",
   "execution_count": 10,
   "metadata": {},
   "outputs": [],
   "source": [
    "# Define baseline parameters\n",
    "par = SimpleNamespace()\n",
    "par.alpha = 0.5\n",
    "par.kappa = 1\n",
    "par.v = 1/(2*16^2)\n",
    "par.omega = 1\n",
    "par.tau = 0.3"
   ]
  },
  {
   "cell_type": "code",
   "execution_count": 11,
   "metadata": {},
   "outputs": [
    {
     "data": {
      "image/png": "[encoded data removed]",
      "text/plain": [
       "<Figure size 1000x800 with 1 Axes>"
      ]
     },
     "metadata": {},
     "output_type": "display_data"
    }
   ],
   "source": [
    "import numpy as np\n",
    "import matplotlib.pyplot as plt\n",
    "from mpl_toolkits.mplot3d import Axes3D\n",
    "\n",
    "# Generate data for the plot\n",
    "tau_values = np.linspace(0.001, 0.999, 100)\n",
    "\n",
    "# Create empty lists to store the data that we are going to plot\n",
    "L_vec = []\n",
    "G_vec = []\n",
    "tau_vec = []\n",
    "utility_vec = []\n",
    "\n",
    "for tau_val in tau_values:\n",
    "    tau_vec.append(tau_val)\n",
    "    omega_tilde = (1-tau_val)*par.omega\n",
    "    L_val = L_star_func(par.kappa, par.alpha, par.v, omega_tilde)\n",
    "    L_vec.append(L_val)\n",
    "    G_val = tau_val*par.omega*L_val*((1-tau_val)*par.omega)\n",
    "    G_vec.append(G_val)\n",
    "    u_val = np.log(G_val**(1-par.alpha)*(par.kappa+(1-tau_val)*par.omega*L_val)) - par.v*(L_val**2/2)\n",
    "    utility_vec.append(u_val)\n",
    "\n",
    "\n",
    "# Create plot\n",
    "fig = plt.figure(figsize=(10,8))\n",
    "ax = fig.add_subplot(1,1,1)\n",
    "ax.plot(tau_vec, L_vec, label='Labor Supply')\n",
    "ax.plot(tau_vec, G_vec, label='Government Consumption')\n",
    "ax.plot(tau_vec, utility_vec, label='Utility')\n",
    "\n",
    "\n",
    "# Set labels and title\n",
    "ax.set_xlabel('Tax Rate (tau)')\n",
    "ax.set_ylabel('Government Consumption, Labor Supply, and Worker Utility')\n",
    "ax.set_title('Relationship between Tax Rate, Government Consumption, Labor Supply, and Worker Utility')\n",
    "\n",
    "# Add a legend\n",
    "ax.legend()\n",
    "\n",
    "# Show the plot\n",
    "plt.show();"
   ]
  },
  {
   "attachments": {},
   "cell_type": "markdown",
   "metadata": {},
   "source": [
    "**Question 4:** Find the socially optimal tax rate $\\tau^{\\star}\\in(0,1)$ maximizing worker utility. Illustrate your result."
   ]
  },
  {
   "cell_type": "code",
   "execution_count": 12,
   "metadata": {},
   "outputs": [
    {
     "data": {
      "text/latex": [
       "$\\displaystyle \\log{\\left(\\left(\\frac{8.505 \\left(- \\kappa + \\sqrt{\\frac{4 \\alpha \\omega_{2}}{v} + \\kappa^{2}}\\right)}{\\omega_{2}}\\right)^{1 - \\alpha} \\left(\\kappa + \\frac{\\omega \\left(1 - \\tau\\right) \\left(- \\kappa + \\sqrt{\\frac{4 \\alpha \\omega_{2}}{v} + \\kappa^{2}}\\right)}{2 \\omega_{2}}\\right)^{\\alpha} \\right)} - \\frac{v \\left(- \\kappa + \\sqrt{\\frac{4 \\alpha \\omega_{2}}{v} + \\kappa^{2}}\\right)^{2}}{8 \\omega_{2}^{2}}$"
      ],
      "text/plain": [
       "log((8.505*(-kappa + sqrt(4*alpha*omega_2/v + kappa**2))/omega_2)**(1 - alpha)*(kappa + omega*(1 - tau)*(-kappa + sqrt(4*alpha*omega_2/v + kappa**2))/(2*omega_2))**alpha) - v*(-kappa + sqrt(4*alpha*omega_2/v + kappa**2))**2/(8*omega_2**2)"
      ]
     },
     "execution_count": 12,
     "metadata": {},
     "output_type": "execute_result"
    }
   ],
   "source": [
    "utility_subs_new = utility.subs(C, constraint)\n",
    "gov_cons = tau*omega*L*((1-tau)*omega)\n",
    "utility_subs_new2 = utility_subs_new.subs(G, gov_cons)\n",
    "utility_subs_new3 = utility_subs_new2.subs(L, L_star_omega2)\n",
    "utility_subs_new3\n"
   ]
  },
  {
   "cell_type": "code",
   "execution_count": 13,
   "metadata": {},
   "outputs": [],
   "source": [
    "# We solve FOC for tau\n",
    "#foc = sm.diff(utility_subs_new3, tau)\n",
    "#foc"
   ]
  },
  {
   "attachments": {},
   "cell_type": "markdown",
   "metadata": {},
   "source": [
    "A more general preference formulation for the worker is:\n",
    "\n",
    "$$\n",
    "\\begin{align*}\n",
    "\\mathcal{V}(w,\\tau,G)&=\\max_{L\\in[0,24]}\\frac{\\left[ \\left( \\alpha C^{\\frac{\\sigma-1}{\\sigma}}+(1-\\alpha) G^{\\frac{\\sigma-1}{\\sigma}} \\right)^{\\frac{\\sigma}{1-\\sigma} }\\right]^{1-\\rho}-1}{1-\\rho}- \\nu\\frac{L^{1+\\varepsilon}}{1+\\varepsilon},\\,\\,\\,\\varepsilon,\\rho,\\sigma>0,\\,\\,\\,\\rho,\\sigma\\neq1\\\\&\\text{s.t.}\\\\&C=\\kappa+(1-\\tau)wL\n",
    "\\end{align*}    \n",
    "$$\n",
    "\n",
    "Optimal labor supply is now $L^{\\star}(\\tilde{w},G)$."
   ]
  },
  {
   "attachments": {},
   "cell_type": "markdown",
   "metadata": {},
   "source": [
    "Questions 5 and 6 must be answered with the general formulation, and for 2 different set of parameters:\n",
    "\n",
    "- Set 1:  $\\sigma = 1.001$, $\\rho = 1.001$ and $\\varepsilon = 1.0$.\n",
    "- Set 2:  $\\sigma = 1.5$, $\\rho = 1.5$ and $\\varepsilon = 1.0 $."
   ]
  },
  {
   "attachments": {},
   "cell_type": "markdown",
   "metadata": {},
   "source": [
    "**Question 5:** Find the $G$ that solves $G = \\tau w L^{\\star}((1-\\tau)w,G)$ using the $\\tau$ found in question 4.\n",
    "\n",
    "*Hint: First write code that solves the worker problem for given values of $G$ and $\\tau$. Then find the correct G based on this.*"
   ]
  },
  {
   "cell_type": "code",
   "execution_count": null,
   "metadata": {},
   "outputs": [],
   "source": []
  },
  {
   "attachments": {},
   "cell_type": "markdown",
   "metadata": {},
   "source": [
    "**Question 6:** Find the socially optimal tax rate, $\\tau^{\\star}$, maximizing worker utility, while keeping $G = \\tau w L^{\\star}((1-\\tau)w,G)$."
   ]
  },
  {
   "cell_type": "code",
   "execution_count": null,
   "metadata": {},
   "outputs": [],
   "source": []
  },
  {
   "attachments": {},
   "cell_type": "markdown",
   "metadata": {},
   "source": [
    "## 2. <a id='toc2_'></a>[Problem 2: Labor adjustment costs](#toc0_)"
   ]
  },
  {
   "attachments": {},
   "cell_type": "markdown",
   "metadata": {},
   "source": [
    "You own a hair salon. You employ hairdressers, $\\ell_t$, to produce haircuts, $y_t = \\ell_t$.\n",
    "\n",
    "The wage for each hairdresser is $w$.\n",
    "\n",
    "The demand for haircuts implies that the price of haircuts you can charge is $p_t = \\kappa_t y_t^{-\\eta}$, where $\\kappa_t$ is a demand-shock and $\\eta \\in (0,1)$ measures the elasticity of demand.\n",
    "\n",
    "Profits are:\n",
    "\n",
    "$$\n",
    "\\Pi_t = p_t y_t - w \\ell_t = \\kappa_t \\ell_t^{1-\\eta} - w \\ell_t\n",
    "$$"
   ]
  },
  {
   "attachments": {},
   "cell_type": "markdown",
   "metadata": {},
   "source": [
    "Baseline parameters are:\n",
    "- $\\eta = 0.5$\n",
    "- $w = 1.0$"
   ]
  },
  {
   "attachments": {},
   "cell_type": "markdown",
   "metadata": {},
   "source": [
    "**Question 1:** Verify numerically that $\\ell_{t}=\\left(\\frac{(1-\\eta)\\kappa_{t}}{w}\\right)^{\\frac{1}{\\eta}}$ maximises profits, for $\\kappa\\in\\left\\{1.0 , 2.0\\right\\}$."
   ]
  },
  {
   "cell_type": "code",
   "execution_count": 14,
   "metadata": {},
   "outputs": [],
   "source": [
    "# Importing class\n",
    "q2 = question2()"
   ]
  },
  {
   "cell_type": "code",
   "execution_count": 17,
   "metadata": {},
   "outputs": [
    {
     "name": "stdout",
     "output_type": "stream",
     "text": [
      "kappa = 1.0 gives optimal l = 0.26 and given solution is 0.26\n",
      "kappa = 1.2 gives optimal l = 0.36 and given solution is 0.36\n",
      "kappa = 1.4 gives optimal l = 0.49 and given solution is 0.49\n",
      "kappa = 1.6 gives optimal l = 0.64 and given solution is 0.64\n",
      "kappa = 1.8 gives optimal l = 0.81 and given solution is 0.81\n",
      "kappa = 2.0 gives optimal l = 0.99 and given solution is 0.99\n"
     ]
    }
   ],
   "source": [
    "# Importing class\n",
    "q2 = question2()\n",
    "\n",
    "# Define different values for kappa\n",
    "kappa_vec = [1.01, 1.2, 1.4, 1.6, 1.8, 1.99]\n",
    "\n",
    "# Check if optimal value matches given solution\n",
    "q2.check_numerical(kappa_vec)"
   ]
  },
  {
   "attachments": {},
   "cell_type": "markdown",
   "metadata": {},
   "source": [
    "We now consider a *dynamic* version of the model.\n",
    "\n",
    "* The demand-shock is a so-called AR(1) in logs, \n",
    "\n",
    "$$\n",
    "\\log \\kappa_{t} = \\rho \\log \\kappa_{t-1} + \\epsilon_{t},\\,\\,\\, \\epsilon_{t+1} \\sim \\mathcal{N}(-0.5\\sigma_{\\epsilon}^2,\\sigma_{\\epsilon})\n",
    "$$\n",
    "\n",
    "* Any hiring or firing implies a fixed adjustment cost, $\\iota > 0 $.\n",
    "* Future profits are discounted with a monthly factor of $R \\in (0,1)$.\n",
    "\n",
    "The initial demand shock is $\\kappa_{-1} = 1$ and the planning horizon is 10 years, i.e. 120 months so $t \\in \\{0,1,2,\\dots,119\\}$. Initially you don't have any employees, $\\ell_{-1}=0$"
   ]
  },
  {
   "attachments": {},
   "cell_type": "markdown",
   "metadata": {},
   "source": [
    "\n",
    "The *ex post* value of the salon is *conditional* on the shock series is:\n",
    "\n",
    "$$\n",
    "h(\\epsilon_0,\\epsilon_1,\\dots,\\epsilon_{119}) = \\left[\\sum_{t=0}^{119}R^{-t}\\left[\\kappa_{t}\\ell_{t}^{1-\\eta}-w\\ell_{t}-\\boldsymbol{1}_{\\ell_{t}\\neq\\ell_{t-1}}\\iota\\right]\\right]\n",
    "$$\n",
    "\n",
    "The *ex ante* expected value of the salon can be approximated by\n",
    "\n",
    "$$\n",
    "H = \\mathbb{E}[h(\\epsilon_0,\\epsilon_1,\\dots,\\epsilon_{119})] \\approx \\frac{1}{K}\\sum_{k=0}^{K} h(\\epsilon_0^k,\\epsilon_1^k,\\dots,\\epsilon_{119}^k)\n",
    "$$\n",
    "\n",
    "where each $k\\in\\{0,1,\\dots,K-1\\}$ is a random shock series. Maximizing profitability means maximizing $H$.\n"
   ]
  },
  {
   "attachments": {},
   "cell_type": "markdown",
   "metadata": {},
   "source": [
    "Baseline parameters are: \n",
    "\n",
    "- $\\rho = 0.90$\n",
    "- $\\iota = 0.01$\n",
    "- $\\sigma_{\\epsilon} = 0.10$\n",
    "- $R = \\left(1+0.01\\right)^{1/12}$"
   ]
  },
  {
   "attachments": {},
   "cell_type": "markdown",
   "metadata": {},
   "source": [
    "**Question 2:** Calculate $H$ if the policy  $\\ell_{t}=\\left(\\frac{(1-\\eta)\\kappa_{t}}{w}\\right)^{\\frac{1}{\\eta}}$ from question 1 is followed. Choose $K$ so the approximation is good enough to not affect your results substantially."
   ]
  },
  {
   "cell_type": "code",
   "execution_count": 22,
   "metadata": {},
   "outputs": [
    {
     "name": "stdout",
     "output_type": "stream",
     "text": [
      "The ex ante value of the hair salon is 21.55\n"
     ]
    }
   ],
   "source": [
    "# Calculate demand shock\n",
    "log_kappa = q2.demand_shock()\n",
    "\n",
    "# Define policy vector\n",
    "l_start = np.ones(q2.par2.n)\n",
    "l_vec1 = l_start[:]*(((1-q2.par2.eta)*np.exp(log_kappa))/q2.par2.w)**(1/q2.par2.eta)\n",
    "\n",
    "# Set initial labor to 0\n",
    "l_vec1[0] = 0\n",
    "\n",
    "# Define number of shock series\n",
    "K = 10\n",
    "\n",
    "# Calculate ex-ante value\n",
    "q2.ex_ante_value(K,l_vec1,do_print=True)"
   ]
  },
  {
   "cell_type": "code",
   "execution_count": 21,
   "metadata": {},
   "outputs": [
    {
     "name": "stdout",
     "output_type": "stream",
     "text": [
      "K = 10.0 gives value = 21.55\n",
      "K = 15.0 gives value = 22.26\n",
      "K = 20.0 gives value = 22.68\n",
      "K = 25.0 gives value = 22.88\n",
      "K = 30.0 gives value = 23.04\n",
      "K = 35.0 gives value = 23.16\n",
      "K = 40.0 gives value = 23.29\n",
      "K = 45.0 gives value = 23.31\n",
      "K = 50.0 gives value = 23.33\n",
      "K = 55.0 gives value = 23.37\n",
      "K = 60.0 gives value = 23.41\n",
      "K = 65.0 gives value = 23.43\n",
      "K = 70.0 gives value = 23.43\n",
      "K = 75.0 gives value = 23.46\n",
      "K = 80.0 gives value = 23.50\n",
      "K = 85.0 gives value = 23.53\n",
      "K = 90.0 gives value = 23.53\n",
      "K = 95.0 gives value = 23.55\n",
      "K = 100.0 gives value = 23.55\n"
     ]
    }
   ],
   "source": [
    "# Show that different K's does not change resuts substantially\n",
    "for K in range(10,105,5):\n",
    "    val_salon = q2.ex_ante_value(K,l_vec1)\n",
    "    print(f'K = {K:.1f} gives value = {val_salon:.2f}')"
   ]
  },
  {
   "attachments": {},
   "cell_type": "markdown",
   "metadata": {},
   "source": [
    "Next, we consider policies on the form:\n",
    "\n",
    "$$\n",
    "\n",
    "\\ell_{t}=\\begin{cases}\n",
    "\\ell_t^{\\ast}  & \\text{if }\\left|\\ell_{t-1}-\\ell_t^{\\ast} \\right|>\\Delta\\\\\n",
    "\\ell_{t-1} & \\text{else }\n",
    "\\end{cases}\n",
    "\\\\\n",
    "\\text{where}\\,\\,\\ell_t^{\\ast} = \\left(\\frac{(1-\\eta)\\kappa_{t}}{w}\\right)^{\\frac{1}{\\eta}} \\\\\n",
    "\n",
    "$$\n",
    "With $\\Delta \\geq 0$ and $\\Delta = 0$ being the previous policy.\n"
   ]
  },
  {
   "attachments": {},
   "cell_type": "markdown",
   "metadata": {},
   "source": [
    "\n",
    "**Question 3:** Calculate $H$ if the policy above was followed with $\\Delta = 0.05$. Does it improve profitability?"
   ]
  },
  {
   "cell_type": "code",
   "execution_count": 24,
   "metadata": {},
   "outputs": [
    {
     "name": "stdout",
     "output_type": "stream",
     "text": [
      "q2: 21.55 and q3: 22.22\n"
     ]
    }
   ],
   "source": [
    "# Defining the new policy vector\n",
    "l_vec2 = q2.l_vec2(0.05)\n",
    "\n",
    "# Calculate ex-ante values for different policies\n",
    "q3 = q2.ex_ante_value(10,l_vec2)\n",
    "q2 = q2.ex_ante_value(10,l_vec1)\n",
    "\n",
    "# Compare results\n",
    "print(f'q2: {q2:.2f} and q3: {q3:.2f}')"
   ]
  },
  {
   "attachments": {},
   "cell_type": "markdown",
   "metadata": {},
   "source": [
    "**Question 4:** Find the optimal $\\Delta$ maximizing $H$. Illustrate your result."
   ]
  },
  {
   "cell_type": "code",
   "execution_count": 26,
   "metadata": {},
   "outputs": [
    {
     "name": "stdout",
     "output_type": "stream",
     "text": [
      "optimal delta: 0.055\n"
     ]
    }
   ],
   "source": [
    "# Importing class\n",
    "q2 = question2()\n",
    "\n",
    "q2.value_opt(do_print=True)"
   ]
  },
  {
   "cell_type": "code",
   "execution_count": null,
   "metadata": {},
   "outputs": [],
   "source": [
    "# Define function\n",
    "def value_opt(par2,do_print=False):\n",
    "\n",
    "    def obj(delta):\n",
    "        return -value(10,l_vec2(delta))\n",
    "\n",
    "    delta0 = [0.05]\n",
    "    res = optimize.minimize(obj,delta0,method='Nelder-Mead')\n",
    "        \n",
    "    # b. save\n",
    "    delta_star = res.x[0]\n",
    "\n",
    "    if do_print:\n",
    "        print(f'optimal delta: {delta_star:.3f}')\n",
    "    else:\n",
    "        return delta_star\n",
    "\n",
    "value_opt(par2,do_print=True)"
   ]
  },
  {
   "cell_type": "code",
   "execution_count": null,
   "metadata": {},
   "outputs": [],
   "source": [
    "# Generate data for the plot\n",
    "delta_values = np.linspace(0.001, 0.999, 100)\n",
    "\n",
    "# Create empty lists to store the data that we are going to plot\n",
    "value_vec = []\n",
    "\n",
    "\n",
    "for delta_val in delta_values:\n",
    "    value_val = value(10,l_vec2(delta_val))\n",
    "    value_vec.append(value_val)\n",
    "\n",
    "opt_delta = value_opt(par2)\n",
    "val_opt_delta = value(10,l_vec2(opt_delta))\n",
    "\n",
    "# Create plot\n",
    "fig = plt.figure(figsize=(7,4))\n",
    "ax = fig.add_subplot(1,1,1)\n",
    "ax.plot(delta_values, value_vec, label='Value')\n",
    "ax.scatter(opt_delta, val_opt_delta, label='Optimal delta')\n",
    "\n",
    "\n",
    "\n",
    "# Set labels and title\n",
    "ax.set_xlabel('Delta')\n",
    "ax.set_ylabel('Value')\n",
    "ax.set_title('Value of hair salon for different delta values')\n",
    "\n",
    "# Add a legend\n",
    "ax.legend()\n",
    "\n",
    "# Show the plot\n",
    "plt.show();"
   ]
  },
  {
   "attachments": {},
   "cell_type": "markdown",
   "metadata": {},
   "source": [
    "\n",
    "**Question 5:** Suggest an alternative policy you believe might improve profitability. Implement and test your policy.\n",
    "\n"
   ]
  },
  {
   "cell_type": "code",
   "execution_count": null,
   "metadata": {},
   "outputs": [],
   "source": [
    "def l_vec3(factor):\n",
    "    l_vec3 = np.zeros_like(l_star)\n",
    "    l_vec3[0] = 0\n",
    "    for i in range(1, len(l_vec3)):\n",
    "        if i < 12:\n",
    "            l_vec3[i] = l_star[i]*factor\n",
    "        else:\n",
    "            l_vec3[i] = l_star[i]\n",
    "    return l_vec3\n",
    "\n",
    "q4 = value(10,l_vec3(1.5))\n",
    "q2 = value(10,l_vec1)\n",
    "\n",
    "print(f'q2: {q2:.2f} and q4: {q4:.2f}')"
   ]
  },
  {
   "attachments": {},
   "cell_type": "markdown",
   "metadata": {},
   "source": [
    "## 3. <a id='toc3_'></a>[Problem 3: Global optimizer with refined multi-start](#toc0_)"
   ]
  },
  {
   "attachments": {},
   "cell_type": "markdown",
   "metadata": {},
   "source": [
    "We consider the Griewank function:\n",
    "\n",
    "$$ f(\\boldsymbol{x}) = \\sum^n_{i=1} \\frac{x^2_i}{4000}-\\prod^n_{i=1}\\cos\\left(\\frac{x_i}{\\sqrt{i}}\\right)+1$$\n",
    "\n",
    "The **global minimum** of this function is $f(0,0) = 0$ (remember: $\\cos(0)=1$).<br>\n",
    "But the function also have a lot of **local minima**."
   ]
  },
  {
   "cell_type": "code",
   "execution_count": null,
   "metadata": {},
   "outputs": [],
   "source": [
    "def griewank(x):\n",
    "    return griewank_(x[0],x[1])\n",
    "    \n",
    "def griewank_(x1,x2):\n",
    "    A = x1**2/4000 + x2**2/4000\n",
    "    B = np.cos(x1/np.sqrt(1))*np.cos(x2/np.sqrt(2))\n",
    "    return A-B+1"
   ]
  },
  {
   "attachments": {},
   "cell_type": "markdown",
   "metadata": {},
   "source": [
    "A **refined global optimizer with multi-start** is:\n",
    "\n",
    "1. Choose *bounds* for $\\mathbf{x}$ and *tolerance* $\\tau > 0$.\n",
    "2. Choose number of *warm-up iterations*, $\\underline{K} > 0$ and *maximum number of iterations*, $K > \\underline{K}$.\n",
    "3. In each iteration for $k \\in \\{0,1,\\dots,K-1\\}$:\n",
    "\n",
    "    A. Draw random $\\mathbf{x}^k$ uniformly within chosen bounds.\n",
    "\n",
    "    B. If $k < \\underline{K}$ go to step E.\n",
    "\n",
    "    C. Calculate $\\chi^k = 0.50\\cdot\\frac{2}{1+\\exp((k-\\underline{K})/100)}$  \n",
    "\n",
    "    D. Set $\\mathbf{x}^{k0} = \\chi^k \\mathbf{x}^k + (1-\\chi^k)\\mathbf{x}^{\\ast} $\n",
    "\n",
    "    E. Run optimizer with $\\mathbf{x}^{k0}$ as initial guess and $\\mathbf{x}^{k\\ast}$ as result.\n",
    "\n",
    "    F. Set $\\mathbf{x}^{\\ast} = \\mathbf{x}^{k\\ast}$ if $k = 0$ or $f(\\mathbf{x}^{k\\ast}) < f(\\mathbf{x}^{\\ast})$\n",
    "\n",
    "    G. If $f(\\mathbf{x}^{\\ast}) < \\tau$ go to step 4.\n",
    "\n",
    "4. Return the result $\\mathbf{x}^{\\ast}$."
   ]
  },
  {
   "attachments": {},
   "cell_type": "markdown",
   "metadata": {},
   "source": [
    "As settings we choose:\n",
    "\n",
    "* $x_1,x_2 \\in  [-600,600]$\n",
    "* $\\tau = 10^{-8}$\n",
    "* $\\underline{K}=10$\n",
    "* $K=1000$\n",
    "\n",
    "The optimizer in Step 3.E is `BFGS` with a tolerance of $\\tau$."
   ]
  },
  {
   "attachments": {},
   "cell_type": "markdown",
   "metadata": {},
   "source": [
    "**Question 1:** Implement the refined global optimizer with multi-start. Illustrate how the effective initial guesses $\\mathbf{x}^{k0}$ vary with the iteration counter $k$."
   ]
  },
  {
   "cell_type": "code",
   "execution_count": null,
   "metadata": {},
   "outputs": [],
   "source": [
    "# xxxx\n",
    "def refined_global_optimizer(bounds, tolerance, warmup_iters, max_iters):\n",
    "    # Step 1: Choose bounds for x and tolerance\n",
    "    x_bounds = bounds\n",
    "    tau = tolerance\n",
    "    \n",
    "    # Step 2: Choose warm-up and maximum iterations\n",
    "    K_warmup = warmup_iters\n",
    "    K_max = max_iters\n",
    "    \n",
    "    # Step 3: Iterations\n",
    "\n",
    "    # Initialize x_star\n",
    "    x_star = None\n",
    "\n",
    "    # Create empty list to store x_k0\n",
    "    x_k0_vec = []\n",
    "\n",
    "    for k in range(K_max):\n",
    "        # Step 3A: Draw random x^k uniformly within chosen bounds\n",
    "        x_k = np.random.uniform(bounds[0], bounds[1], size=2)\n",
    "        \n",
    "        if k < K_warmup:\n",
    "            # Step 3E: Run optimizer with x^k as initial guess\n",
    "            res = optimize.minimize(griewank, x_k, method='BFGS', tol=tau)\n",
    "            x_k_star = res.x\n",
    "            x_k0_vec.append(x_k_star)\n",
    "\n",
    "        else:\n",
    "            # Step 3C: Calculate chi^k\n",
    "            chi_k = 0.5 * (2 / (1 + np.exp((k - K_warmup) / 100)))\n",
    "            \n",
    "            # Step 3D: Calculate x_k0\n",
    "            x_k0 = chi_k * x_k + (1 - chi_k) * x_star\n",
    "            x_k0_vec.append(x_k0)\n",
    "            \n",
    "            # Step 3E: Run optimizer with x_k0 as initial guess\n",
    "            res = optimize.minimize(griewank, x_k0, method='BFGS', tol=tau) \n",
    "            x_k_star = res.x\n",
    "        \n",
    "        # Step 3F: Update x_star if necessary\n",
    "        if k==0 or griewank(x_k_star) < griewank(x_star):\n",
    "            x_star = x_k_star\n",
    "        \n",
    "        # Step 3G: Check termination condition\n",
    "        if griewank(x_star) < tau:\n",
    "            nit = k\n",
    "            break\n",
    "    \n",
    "    # Step 4: Return the result x_star\n",
    "    return x_star, x_k0_vec, nit\n",
    "\n",
    "\n",
    "# Choose bounds, tolerance, warmup and maximum iterations\n",
    "bounds = [-600, 600]\n",
    "tolerance = 1e-8\n",
    "warmup_iters = 10\n",
    "max_iters = 1000\n",
    "\n",
    "# Run the refined global optimizer\n",
    "np.random.seed(300)\n",
    "result = refined_global_optimizer(bounds, tolerance, warmup_iters, max_iters)\n",
    "\n",
    "# Print the result\n",
    "print(\"Optimal solution:\", result[0])\n"
   ]
  },
  {
   "cell_type": "code",
   "execution_count": null,
   "metadata": {},
   "outputs": [],
   "source": [
    "print(\"Optimal solution:\", result[2])\n"
   ]
  },
  {
   "cell_type": "code",
   "execution_count": null,
   "metadata": {},
   "outputs": [],
   "source": [
    "x_k0_vec = result[1]\n",
    "x_k0_vec\n",
    "\n",
    "x1_vec = [point[0] for point in x_k0_vec]  # Extract the first element (x1) from each point\n",
    "x2_vec = [point[1] for point in x_k0_vec]  # Extract the second element (x2) from each point\n",
    "\n",
    "# Create plot\n",
    "fig = plt.figure(figsize=(7,4))\n",
    "ax = fig.add_subplot(1,1,1)\n",
    "plt.scatter(np.arange(len(x1_vec)), x1_vec, label='x1')\n",
    "plt.scatter(np.arange(len(x2_vec)), x2_vec, label='x2')\n",
    "\n",
    "# Set labels and title\n",
    "ax.set_xlabel('Iteration number')\n",
    "ax.set_ylabel('Value for x1 and x2')\n",
    "ax.set_title('Variation in effective intital guess for each iteration')\n",
    "\n",
    "# Add a legend\n",
    "ax.legend()\n",
    "\n",
    "# Show the plot\n",
    "plt.show();"
   ]
  },
  {
   "attachments": {},
   "cell_type": "markdown",
   "metadata": {},
   "source": [
    "**Question 2:** Is it a better idea to set $\\underline{K} = 100$? Is the convergence faster?"
   ]
  },
  {
   "cell_type": "code",
   "execution_count": null,
   "metadata": {},
   "outputs": [],
   "source": [
    "warmup_iters = 100\n",
    "result = refined_global_optimizer(bounds, tolerance, warmup_iters, max_iters)\n",
    "result[2]"
   ]
  },
  {
   "attachments": {},
   "cell_type": "markdown",
   "metadata": {},
   "source": [
    "# Conclusion"
   ]
  },
  {
   "attachments": {},
   "cell_type": "markdown",
   "metadata": {},
   "source": [
    "**INSERT TEXT**"
   ]
  }
 ],
 "metadata": {
  "kernelspec": {
   "display_name": "base",
   "language": "python",
   "name": "python3"
  },
  "language_info": {
   "codemirror_mode": {
    "name": "ipython",
    "version": 3
   },
   "file_extension": ".py",
   "mimetype": "text/x-python",
   "name": "python",
   "nbconvert_exporter": "python",
   "pygments_lexer": "ipython3",
   "version": "3.9.16"
  },
  "orig_nbformat": 4
 },
 "nbformat": 4,
 "nbformat_minor": 2
}
